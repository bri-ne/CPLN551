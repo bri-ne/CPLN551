{
 "cells": [
  {
   "cell_type": "code",
   "execution_count": null,
   "id": "e3805c1f",
   "metadata": {},
   "outputs": [],
   "source": [
    "import pandas as pd\n",
    "import geopandas as gpd"
   ]
  },
  {
   "cell_type": "code",
   "execution_count": null,
   "id": "5f98d212",
   "metadata": {},
   "outputs": [],
   "source": [
    "summertrip2021 = pd.read_csv(r'.\\All_Routes_Trip_Summary_Summer2021.csv')\n",
    "falltrip2021 = pd.read_csv(r'.\\City_Trip_Summary_Fall2021.csv')"
   ]
  },
  {
   "cell_type": "code",
   "execution_count": null,
   "id": "01d57553",
   "metadata": {},
   "outputs": [],
   "source": [
    "list(summertrip2021.columns)"
   ]
  },
  {
   "cell_type": "code",
   "execution_count": null,
   "id": "fcdc9942",
   "metadata": {},
   "outputs": [],
   "source": [
    "summertrip2021 = summertrip2021.drop(columns=[\"Unnamed: 0\"])"
   ]
  },
  {
   "cell_type": "code",
   "execution_count": null,
   "id": "44be968b",
   "metadata": {},
   "outputs": [],
   "source": [
    "summertrip2021.head()"
   ]
  },
  {
   "cell_type": "code",
   "execution_count": null,
   "id": "36c5eb09",
   "metadata": {},
   "outputs": [],
   "source": [
    "codes=falltrip2021[\"Trip Code\"].unique()"
   ]
  },
  {
   "cell_type": "code",
   "execution_count": null,
   "id": "c58c7f92",
   "metadata": {
    "scrolled": true
   },
   "outputs": [],
   "source": [
    "for i in codes:\n",
    "    print(i)"
   ]
  },
  {
   "cell_type": "code",
   "execution_count": null,
   "id": "5b9d0ba5",
   "metadata": {},
   "outputs": [],
   "source": [
    "len(codes)"
   ]
  },
  {
   "cell_type": "code",
   "execution_count": null,
   "id": "2de17f78",
   "metadata": {},
   "outputs": [],
   "source": [
    "code_glimpse = trip2021.groupby(by=\"Trip Code\", as_index=False).count().sort_values(by=\"Route\", ascending=False)\n",
    "\n",
    "code_glimpse=code_glimpse[[\"Trip Code\", \"Route\"]]\n",
    "code_glimpse.head()"
   ]
  },
  {
   "cell_type": "code",
   "execution_count": null,
   "id": "18f9cf1b",
   "metadata": {},
   "outputs": [],
   "source": [
    "code_glimpse[\"Route\"].unique()"
   ]
  },
  {
   "cell_type": "code",
   "execution_count": null,
   "id": "a676cd6f",
   "metadata": {},
   "outputs": [],
   "source": [
    "bus_stops = pd.read_csv(r'.\\data\\bge_busstops.csv')"
   ]
  },
  {
   "cell_type": "code",
   "execution_count": null,
   "id": "2d10f3a5",
   "metadata": {},
   "outputs": [],
   "source": [
    "bus_stops = bus_stops.drop(columns=[\"the_geom_2272\", \"the_geom\"])"
   ]
  },
  {
   "cell_type": "code",
   "execution_count": null,
   "id": "9edec8d7",
   "metadata": {},
   "outputs": [],
   "source": [
    "xsect = bus_stops.loc[bus_stops[\"category\"] == \"intersection\"]\n",
    "xsect"
   ]
  },
  {
   "cell_type": "code",
   "execution_count": null,
   "id": "ffe422fe",
   "metadata": {},
   "outputs": [],
   "source": [
    "target = []\n",
    "\n",
    "for name in xsect.stop_name:\n",
    "    target.append(name)\n",
    "    \n",
    "print(target)"
   ]
  },
  {
   "cell_type": "code",
   "execution_count": null,
   "id": "0844e262",
   "metadata": {},
   "outputs": [],
   "source": [
    "targetlist = summertrip2021[\"Stop Seq.\"].apply(lambda sentence: any(word in sentence for word in target))"
   ]
  },
  {
   "cell_type": "code",
   "execution_count": null,
   "id": "1ab39969",
   "metadata": {},
   "outputs": [],
   "source": [
    "summerBGE = summertrip2021[targetlist]\n",
    "summerBGE.to_csv('summerBGE.csv', index=False)"
   ]
  },
  {
   "cell_type": "code",
   "execution_count": null,
   "id": "6ab7d2df",
   "metadata": {
    "scrolled": true
   },
   "outputs": [],
   "source": [
    "summerBGE[\"Stop Seq.\"].unique()"
   ]
  },
  {
   "cell_type": "markdown",
   "id": "d820a7d0",
   "metadata": {},
   "source": [
    "# row binding the two new DFs fall and summer bus stops"
   ]
  },
  {
   "cell_type": "code",
   "execution_count": null,
   "id": "5985a0d1",
   "metadata": {},
   "outputs": [],
   "source": [
    "summerBGE = pd.read_csv(r'.\\summerBGE.csv')\n",
    "fallBGE = pd.read_csv(r'.\\fallBGE.csv')"
   ]
  },
  {
   "cell_type": "code",
   "execution_count": null,
   "id": "1018d466",
   "metadata": {},
   "outputs": [],
   "source": [
    "allBGE = pd.concat([summerBGE, fallBGE])"
   ]
  },
  {
   "cell_type": "code",
   "execution_count": null,
   "id": "75a6007f",
   "metadata": {},
   "outputs": [],
   "source": [
    "len(allBGE)"
   ]
  },
  {
   "cell_type": "code",
   "execution_count": null,
   "id": "2fd50c14",
   "metadata": {},
   "outputs": [],
   "source": [
    "summer = len(summerBGE)\n",
    "fall = len(fallBGE)\n",
    "summer + fall"
   ]
  },
  {
   "cell_type": "markdown",
   "id": "e0eb16dc",
   "metadata": {},
   "source": [
    "### it worked! let's export"
   ]
  },
  {
   "cell_type": "code",
   "execution_count": null,
   "id": "1d1bb955",
   "metadata": {},
   "outputs": [],
   "source": [
    "allBGE.to_csv('allBGE.csv', index=False)"
   ]
  },
  {
   "cell_type": "code",
   "execution_count": null,
   "id": "a9bfecbd",
   "metadata": {
    "scrolled": true
   },
   "outputs": [],
   "source": [
    "allBGE.head()"
   ]
  },
  {
   "cell_type": "markdown",
   "id": "32e05121",
   "metadata": {},
   "source": [
    " # getting rid of the weird numbers in the stop seq"
   ]
  },
  {
   "cell_type": "code",
   "execution_count": null,
   "id": "d6561829",
   "metadata": {},
   "outputs": [],
   "source": [
    "allBGE = allBGE.rename(columns = {'Stop Seq.': 'StopSeq'}) "
   ]
  },
  {
   "cell_type": "code",
   "execution_count": null,
   "id": "7b38983d",
   "metadata": {},
   "outputs": [],
   "source": [
    "import re\n",
    "regex = re.compile('[^a-zA-Z]')"
   ]
  },
  {
   "cell_type": "code",
   "execution_count": null,
   "id": "019b575d",
   "metadata": {},
   "outputs": [],
   "source": [
    "stopseq = []\n",
    "for stop in allBGE.StopSeq: \n",
    "    newstop = re.sub(\"[^a-zA-Z]+\", \"\", stop)\n",
    "    stopseq.append(newstop)\n"
   ]
  },
  {
   "cell_type": "code",
   "execution_count": null,
   "id": "d4b5ed92",
   "metadata": {},
   "outputs": [],
   "source": [
    "allBGE[\"stop_name\"] = stopseq"
   ]
  },
  {
   "cell_type": "code",
   "execution_count": null,
   "id": "346d001a",
   "metadata": {
    "scrolled": false
   },
   "outputs": [],
   "source": [
    "allBGE.head()"
   ]
  },
  {
   "cell_type": "markdown",
   "id": "e7dd1743",
   "metadata": {},
   "source": [
    "## this got rid of the & and the -, so it will be hard to match with the bustops table, so I will just get rid of those symbols int he bus stop table"
   ]
  },
  {
   "cell_type": "code",
   "execution_count": null,
   "id": "ea8b8d4a",
   "metadata": {},
   "outputs": [],
   "source": [
    "stopseq2 = []\n",
    "for stop in xsect.stop_name: \n",
    "    newstop = re.sub(\"[^a-zA-Z]+\", \"\", stop)\n",
    "    stopseq2.append(newstop)\n"
   ]
  },
  {
   "cell_type": "code",
   "execution_count": null,
   "id": "8afadf4f",
   "metadata": {},
   "outputs": [],
   "source": [
    "stopseq2"
   ]
  },
  {
   "cell_type": "code",
   "execution_count": null,
   "id": "4df48be0",
   "metadata": {},
   "outputs": [],
   "source": [
    "xsect[\"cleanstop_name\"] = stopseq2"
   ]
  },
  {
   "cell_type": "code",
   "execution_count": null,
   "id": "35f24c15",
   "metadata": {
    "scrolled": true
   },
   "outputs": [],
   "source": [
    "xsect.cleanstop_name.unique"
   ]
  },
  {
   "cell_type": "code",
   "execution_count": null,
   "id": "ac922923",
   "metadata": {
    "scrolled": true
   },
   "outputs": [],
   "source": []
  },
  {
   "cell_type": "markdown",
   "id": "a7678353",
   "metadata": {},
   "source": [
    "## now merging them together to get those geoms "
   ]
  },
  {
   "cell_type": "code",
   "execution_count": 171,
   "id": "b00c9b82",
   "metadata": {},
   "outputs": [],
   "source": [
    "allBGE.geom = allBGE.join( xsect, rsuffix= \"cleanstop_name\", lsuffix = \"stop_name\")\n"
   ]
  },
  {
   "cell_type": "code",
   "execution_count": 172,
   "id": "fa4ae643",
   "metadata": {},
   "outputs": [
    {
     "name": "stdout",
     "output_type": "stream",
     "text": [
      "Index(['Route', 'Direction', 'Pattern', 'Trip', 'Trip Code', 'Trip Type',\n",
      "       'Stop Code', 'StopSeq', 'Avg. Ons', 'Avg. Offs', 'Load', 'Dwell Time',\n",
      "       'Sch. Start Time', 'Sch. End Time', 'Act. Start Time', 'Act. End Time',\n",
      "       'Time Dev', 'Sch. Run Time', 'Act. Run Time', 'Run Dev',\n",
      "       'stop_namestop_name', 'stop_id', 'stop_namecleanstop_name', 'stop_lat',\n",
      "       'stop_lon', 'location_type', 'parent_station', 'zone_id',\n",
      "       'wheelchair_boarding', 'dist', 'category', 'cleanstop_name'],\n",
      "      dtype='object')\n"
     ]
    }
   ],
   "source": [
    "print(allBGE.geom.columns)"
   ]
  },
  {
   "cell_type": "code",
   "execution_count": 173,
   "id": "ea709113",
   "metadata": {},
   "outputs": [],
   "source": [
    "allBGE.geom = allBGE.geom.drop(columns= ['location_type', 'parent_station', 'zone_id', 'wheelchair_boarding', 'dist'])"
   ]
  },
  {
   "cell_type": "code",
   "execution_count": 174,
   "id": "aefb4d66",
   "metadata": {},
   "outputs": [
    {
     "data": {
      "text/plain": [
       "4238"
      ]
     },
     "execution_count": 174,
     "metadata": {},
     "output_type": "execute_result"
    }
   ],
   "source": [
    "len(allBGE.geom)"
   ]
  },
  {
   "cell_type": "code",
   "execution_count": 175,
   "id": "2a7afbcb",
   "metadata": {
    "scrolled": true
   },
   "outputs": [
    {
     "data": {
      "text/plain": [
       "4238"
      ]
     },
     "execution_count": 175,
     "metadata": {},
     "output_type": "execute_result"
    }
   ],
   "source": [
    "len(allBGE)"
   ]
  },
  {
   "cell_type": "markdown",
   "id": "c0acab45",
   "metadata": {
    "scrolled": true
   },
   "source": [
    "### it looks like something weird happened but i might not be a big deal. it looks like the merge to get the geom added a 1000 rows?"
   ]
  },
  {
   "cell_type": "code",
   "execution_count": 176,
   "id": "fb28d02a",
   "metadata": {},
   "outputs": [],
   "source": [
    "#### exporting anyways\n",
    "allBGE.geom.to_csv('allBGE_geom.csv', index=False)"
   ]
  },
  {
   "cell_type": "markdown",
   "id": "507e6d84",
   "metadata": {},
   "source": [
    "# Getting the Center & North Bus stops the same way"
   ]
  },
  {
   "cell_type": "code",
   "execution_count": null,
   "id": "c5484240",
   "metadata": {},
   "outputs": [],
   "source": [
    "central_stops = pd.read_csv(r'.\\data\\central_stops.csv')"
   ]
  },
  {
   "cell_type": "code",
   "execution_count": null,
   "id": "c215dbcc",
   "metadata": {},
   "outputs": [],
   "source": [
    "allnorth_stops = pd.read_csv(r'.\\data\\allnorth_stops.csv')\n"
   ]
  },
  {
   "cell_type": "code",
   "execution_count": 122,
   "id": "19107647",
   "metadata": {
    "scrolled": true
   },
   "outputs": [
    {
     "name": "stdout",
     "output_type": "stream",
     "text": [
      "['17th St & Spring Garden St', '17th St & Market St', '17th St & Pine St', '17th St & Washington Av', '16th St & Pine St ', '2nd St & Green St', 'Front St & Market St Loop', '3rd St & Spring Garden St', '23rd St & Market St - FS ', '23rd St & Washington Av', 'Arch St & 22nd St', 'Walnut St & Broad St - MBNS', 'Walnut St & 23rd St', 'Spruce St & 15th St', 'Broad St & Washington Av ', '13th St Trolley Station', 'Locust St & 20th St', 'Locust St & Broad St ', 'Pine St & 3rd St', '23rd St & Spruce St', '20th St & Walnut St', 'Market St & 6th St', '19th St & Washington Av', '2nd St Station - MFL', '15th St & Market St', '27th St & Poplar St', \"Penn's Landing - 1\", '5th St & Market St - FS', 'Art Museum Dr & Back Entrance - 2', 'South St & 22nd St', 'South St & Broad St', 'Lombard St & Broad St', 'Lombard St & 22nd St', 'Spruce St & 2nd St', 'Spring Garden St & 22nd St - FS', 'Spring Garden St & Broad St', 'Beach St & Columbia Av', 'Spring Garden St & Front St', 'Spring Garden St & Broad St', 'Spring Garden St & 22nd St ', '8th St & Market St', '7th St & Market St', '7th St & Spring Garden St', '23rd St & Spring Garden St', '12th St & Market St', '4th St & Girard Av - FS', '4th St & Market St', '3rd St & Market St', '9th St & Cuthbert St', '23rd St & Race St - FS', '8th St & Spring Garden St - MBFS', 'Fairmount Station - BSL', 'Spring Garden Station - BSL', 'Race Vine Station - BSL', 'City Hall Station - BSL', 'Walnut Locust Station - BSL', 'Lombard South Station - BSL', 'Poplar St & 29th St', 'Vine St & 19th St', '15th St Station - MFL', '13th St & Market St - MBFS', 'Chinatown Station - BSL', '13th St Station - MFL', '11th St Station - MFL', '8th St Station - MFL', '5th St Independence Hall Station - MFL', 'Spring Garden Station - MFL', 'Carpenter St & 15th St', '16th St & Bainbridge St', '16th St & Callowhill St ', '16th St & Catherine St', '16th St & Chestnut St', '17th St & Carpenter St ', '17th St & Catherine St ', '17th St & Chestnut St', '17th St & Christian St ', '17th St & Fairmount Av', '17th St & Fitzwater St ', '17th St & Green St ', '17th St & Hamilton St - MBNS', '17th St & JFK Blvd', '17th St & Lombard St ', '17th St & Race St ', '17th St & Ridge Av ', '17th St & South St ', '17th St & Vine St', '17th St & Wallace St ', '19th St & Brown St', '19th St & Callowhill St', '19th St & Fairmount Av', '19th St & Green St', '19th St & Hamilton St', '19th St & Parrish St', '19th St & Spring Garden St', '19th St & Vine St', '20th St & Ben Franklin Pkwy', '20th St & Brown St', '20th St & Callowhill St', '20th St & Fairmount Av', '20th St & Green St', '20th St & Hamilton St', '20th St & Market St', '20th St & Parrish St', '20th St & Poplar St', '20th St & Race St', '22nd St & Winter St', '23rd St & Aspen St', '23rd St & Green St', '27th St & Parrish St', '29th St & Ogden St - FS', '29th St & Pennsylvania Av', '16th St & Cherry St', '16th St & Fairmount Av', '16th St & Fitzwater St', '16th St & Mt Vernon St', '16th St & Hamilton St', '16th St & JFK Blvd', '16th St & Locust St ', '16th St & Poplar St ', '16th St & Race St', '16th St & Ridge Av', '16th St & South St', '16th St & Spruce St', '16th St & Walnut St', '17th St & Arch St', '17th St & Bainbridge St', '17th St & Ben Franklin Pkwy', '17th St & Brown St', '17th St & Callowhill St', '21st St & Arch St', '21st St & Race St', '21st St & Winter St - FS', '22nd St & Ben Franklin Pkwy', '22nd St & Fairmount Av', '22nd St & Green St', '22nd St & Mt Vernon St', '22nd St & Race St', '22nd St & Spring Garden St', 'Market St & 2nd St - 1 MBNS', 'Arch St & 4th St - FS', 'Market St & 5th St', 'Arch St & 10th St', 'Arch St & 12th St', 'Arch St & 13th St', 'Arch St & 15th St', 'Arch St & 17th St', 'Arch St & 19th St', 'Arch St & 20th St', 'Arch St & 3rd St', 'Arch St & 5th St', 'Arch St & 6th St', 'Arch St & 7th St', 'Arch St & 8th St', 'Arch St & Broad St', 'Aspen st & 24th St', 'Apsen St & 25th St', 'Aspen St & Taney St', 'Broad St & Arch St', 'Broad St & Bainbridge St', 'Broad St & Brown St', 'Broad St & Catherine St', 'Broad St & Fitzwater St', 'Broad St & Locust St', 'Broad St & Lombard St', 'Broad St & Parrish St', 'Broad St & Pine St', 'Broad St & Spruce St', 'Brown St & 23rd St', 'Brown St & 24th St', 'Brown St & 25th St', 'Brown St & 26th St', 'Brown St & 28th St', 'Chestnut St & 11th St', 'Chestnut St & 12th St', 'Chestnut St & 13th St', 'Chestnut St & 15th St', 'Chestnut St & 17th St', 'Chestnut St & 18th St', 'Chestnut St & 20th St', 'Chestnut St & 21st St', 'Chestnut St & 22nd St - FS', 'Chestnut St & 23rd St', 'Chestnut St & 6th St', 'Chestnut St & 7th St', 'Chestnut St & 8th St', 'Chestnut St & 9th St', 'Chestnut St & Broad St', 'Market St & Front St', 'JFK Blvd & 17th St', 'JFK Blvd & 18th St', 'JFK Blvd & 19th St', 'JFK Blvd & 20th St', 'Market St & 10th St', 'Market St & 10th St', 'Market St & 11th St', 'Market St & 11th St - MBNS', 'Market St & 12th St', 'Market St & 13th St', 'Market St & 13th St', 'Market St & 15th St', 'Market St & 18th St', 'Market St & 19th St', 'Market St & 21st St', 'Market St & 22nd St', 'Market St & 23rd St', 'Market St & 23rd St', 'Market St & 24th St', 'Market St & 2nd St', 'Market St & 4th St', 'Market St & 6th St', 'Market St & 7th St', 'Market St & 8th St', 'Market St & 9th St', 'Market St & 9th St', 'Francis St & Field St', '16th St & Spring Garden St ', 'Walnut St & 9th St', 'Walnut St & 15th St', 'Walnut St & 16th St', 'Walnut St & 17th St', 'Walnut St & 18th St', 'Walnut St & 19th St', 'Walnut St & 20th St', 'Walnut St & 21st St', 'Walnut St & 22nd St', 'Walnut St & 5th St - FS', 'Walnut St & 7th St', 'Walnut St & 8th St', 'Walnut St & 10th St', 'Walnut St & 11th St', 'Walnut St & 12th St', 'Walnut St & 13th St', 'Chestnut St & 19th St', 'Chestnut St & 16th St', 'Chestnut St & 10th St', 'Chestnut St & 4th St - MBNS', '19th St & Wallace St', '19th St & Cherry St', '19th St &  & Arch St', 'Market St & 5th St', 'Chestnut St & Front St', '20th St & Arch St', '20th St & Wood St', '20th St & Spring Garden St', '20th St & Wallace St', '19th St & Chestnut St - FS', 'Brown St & 27th St', '23rd St & Fairmount Av', 'Arch St & 21st St', 'W Rittenhouse Square & Locust St ', 'Market St & 4th St', 'Arch St & 2nd St', 'Arch St & 9th St', 'Arch St & 11th St', '16th St & Arch St - FS', 'Arch St & 18th St', 'Aspen St & 23rd St - FS', 'Aspen St & 26th St', '27th St & Brown St', '19th St & Spruce St ', '19th St & Pine St', '19th St & Lombard St ', '19th St & South St ', '19th St & Bainbridge St ', '19th St & Fitzwater St ', 'Broad St & South St', 'Broad St & Chestnut St - FS', 'Broad St & Walnut St', 'Broad St & Locust St', 'Broad St & Spruce St', 'Broad St & Pine St', 'Broad St & Lombard St', 'Broad St & South St', 'Broad St & Bainbridge St - FS', 'Broad St & Fitzwater St', 'Broad St & Catherine St', 'Broad St & Christian St', 'Broad St & Carpenter St', '15th St & Washington Av', '17th St & Summer St - FS', '17th St & Walnut St ', '17th St & Locust St - FS', '17th St & Spruce St ', '16th St & Christian St ', '16th St & Lombard St ', 'Broad St & Walnut St', '18th St & Arch St', '18th St & Vine St ', 'Vine St & 20th St', 'Ben Franklin Pkwy & 21th St', 'Ben Franklin Pkwy & 22nd St', 'Pennsylvania Av & Spring Garden St', 'Pennsylvania Av & 27th St - MBNS', '12th St & Parrish St ', '12th St & Brown St ', '12th St & Fairmount Av', '12th St & Wallace St ', '12th St & Green St ', '12th St & Ridge Av ', '12th St & Buttonwood St', '12th St & Noble St', '12th St & Callowhill St ', '12th St & Vine St ', '12th St & Race St ', '12th St & Arch St ', '12th St & Chestnut St', '12th St & Walnut St', '8th St & Brown St ', '8th St & Wallace St', '8th St & Green St ', '8th St & Cherry St ', '8th St & Arch St ', '8th St & Chestnut St ', '8th St & Walnut St ', '8th St & Locust St ', '8th St & Spruce St ', '8th St & Pine St ', '8th St & Lombard St', '8th St & South St ', '8th St & Fitzwater St ', '8th St & Catharine St ', '8th St & Christian St', '12th St & Locust St ', '12th St & Spruce St ', '12th St & Pine St ', '12th St & Lombard St ', '12th St & South St ', '12th St & Bainbridge St ', '12th St & Fitzwater St ', '12th St & Catharine St ', '12th St & Christian St ', 'Poplar St & 28th St', 'Poplar St & 27th St ', 'Poplar St & 26th St', '26th St & Parrish St', '26th St & Brown St', '26th St & Aspen St ', '26th St & Pennsylvania Av ', 'Pennsylvania Av & 25th St ', 'Pennsylvania Av & 24th St', 'Pennsylvania Av & Spring Garden St - MBFS', '21st St & Ben Franklin Pkwy', '11th St & Catharine St ', '11th St & Fitzwater St ', '11th St & Bainbridge St ', '11th St & South St ', '11th St & Lombard St ', '11th St & Pine St ', '11th St & Spruce St ', '11th St & Locust St', '11th St & Walnut St', '11th St & Chestnut St', '11th St & Arch St', '11th St & Race St', '11th St & Vine St', '11th St & Noble St', '11th St & Ridge Av', '11th St & Spring Garden St', '11th St & Green St ', '11th St & Wallace St', '11th St & Fairmount Av', '11th St & Brown St', '11th St & Parrish St', '11th St & Poplar St', 'Broad St & Ridge Av - FS', 'Broad St & Wallace St', 'Broad St & Green St', 'Broad St & Spring Garden St', 'Broad St & Callowhill St', 'Broad St & Race St ', 'Broad St & Arch St', 'Broad St & Race St', 'Broad St & Vine St - FS', 'Broad St & Callowhill St - FS', 'Broad St & Spring Garden St', 'Broad St & Green St', 'Broad St & Wallace St - FS', 'Broad St & Ridge Av', 'Broad St & Brown St', 'Broad St & Parrish St', 'Broad St & Poplar St', '3rd St & Queen St', '3rd St & Catharine St', '3rd St & Fitzwater St', '3rd St & Bainbridge St', '3rd St & South St', '3rd St & Lombard St', '3rd St & Pine St', '3rd St & Spruce St', '3rd St & Walnut St', '3rd St & Chestnut St', '3rd St & Arch St ', '3rd St & Race St ', '3rd St & Vine St ', '3rd St & Callowhill St', '3rd St & Willow St ', '3rd St & Fairmount Av ', '3rd St & Brown St ', '3rd St & Poplar St ', '3rd St & Wildey St ', '3rd St & George St ', 'Market St & 10th St - MBFS', 'JFK Blvd & 15th St', '11th St & Callowhill St', 'Ridge Av & Spring Garden St', 'Ridge Av & Mt Vernon St', 'Ridge Av & Wallace St', 'Ridge Av & Melon St', 'Ridge Av & 15th St', 'Ridge Av & 16th St', 'Ridge Av & 17th St', '4th St & George St ', '4th St & Poplar St ', '4th St & Brown St ', '4th St & Fairmount Av ', '4th St & Spring Garden St ', '4th St & Callowhill St ', '4th St & Vine St', '4th St & Race St', '4th St & Arch St', '4th St & Chestnut St', '4th St & Walnut St', '4th St & Locust St', '4th St & Spruce St', '4th St & Pine St', '4th St & Lombard St', '4th St & South St', '4th St & Bainbridge St', '4th St & Fitzwater St', '4th St & Catharine St', '4th St & Queen St', '4th St & Christian St', 'Ridge Av & Wylie St ', 'Ridge Av & Francis St ', 'Ridge Av & 16th St ', 'Ridge Av & 15th St ', 'Ridge Av & Broad St ', 'Ridge Av & Wallace St', 'Ridge Av & 13th St ', 'Ridge Av & 12th St ', 'Spring Garden St & 11th St', 'Spring Garden St & 9th St', 'Spring Garden St & 8th St - FS', '8th St & Callowhill St ', '8th St & Race St ', 'Market St & 21st St - FS', 'Market St & 20th St', 'Market St & 16th St', 'Market St & 8th St - MBNS', '7th St & Fitzwater St ', '7th St & Bainbridge St ', '7th St & South St ', '7th St & Lombard St ', '7th St & Pine St ', '7th St & Spruce St ', 'Washington Sq & Locust St', '7th St & Walnut St', '7th St & Chestnut St ', '7th St & Arch St ', '7th St & Race St - FS', '7th St & Vine St ', '7th St & Willow St ', '7th St & Green St ', '7th St & Fairmount Av ', '7th St & Brown St - MBFS', 'Walnut St & 24th St - MBFS', 'Pennsylvania Av & 24th St', 'Pennsylvania Av & 25th St', 'Pennsylvania Av & 26th St', 'Winter St & 20th St - MBNS', 'Spring Garden St & 17th St', 'Broad St & S Penn Square', 'Spring Garden St & Kelly Dr', '23rd St & Chestnut St - FS', 'Market St & 22nd St - FS', '22nd St Trolley Station', '19th St Trolley Station', '15th St Trolley Station', '19th St Trolley Station', '22nd St Trolley Station', '8th St & Spring Garden St', '2nd St & Market St', '20th St & JFK Blvd', 'Juniper St & Commerce St', 'Chestnut St & 3rd St', 'Chestnut St & 2nd St', 'Walnut St & 3rd St - FS', 'Walnut St & 4th St - MBFS', '2nd St & Walnut St', '2nd St & Chestnut St', 'Girard Av & Front St', 'Poplar St & Stillman St', 'Girard Av & 5th St', 'Girard Av & 3rd St', 'Girard Av & 2nd St', '16th St & Market St ', 'Art Museum Dr & Back Entrance - 2', 'Art Museum Dr  & Kelly Dr - MBFS', 'Art Museum Dr  & Kelly Dr 3 - 1 MBNS', 'Lombard St & 2nd St - MBFS', 'Washington Av & 20th St', '20th St & Carpenter St ', '20th St & Christian St ', '20th St & Catherine St ', '20th St & Fitzwater St ', '20th St & Bainbridge St ', '20th St & South St ', '20th St & Lombard St ', '20th St & Pine St ', '20th St & Spruce St ', '20th St & Locust St ', '20th St & Chestnut St', '20th St & Market St ', 'Market St & 3rd St', '19th St & JFK Blvd - FS', '19th St & Catherine St ', '19th St & Christian St ', '19th St & Carpenter St ', '22nd St & Arch St', '8th St & Market St - BSL', 'Market St & 24th St - MBFS', '3rd St & Girard Av', 'Spring Garden St & Art Museum', 'Spring Garden St & Pennsylvania - FS', 'Spring Garden St & 21st St', 'Spring Garden St & 20th St', 'Spring Garden St & 18th St', 'Spring Garden St & 19th St', 'Spring Garden St & 17th St', 'Spring Garden St & 16th St', 'Spring Garden St & 15th St', 'Spring Garden St & 13th St', 'Spring Garden St & 12th St', 'Spring Garden St & 7 th St', 'Spring Garden St & 6th St', 'Spring Garden St & 5th St', 'Spring Garden St & 4th St', 'Spring Garden St & 3rd St', 'Spring Garden St & 2nd St - MBFS', 'Spring Garden St & Front St - MBFS', 'Spring Garden St & 3rd St', 'Spring Garden St & 4th St', 'Spring Garden St & 5th St', 'Spring Garden St & 6th St', 'Spring Garden St & 7th St', 'Spring Garden St & 8th St', 'Spring Garden St & 9th St', 'Spring Garden St & 10th St', 'Spring Garden St & 11th St', 'Spring Garden St & 12th St', 'Spring Garden St & 13th St', 'Spring Garden St & 15th St', 'Spring Garden St & 16th St', 'Spring Garden St & 18th St', 'Spring Garden St & 19th St', 'Spring Garden St & 20th St', 'Spring Garden St & 21st St', 'Spring Garden St & 23rd St', '38th Parellel Pl & Dock St - FS', 'Spruce St & 4th St', 'Spruce St & 5th St', '23rd St & Walnut St', '23rd St & Locust St', '23rd St & Pine St', '23rd St & Lombard St', '23rd St & South St', 'South St & 21st St', 'South St & 20th St', 'South St & 19th St', 'South St & 18th St', 'South St & 17th St', 'South St & 16th St', 'South St & 15th St', 'South St & 13th St', 'South St & 12th St', 'South St & 11th St', 'South St & 10th St', 'South St & 9th St', 'South St & 8th St', 'South St & 7th St', 'South St & 6th St', 'South St & 5th St', 'South St & 4th St', 'South St & 3rd St', 'South St & 2nd St', 'Lombard St & 3rd St', 'Lombard St & 4th St', 'Lombard St & 5th St', 'Lombard St & 6th St', 'Lombard St & 7th St', 'Lombard St & 8th St', 'Lombard St & 9th St', 'Lombard St & 10th St', 'Lombard St & 11th St', 'Lombard St & 12th St', 'Lombard St & 13th St', 'Lombard St & 15th St', 'Lombard St & 16th St', 'Lombard St & 17th St', 'Lombard St & 18th St', 'Lombard St & 19th St', 'Lombard St & 20th St', 'Lombard St & 21st St', '22nd St & Pine St', '22nd St & Spruce St', '22nd St & Locust St', 'Ben Franklin Pkwy & 22nd St', 'Ben Franklin Pkwy & 21st St', 'Ben Franklin Pkwy & 20th St', '20th St & Race St', '20th St & Arch St', 'Columbus Blvd & Washington Av ', 'Columbus Blvd & Christian St ', 'Columbus Blvd & Lombard Circle', 'Columbus Blvd & Catherine St - MBFS', 'Columbus Blvd & Spruce St', 'Columbus Blvd & Walnut St', 'Columbus Blvd & Penns Landing', 'Columbus Blvd & Race St', 'Columbus Blvd & Vine St - FS', 'Columbus Blvd & Callowhill St', 'Frankford Av & Richmond St ', 'Frankford Av & Delaware Av', 'Fairmount Av & Front St ', 'Columbus Blvd & Vine St ', 'Columbus Blvd & Market St ', 'Columbus Blvd & Spruce St ', 'Columbus Blvd & I95 Ramp', 'Columbus Blvd & I95 Ramp', 'Columbus Blvd & Christian St', 'Columbus Blvd & Reed St ', 'Delaware Av & Ellen St', '8th St & Vine St ', '9th St & Chestnut St ', '2nd St & Germantown Av', '2nd St & Wildley St ', '2nd St & Poplar St ', '2nd St & Brown St ', '2nd St & Fairmount Av ', '2nd St & Noble St ', '2nd St & Callowhill St ', '2nd St & Vine St ', '2nd St & Race St ', '2nd St & Arch St ', '17th St & Franklintown Blvd ', '9th St & Catherine St ', '9th St & Fitzwater St ', '9th St & Bainbridge St ', '9th St & South St ', '9th St & Lombard St ', '9th St & Pine St ', '9th St & Spruce St ', '9th St & Locust St ', '9th St & Walnut St ', '9th St & Arch St', 'Franklin St & Race St - FS', '7th St & Wallace St ', '8th St & Noble St ', 'Reed St & Front St ', 'Front St & Wharton St ', 'Front St & Ellsworth - FS', 'Washington Av & 15th St', 'Washington Av & 16th St ', 'Washington Av & 17th St ', 'Washington Av & 18th St ', 'Washington Av & 19th St ', 'Washington Av & 21st St ', 'Washington Av & 22nd St ', 'Washington Av & 23rd St ', 'Washington Av & 24th St ', 'Washington Av & 25th St ', '3rd St & Monroe St', '3rd St & Green St ', '4th St & Noble St ', 'Grays Ferry Av & Carpenter St ', 'Grays Ferry Av & Christian St ', 'Grays Ferry Av & Catherine St ', 'Grays Ferry Av & Fitzwater St ', 'Grays Ferry Av & Bainbridge St ', 'Bainbridge St & 22nd St', '22nd St & South St ', '22nd St & Lombard St ', 'Locust St & 21st St ', 'Locust St & Rittenhouse Sq ', 'Rittenhouse Sq & 19th St ', 'Rittenhouse Sq & 18th St ', 'Locust St & 17th St ', 'Locust St & 16th St ', 'Locust St & 15th St ', 'Locust St & 13th St ', 'Locust St & 12th St ', 'Locust St & 11th St ', 'Locust St & 10th St ', 'Locust St & 9th St ', 'Pine St & 7th St ', 'Pine St & 5th St ', 'Pine St & 4th St ', 'Spruce St & 3rd St - FS', 'Spruce St & 7th St ', 'Washington Sq & Walnut St ', 'Grays Ferry Av & Bainbridge St ', 'Grays Ferry Av & Fitzwater St', 'Grays Ferry Av & Catherine St', 'Grays Ferry Av & Christian St ', 'Grays Ferry Av & Carpenter St ', 'Reed St & Columbus Blvd - MBFS', '22nd St & Carpenter St ', '22nd St & Christian St ', '22nd St & Catherine St ', '22nd St & Fitzwater St ', '22nd St & Bainbridge St ', '22nd St & Chestnut St ', '22nd St & Market St ', '22nd St & Pennsylvania Av', 'Fairmount Av & 23rd St', 'Fairmount Av & 24th St ', 'Hamilton St & 21st St', '21st St & Market St ', '23rd St & Fitzwater St ', '23rd St & Catharine St ', '23rd St & Christian St ', '23rd St & Carpenter St ', 'Columbus Blvd & Spring Garden St', 'Spring Garden St & 2nd St', 'Locust St & 8th St ', 'Delaware Av & Frankford Av', '8th St & Fairmount Av', '8th St & Bainbridge St ', '7th St & Willow St - MBFS', '7th St & Brown St ', '16th St & Carpenter St ', '16th St & Wallace St ', '16th St & North St ', '16th St & Brown St ', 'Market St & 3rd St', 'Market St & 7th St - MBFS', 'Market St & 9th St  - MBFS', 'Market St & 12th St - MBFS', '22nd St & Walnut St', 'Fairmount Av & 25th St', '21st St & Ben Franklin Pkwy - FS', 'Fairmount Av & 2nd St', 'Ben Franklin Pkwy & Spring Garden - MBNS', '4th St & Monroe St', '19th St & Moravian St - FS', 'Grays Ferry Av & Peltz St', 'Columbus Blvd & Noble St - FS', 'Columbus Av & Callowhill St', 'Delaware Av & Penn St', 'Delaware Av & Ellen St - FS', \"Penn's Landing - 2\", 'Lombard St & 23rd St', 'Lombard St & 24th St', 'Lombard St & 25th St', 'Lombard St & 26th St', '27th St & South St', 'South St & 26th St', 'South St & 25th St', 'South St & 24th St', 'South St & 23rd St', 'South St & 27th St - FS', '15th St & Ranstead St', 'Art Museum Dr & Spring Garden St - 3', 'Delaware Av & Sugarhouse Dr', 'Columbus Blvd & Dock St', 'Columbus Blvd & Chestnut St', 'Columbus Blvd & Race St - MBFS', 'Columbus Blvd & Walnut St', 'Columbus Blvd & Dock St', 'Columbus Blvd & South St - FS', 'Columbus Blvd & Washington Av - MBFS', 'Ridge Av & Poplar St', '23rd St & Walnut St - FS', '8th St & Walnut St - FS', 'Market St & 2nd St - 2', '23rd St & Bainbridge St - FS', 'Pennsylvania Av & Fairmount Av', 'Poplar St & 30th St', 'Broad St & Vine St', '15th St Trolley Station', 'Market St & 8th St - MBFS', '23rd St & Cherry St - FS', '23rd St & Arch St', '19th St & JFK Blvd', '5th St & Market St', '2nd St & Market St - MBNS', 'Frankford Av & Girard Av - FS', '15th St & Market St - FS', '17th St & North St', 'Art Museum Dr & Spring Garden St - 3 FS', 'Spring Garden St & Front St', 'Spring Garden St & 10th St', 'Delaware Av & Penn St', '16th St & Green St', 'Pine St & 13th St', 'Pine St & 12th St', 'Pine St & 11th St', 'Pine St & 10th St', 'Pine St & 9th St', 'Lombard South Station - BSL', 'Walnut Locust Station - BSL', 'City Hall Station - BSL', 'Race Vine Station - BSL', 'Spring Garden Station - BSL', '8th St & Market St - BSL', 'Chinatown Station - BSL', 'Fairmount Station - BSL', 'Girard Station - MFL', 'Spring Garden Station - MFL', '2nd St Station - MFL', '5th St Independence Hall Station - MFL', '8th St Station - MFL', '11th St Station - MFL', '13th St Station - MFL', '15th St Station - MFL', 'Spring Garden St & 8th St', '9th St & Race St', 'Dock St & Front St', 'Pine St & 2nd St', 'Pine St & Front St', 'Front St & Spruce St', '11th St & Market St', 'Race Vine Station - BSL', 'S1', 'S2', 'N1', 'N2', 'Spring Garden St & 2nd St', 'South St & 27th St - MBNS', 'South St & 27th St - MBFS', 'Pennsylvania Av & 27th St', 'Fairmount Av & 25th St', 'Fairmount Av & 24th St', 'Fairmount Av & 23rd St', 'Fairmount Av & 22nd St', '21st St & Wallace St', '21st St & Green St', '21st St & Spring Garden St', '21st St & Hamilton Av', '20th St & JFK Blvd', 'Fairmount Av & Corinthian Av', 'Fairmount Av & 22nd St', 'Pennsylvania Av & 29th St', '29th St & Poplar St', '9th St & Market St']\n"
     ]
    }
   ],
   "source": [
    "targetcentral = []\n",
    "for name in central_stops.stop_name:\n",
    "    targetcentral.append(name)\n",
    "    \n",
    "print(targetcentral)"
   ]
  },
  {
   "cell_type": "code",
   "execution_count": 121,
   "id": "8aa237cc",
   "metadata": {},
   "outputs": [
    {
     "name": "stdout",
     "output_type": "stream",
     "text": [
      "['Roosevelt Blvd & 5th St', 'Ogontz Av & 69th Av', 'Ogontz Av & Haines St', 'Ogontz Av & 66th Av', 'Ogontz Av & Stenton Av', 'Olney Transportation Center - BSL', 'Ogontz Av & Chelten Av - FS', 'Ogontz Av & 66th Av', 'Ogontz Av & Haines St', 'Fisher Av & Rising Sun Av - FS', 'Tabor Rd & 5th St', 'Tabor Rd & 5th St ', 'Fisher Av & Rising Sun Av', 'C St & Roosevelt Blvd', 'Roosevelt Blvd & C St', 'Roosevelt Blvd & Mascher St', 'Roosevelt Blvd & 2nd St', 'Roosevelt Blvd & 6th St', 'Roosevelt Blvd & 7th St - FS', 'Roosevelt Blvd & 9th St', 'Lindley Av & 5th St', 'Lindley Av & Broad St', 'Lindley Av & 16th St', 'Lindley Av & Broad St ', 'Lindley Av & 5th St', '66th Av & Broad St ', '66th Av & Old York Rd', 'Wister St & Chelten Av', 'Rodney St & Mt Airy Av', 'Roosevelt Blvd & 5th St - FS', 'Michener Av & Wadsworth Av - FS', 'Upsal St & Mansfield Av', 'Olney Av & Broad St', 'Olney Av & Broad St - FS east', 'Rising Sun Av & Olney Av', 'Olney Av & 13th St', 'Olney Transportation Center - onsit', 'Upsal St & Mansfield St', 'Michener Av & Wadsworth Av ', 'Godfrey Loop - FS', '5th St & Godfrey Av', 'Fern Rock Transportation Center', 'Godfrey Av & 5th St', 'Cheltenham Av & 2nd St - FS', 'Olney Av & Rising Sun Av Loop', '2nd St & Cheltenham Av - FS', 'Godfrey Av & 5th St', 'Oak Lane & Cheltenham Av', 'Wyoming Av & Broad St', 'Wyoming Av & Broad St ', 'Logan Station - BSL', 'Wyoming Station - BSL', 'Andrews Av & Cheltenham Av ', 'Ogontz Av & 74th Av', 'Champlost Av & 16th St', 'Champlost Av & 17th St', 'Champlost Av & Broad St', 'Champlost Av & Ogontz Av - FS', 'Champlost Av & Ogontz Av', 'Champlost Av & Old York Rd', 'Nedro Av & Park Av', 'Ogontz Av & 65th Av', 'Ogontz Av & 67th Av', 'Ogontz Av & 67th Av', 'Ogontz Av & 68th Av', 'Ogontz Av & 68th Av', 'Ogontz Av & 71st Av', 'Ogontz Av & 74th Av', 'Ogontz Av & 76h Av', 'Ogontz Av & 76th Av', 'Ogontz Av & 77th Av', 'Ogontz Av & 78th Av', 'Ogontz Av & 79th Av', 'Ogontz Av & 80th Av', 'Ogontz Av & Andrews Av', 'Ogontz Av & Andrews Av', 'Ogontz Av & Church Ln', 'Ogontz Av & Godfrey Av', 'Ogontz Av & Limekiln Pk - FS', 'Ogontz Av & Medary Av', 'Ogontz Av & Middletown St', 'Ogontz Av & Roselyn St', 'Ogontz Av & Tulpehocken St', 'Ogontz Av & Washington Ln', 'Old York Rd & Champlost Av', 'Park Av & Chew Av', 'Park Av & Grange St', 'Ogontz Av & Walnut Ln', 'Champlost Av & 17th St', 'Ogontz Av & Church Ln', 'Ogontz Av & 65th Av', 'Ogontz Av & Tulpehocken St', 'Ogontz Av & Washington Ln', 'Ogontz Av & 77th Av', 'Ogontz Av & 78th Av', 'Ogontz Av & 79th Av', 'Cheltenham Av & 79th Av', 'Roumfort Rd & Cheltenham Av - FS', 'Roumfort Rd & Pickering Av', 'Roumfort Rd & Michener Av', 'Michener Av & Gowen Av', 'Nedro Av & Ogontz Av ', 'Broad St & Spencer St', 'Michener Av & Mt Airy Av', 'Michener Av & Mt Pleasant Av', 'Broad St & Chelten Av ', 'Broad St & 65th Av', 'Mt Pleasant Av & Williams Av', 'Thouron Av & Mt Pleasant Av - FS', 'Nedro Av & 17 th St', 'Thouron Av & Sedgwick St', 'Thouron Av & Vernon Rd', 'Broad St & 66th Av', 'Broad St & 67th Av - FS', 'Broad St & 68th Av', 'Broad St & 71st Av ', 'Thouron Av & Phil Ellena St', 'Thouron Av & Sharpnack St', 'Thouron Av & Upsal St', 'Upsal St & Woolston Av', 'Upsal St & Lowber Av', 'Upsal St & Stenton Av', 'Nedro Av & 19th St ', 'Nedro Av & Kemble Av', 'Nedro Av & 21st St ', 'Nedro Av & Wister St', 'Broad St & 72nd Av', 'Wister St & Church Ln', 'Wister St & Sprague St ', 'Wister St & Spencer St', 'Broad St & 71St Av', 'Broad St & 70th Av', 'Wister St & Godfrey Av', 'Wister St & Medary Av ', 'Broad St & 69th Av', 'Wister St & 65th Av', 'Wister St & Stenton Av ', 'Stenton Av & Haines St ', 'Stenton Av & Walnut Ln', 'Stenton Av & Beverly Rd - FS', 'Stenton Av & Tupehocken St - FS', 'Broad St & 68th Av', 'Broad St & 67th Av', 'Broad St & 66th Av ', 'Broad St & 65th Av', 'Broad St & Chelten Av', 'Broad St & Medary Av', 'Broad St & Stenton Av', 'Stenton Av & Vernon Rd ', 'Olney Av & Front St ', 'Olney Av & B St ', 'Broad St & Green Ln', 'Olney Av & Clarkson Av ', 'Tabor Rd & Olney Av - FS', 'Broad St & Champlost Av', 'Broad St & Nedro Av', 'Broad St & Grange St', 'Broad St & Somerville Av', 'Broad St & Fisher Av', 'Olney Av & Elkins Av ', 'Broad St & Duncannon Av', 'Olney Av & 20th St - MBNS', 'Olney Av & 20th St - FS', 'Broad St & Fishers Ln', 'Olney Av & 18th St - MBNS', 'Olney Av & Ogontz Av', 'Olney Av & 16th St ', 'Olney Av & 15th St', 'Olney Av & 13th St - FS', 'Olney Av & 12th St - FS', 'Broad St & Ruscomb St - FS', 'Olney Av & 11th St ', 'Olney Av & 10th St', 'Olney Av & Wagner Av ', 'Broad St & Rockland St', 'Broad St & Loudon St', 'Olney Av & 7th St ', 'Olney Av & 6th St ', 'Olney Av & 5th St ', 'Olney Av & 4th St ', 'Olney Av & 3rd St ', 'Olney Av & 2nd St ', 'Olney Av & Mascher St ', 'Front St & Olney Av ', 'Tabor Av & Olney Av ', 'Olney Av & Clarkson Av ', 'Olney Av & Arbor St', 'Olney Av & Front St ', 'Olney Av & Mascher St ', 'Olney Av & 11th St ', 'Olney Av & 12th St ', 'Olney Av & Broad St - west', 'Olney Av & 15th St ', 'Olney Av & 16th St ', 'Olney Av & Ogontz Av', 'Olney Av & 18th St - FS', 'Olney Av & 20th St ', 'Olney Av & 20st St - MBFS', 'Olney Av & Chew Av', 'Broad St & Wyoming Av ', 'Broad St & Belfield Av - FS', 'Broad St & Wingohocking St', 'Chew Av & 11th St - FS', 'Chew Av & 10th St', '10th St & Tabor Rd', '10th St & Clarkson Av', 'Wagner Av & Warnock St - FS', '10th St & Wagner Av - FS', '10th St & Fisher Av - FS', '10th St & Duncannon Av', '10th St & Lindley Av', '10th St & Ruscomb St', '10th St & Rockland St', '9th St & Loudon St - FS', '9th St & Wyoming Av', '9th St & Courtland St', '5th St & Godfrey Av', '5th St & Spencer St ', '5th St & Champlost St ', '5th St & Nedro Av ', '5th St & Grange St ', '5th St & Chew St ', '5th St & Olney Av ', '5th St & Tabor Rd ', '5th St & Somerville Av ', '5th St & Fisher Av ', '5th St & Duncannon Av ', '5th St & Lindley Av ', '5th St & Rockland St ', '5th St & Loudon St ', 'Old York Rd & Nedro Av', 'Old York Rd & Church Ln', 'Old York Rd & Godfrey Av', 'Old York Rd & Stenton Av', 'Old York Rd & Medary Av - FS', 'Old York Rd & Chelten Av', 'Old York Rd & Broad St - FS', 'Old York Rd & 68th Av', 'Old York Rd & 69th Av', 'Old York Rd & Lakeside Av', 'Old York Rd & 70th Av', 'Old York Rd & 71st Av', 'Rising Sun Av & Chew Av ', 'Olney Av & B St ', 'Wadsworth Av & Cheltenham Av - FS', 'Wadsworth Av & Pickering Av', 'Wadsworth Av & Michener Av', 'Wadsworth Av & Williams Av', 'Wadsworth Av & Thouron St', 'Easton Rd & Woolston Av - FS', 'Cheltenham Av & Mt Pleasant Av ', 'Cheltenham Av & Washington Ln ', 'Cheltenham Av & Tulpehocken St ', 'Cheltenham Av & Williams Way', 'Cheltenham Av & 20th St ', 'Cheltenham Av & Andrews Av', 'Cheltenham Av & 19th St ', 'Old York Rd & 65th Av', 'Old York Rd & Chelten Av', 'Old York Rd & Godfrey Av', 'Old York Rd & Champlost Av', 'Olney Av & 2nd St', 'Olney Av & American St - FS', 'Olney Av & 4th St ', 'Olney Av & 5th St', 'Olney Av & 6th St ', 'Olney Av & 7th St ', 'Olney Av & Wagner Av ', 'Olney Av & 10th St ', 'Easton Rd & Rodney St', 'Mt Airy Av & Mansfield Av', 'Cheltenham Av & Woodbrook Ln ', 'Cheltenham Av & Mt Airy Av ', 'Old York Rd & Church Ln', 'Broad St & Olney Av - FS', 'Broad St & Wingohocking St - FS', 'Broad St & Wyoming Av', 'Broad St & Loudon St', 'Broad St & Rockland St', 'Broad St & Ruscomb St', 'Broad St & Lindley Av', 'Broad St & Duncannon Av', 'Broad St & Fisher Av', 'Broad St & Somerville Av', 'Broad St & Albert Einstein Dr', 'Broad St & Tabor Rd', 'Broad St & Grange St', 'Broad St & Nedro Av ', 'Broad St & Champlost Av', 'Broad St & Godfrey Av', 'Broad St & Medary Av ', 'Broad St & 69th Av', 'Broad St & 70th Av ', 'Broad St & Cheltenham Av', '9th St & Roosevelt Blvd', '9th St & Roosevelt Blvd - FS', '9th St & Wyoming Av ', '9th St & Rockland St ', '9th St & Ruscomb St', '9th St & Lindley Av ', '9th St & Duncannon Av ', '9th St & Fisher Av', 'Fisher Av & 10th St ', '11th St & Somerville Av - FS', '11th St & Clarkson Av', '11th St & Chew St - FS', 'Grange Av 11th St - FS', 'Upsal St & Stenton Av - FS', 'Upsal St & Rodney St ', 'Old York Rd & 71st Av - FS', 'Old York Rd & 70th Av', 'Upsal St & Lowber Av ', 'Old York Rd & 69th Av', 'Upsal St & Woolston Av ', 'Old York Rd & 68th Av', 'Upsal St & Gilbert St ', 'Thouron Av & Sharpnack St ', 'Thouron Av & Phil Ellena St ', 'Thouron Av & Vernon Rd ', 'Thouron Av & Gorgas Ln ', 'Thouron Av & Sedgwick St ', 'Old York Rd & Medary Av', 'Thouron Av & Mt Pleasant Av ', 'Mt Pleasant Av & Williams Av ', 'Michener Av & Mt Pleasant Av - FS', 'Michener Av & Mt Airy Av ', 'Michener Av & Gowen Av ', 'Michener Av & Roumfort Rd ', 'Roumfort Rd & Pickering Av ', 'Roumfort Rd & Cheltenham Av ', 'Cheltenham Av & Elaine St', 'Cheltenham Av & Gowan Av ', 'Rising Sun Av & Roosevelt Blvd - FS', 'Rising Sun Av & Sheldon St', 'Rising Sun Av & Ashdale St', 'Rising Sun Av & C St', 'Rising Sun Av & Geneva Av', 'Rising Sun Av & Clarkson Av', 'Front St & Chew Av', 'Front St & Grange St', 'Front St & Nedro Av', 'Front St & Champlost St', 'Crescentville Rd & Walnut Park Dr - FS', '2nd St & 66th Av', '2nd St & 65th Av', '2nd St & 64th Av', '2nd St & Chelten Av', '2nd St & Godfrey Av', 'Godfrey Av & 6th St', 'Godfrey Av & 7th St', 'Godfrey Av & 10th St', '11th St & Godfrey Av - FS', '11th St & Spencer St', '11th St & Champlost Av', '11th St & Nedro Av', '10th St & Champlost St', '10th St & Spencer St', '10th St & Godfrey Av', 'Godfrey Av & 7th St', 'Godfrey Av & 6th St', 'Godfrey Av & 4th St ', 'Godfrey Av & 3rd St ', '2nd St & Godfrey Av - FS', '2nd St & Chelten Av', '2nd St & 64th Av - FS', '2nd St & 65th Av', '2nd St & 66th Av', 'Cheltenham Av & Covington Rd', 'Cheltenham Av & 7 Oaks Dr ', 'Cheltenham Av & Crescentville Rd', 'Crescentville Rd & Walnut Park Dr', 'Champlost St & A St ', 'Front St & Champlost St - FS', 'Front St & Nedro Av', 'Front St & Grange St ', 'Front St & Chew St ', 'Rising Sun Av & Clarkson Av ', 'Rising Sun Av & Somerville Av ', 'Rising Sun Av & Tabor Rd', 'Rising Sun Av & Wellens Av ', 'Rising Sun Av & Duncannon Av ', 'Rising Sun Av & Ruscomb St ', 'Rising Sun Av & Roosevelt Blvd ', 'Andrews Av & 74th Av ', '74th Av & 20th St ', '74th Av & Walnut Ln ', '74th Av & Briar Rd ', '74th Av & Ogontz Av', 'Washington Ln & Limeklin Pk ', 'Washington Ln & Thouron St ', 'Washington Ln & Woolston Av ', 'Washington Ln & Lowber Av ', 'Washington Ln & Rodney St ', 'Washington Ln & Mansfield Av ', 'Washington Ln & Mansfield Av ', 'Washington Ln & Rodney St ', 'Washington Ln & Lowber Av', 'Washington Ln & Thouron Av', 'Washington Ln & Limekiln Pk', '74th Av & Ogontz Av', '74th Av & Briar Rd', '74th Av & Walnut Ln', '74th Av & 20th St', '74th Av & Andrews Av', 'Mt Airy Av & Mansfield Av', 'Mt Airy Av & Rodney St', 'Easton Rd & Lowber Av', 'Easton Rd & Woolston Av', 'Easton Rd & Thouron St', 'Wadsworth Av & Williams Av', 'Wadsworth Av & Michner Av', 'Wadsworth Av & Pickering Av', 'Wadsworth Av & Cheltenham Av', 'Cheltenham Av & Vernon Rd ', 'Cheltenham Av & Greenwood Av ', 'Cheltenham Av & Limekiln Pk ', 'Nedro Av & Wister St - FS', 'Nedro Av & 21st St ', 'Nedro Av & Kemble Av ', 'Nedro Av & 19th St ', 'Nedro Av & Ogontz Av ', 'Nedro Av & 17th St ', 'Nedro Av & 16th St ', 'Nedro Av & 15th St ', 'Nedro Av & Old York Rd', '5th St & Roosevelt Blvd - FS', '5th St & Rockland St ', '5th St & Ruscomb St ', '5th St & Lindley Av ', '5th St & Duncannon Av ', '5th St & Fisher Av ', '5th St & Somerville Av ', '5th St & Tabor Rd ', '5th St & Olney Av ', '5th St & Chew Av ', '5th St & Nedro Av ', '5th St & Champlost Av ', '5th St & Spencer St ', 'Nedro Av & 15th St', 'Nedro Av & 16th St', 'Stenton Av & Washington Ln - FS', 'Old York Rd & Grange Av - FS', 'Ogontz Av & Olney Av - MBNS', 'Mt Airy Av & Stenton Av', 'Fern Rock Transportation Center - BSL', 'Broad St & Olney Av - MBNS layover', 'Nedro Av & 11th St', 'Cheltenham Av & Ogontz Av ', 'Old York Rd & Stenton Av', 'Old York Rd & 66th Av ', '11th St & Nedro Av - FS', 'Washington Ln & Stenton Av ', 'Godfrey Av & 2nd St ', 'Cheltenham Av & Roumfort Rd ', '15th St & Courtland St ', '15th St & Belfield Av ', 'Wyoming Av & Old York Rd ', 'Wyoming Av & 13th St ', 'Wyoming Av & 12th St ', 'Wyoming Av & 11th St ', 'Wyoming Av & 10th St ', 'Wyoming Av & 9th St ', 'Wyoming Av & Roosevelt Blvd ', 'Wyoming Av & 7th St - FS', 'Wyoming Av & 9th St ', 'Wyoming Av & 10th St ', 'Wyoming Av & 11th St ', 'Wyoming Av & 12th St ', 'Wyoming Av & 13th St ', 'Wyoming Av & Old York Rd', 'Wyoming Av & Broad St - FS', 'Wyoming Av & 15th St', 'Wyoming Av & 16th St', '16th St & Courtland St', 'Courtland St & 17th St ', 'Courtland St & 18th St', 'Courtland St & 19th St ', 'Windrum Av & 20th St - MBNS', 'Windrum Av & Germantown Av ', 'Roosevelt Blvd & 9th St', '5th St & Chelten Av - FS', '5th St & 64th Av', '5th St & 65th Av', '5th St & 66th Av', '5th St & Oak Ln', 'Oak Ln Rd & 5th St', '5th St & 67th Av', '5th St & 66th Av', '5th St & 65th Av', '5th St & 64th Av', '5th St & Chelten Av', 'Roosevelt Blvd & Rising Sun Av', 'Roosevelt Blvd & Front St', 'Roosevelt Blvd & Bingham St', 'Roosevelt Blvd & B St', 'Roosevelt Blvd & 4th St', 'Roosevelt Blvd & 10th St', 'Roosevelt Blvd & Courtland St', 'Champlost St & 11th St', '11th St & Spencer St', '11th St & Godfrey Av', '11th St & Medary Av', '11th St & Chelten Av', '11th St & 65th Av', '11th St & 66th Av', '11th St & Oak Ln', '11th St & 69th Av', '69th Av & 12th St', '12th St & Lakeside Av', '70th Av & 12th St', '70th Av & Cheltenham Av', '12th St & Lakeside Av - FS', '12th St & 69th Av', '69th Av & 11th St', '11th St & Oak Ln Av', '11th St & 66th Av', '11th St & 65th Av', '11th St & Chelten Av', '11th St & Medary Av', 'Tabor Rd & Mascher St ', 'Tabor Rd & 7th St', 'Tabor Rd & 10th St', 'Tabor Rd & 12th St ', 'Tabor Rd & 10th St ', 'Tabor Rd & 7th St ', 'Tabor Rd & Mascher St ', 'Godfrey Av & Franklin St - MBNS', 'Belfield Av & 20th St ', 'Lindley Av & Belfield Av - FS', 'Lindley Av & Ogontz Av ', 'Lindley Av & 17th St ', 'Lindley Av & 15th St ', 'Lindley Av & Old York Rd ', 'Lindley Av & 13th St ', 'Lindley Av & 12th St ', 'Lindley Av & 11th St ', 'Lindley Av & 10th St ', 'Lindley Av & 9th St ', 'Lindley Av & 8th St ', 'Lindley Av & 7th St ', 'Lindley Av & 6th St ', 'Lindley Av & 4th St ', 'Lindley Av & 3rd St ', '2nd St & Lindley Av - FS', '2nd St & Duncannon Av ', '2nd St & Fisher Av ', 'Fisher Av & Mascher St ', 'Fisher Av & Front St ', 'Fisher Av & A St ', 'C St & Ashdale St ', 'Fisher Av & A St ', 'Fisher Av & Front St ', 'Fisher Av & Mascher St ', '2nd St & Fisher Av - FS', '2nd St & Duncannon Av ', '2nd St & Lindley Av ', 'Lindley Av & 3rd St ', 'Lindley Av & 4th St ', 'Lindley Av & 6th St ', 'Lindley Av & 9th St ', 'Lindley Av & 10th St ', 'Lindley Av & Franklin St', 'Lindley Av & 11th St ', 'Ogontz Av & Olney Av - FS', 'Lindley Av & 12th St ', 'Lindley Av & 13th St ', 'Lindley Av & 15th St ', 'Lindley Av & 16th St ', 'Lindley Av & Ogontz Av', 'Lindley Av & Belfield Av', 'Belfield Av & 20th St - FS', 'Crescentville Av & Adams Ave - FS', 'Crescentville Av & Hammond Av', 'Front St & Spencer St - FS', 'Godfrey Av & Front St - FS', 'Godfrey Av & 3rd St ', 'Godfrey Av & 4th St ', '66th Av & 5th St - FS', '66th Av & 6th St ', '66th Av & 7th St ', '66th Av & 8th St ', '66th Av & Lawnton Av ', '66th Av & 10th St ', '66th Av & 11th St ', '66th Av & 12th St ', '66th Av & 13th St ', 'Old York Rd & 66th Av - FS', 'Chelten Av 16th St ', 'Chelten Av 17th St ', 'Chelten Av & 18th St ', 'Chelten Av & Limekiln Pk ', 'Chelten Av & 21st St ', 'Chelten Av & Wister St ', 'Wyncote Av & 65th Av', 'Wyncote Av & Stenton Av ', 'Wyncote Av & 66th Av ', '66th Av & Limekiln Pk', '66th Av & 20th St ', '66th Av & Ogontz Av ', '66th Av & 18th St ', '66th Av & 17th St ', '66th Av & 16th St ', '66th Av & 15th St ', '66th Av & 13th St ', '66th Av & 12th St ', '66th Av & 11th St ', '66th Av & Lawnton Av ', '66th Av & 10th St ', '66th Av & 8th St ', '66th Av & 7th St ', '66th Av & 6th St ', '66th Av & 5th St ', 'Godfrey Av & 5th St - FS', 'Godfrey Av & Front St ', 'Front St & Spencer St ', 'Champlost Av & Front St - FS', 'Champlost Av & Ella St ', 'Champlost Av & Hammond Av', 'Crescentville Rd & Adams Av ', 'Crescentville Rd & Adams Av - MBFS', 'Crescentville & Walnut Prk Dr - MBNS', 'Crescentville Rd & Walnut ParkDr - MBFS', 'Crescentville Rd & Adams Av - MBNS', 'Ogontz Av & Medary Av', '70th Av & 12th St', '5th St & Ruscomb St ', '5th St & Grange St - FS', 'Olney Square - 1 Conway', 'Stenton Av & Chelten Av', '66th Av & Broad St - FS', 'Courtland St & Windrum Av ', 'Thouron Av & Gorgas Ln', 'Rising Sun Av & Chew Av - FS', 'Cheltenham Av & Phil Ellena St ', 'Cheltenham Av & 18th St ', 'Cheltenham Av & Pitville Av ', 'Washington Ln & Fayette St - MBNS', 'Washington Ln & Woolston Av ', '9th St & Loudon St ', '10th St & Wagner Av ', '11th St & Olney Av ', '12th St & Nedro Av ', 'Broad St & Courtland St - FS', 'Broad St & Albert Einstein Dr', '10th St & Olney Av ', 'Rockland St & 9th St ', 'Champlost St & Front St', '11th St & Tabor Rd', 'Tabor Rd & 12th St', 'Tabor Rd & 13th St', 'Tabor Rd & 13th St', 'Front St & Duncannon Av', 'Champlost Av & 16th St', 'Ogontz Av & 69th Av', 'Ogontz Av & 72nd Av', 'Rising Sun Av & Olney Av - FS', 'C St & Ashland St', 'Olney Av & Rising Sun Av', 'Olney Square - 2 DollarTree', 'Olney Square - 3 ShopRite', 'Lindley Av & 7th St', 'Lindley Av & 8th St', 'Old York Rd & Broad St', 'Godfrey Av & 2nd St', '20th St & Chelten Av', '5th St & Medary Av', 'Stenton Av & Wyncote Av', 'Germantown Av & Berkley St', 'Stenton Av & Ogontz Av - FS', 'Stenton Av & 21st St', 'Stenton Av & Chelten Av', 'Mascher St & Ashdale St - MBNS', 'Nedro Av & Broad St', 'Godfrey Av & 21st St - school', 'Olney Square - 4 Post Office', 'Olney Transportation Center', '5th St & 67th St', 'Wyoming Station - BSL', 'Logan Station - BSL', 'Olney Transportation Center - BSL', 'Olney Av & 3rd St - FS', '17th St & Huntingdon St', '17th St & Girard Av', '16th St & Girard Av', 'Huntingdon St & 16th St - FS', '17th St & Lehigh Av', 'Front St & Dauphin St', 'Cecil B Moore Av & Broad St ', 'Cecil B Moore Av & 20th St', '33rd St & Cecil B Moore Av Loop', 'Cecil B Moore Av & 20th St ', 'Cecil B Moore Av & Broad St ', '29th St & Girard Av', '27th St & Girard Av', 'Broad St & Girard Av', 'Broad St & Girard Av', 'Girard Av & Front St', 'Girard Av & Broad St', 'Girard Av & Broad St', 'Girard Station - MFL', 'Frankford Av & Girard Av', '33rd St & Oxford St', '33rd St & Girard Av', 'Poplar Dr & Girard Av', '33rd St & Oxford St', '20th St & Girard Av - MBFS', '22nd St & Lehigh Av', '33rd St & Dauphin St Loop', 'Dauphin St & Broad St ', 'Dauphin St & 7th St', 'Susquehanna Av & Hope St', 'Susquehanna Av & Broad St', 'York St & 33rd St', '8th St & Susquehanna Av - FS', '7th St & Girard Av', '7th St & Susquehanna Av', '29th St & Dauphin St', '29th St & Ridge Av', '29th St & Girard Av', '29th St & Dauphin St', 'Ridge Av & Dauphin St ', 'Ridge Av & Girard Av', 'Ridge Av & Girard Av', 'Ridge Av & Dauphin St', 'Ridge Av & Lehigh Av', '12th St & Girard Av', '11th St & Girard Av', 'Germantown Av & Lehigh Av', '19th St & Girard Av', 'Susquehanna Dauphin Station - BSL', 'Cecil B Moore Station - BSL', 'North Philadelphia Station - BSL', 'Berks Station - MFL', '16th St & Berks St', '16th St & Cecil B Moore Av ', '17th St & Cecil B Moore Av ', '17th St & Cumberland St ', '17th St & Dauphin St ', '17th St & Diamond St ', '17th St & Jefferson St', '17th St & Master St', '17th St & Montgomery Av ', '17th St & Norris St', '17th St & Oxford St ', '17th St & Susquehanna Av ', '17th St & Thompson St', '17th St & York St ', '19th St & Berks St', '19th St & Diamond St', '19th St & Jefferson St', '19th St & Master St', '19th St & Montgomery Av', '19th St & Norris St', '19th St & Oxford St', '19th St & Poplar St', '19th St & Thompson St - MBNS', '22nd St & York St', '29th St & Cecil B Moore Av', '29th St & Cecil B Moore Av', '29th St & Cumberland St', '29th St & Jefferson St', '29th St & Lehigh Av', '29th St & Master St', '29th St & Montgomery Av', '29th St & Oxford St', '29th St & Oxford St', '29th St & Poplar St', '29th St & Susquehanna Av', '29th St & Susquehanna Av', '29th St & Thompson St', '29th St & York St', '16th St & Cumberland St ', '16th St & Dauphin St', '16th St & Diamond St', '16th St & Jefferson St', '16th St & Master St', '16th St & Montgomery Av ', '16th St & Norris St', '16th St & Oxford St', '16th St & Susquehanna Av', '16th St & Thompson St', '16th St & York St ', '17th St & Berks St', '21st St & Susquehanna Av', '22nd St & Berks St', '22nd St & Cecil B Moore Av', '22nd St & Cumberland St', '22nd St & Dauphin St', '22nd St & Diamond St', '22nd St & Huntingdon St', '22nd St & Huntingdon St', '22nd St & Montgomery Av', '22nd St & Norris St', '22nd St & Ridge Av', '22nd St & Sedgley Av', '22nd St & Susquehanna Av', '29th St & Diamond St', '29th St & Diamond St', '29th St & Huntingdon St', '29th St & Jefferson St', 'Broad St & Master St ', 'Broad St & Oxford St - FS', 'Broad St & Thompson St', 'Diamond St & 21st St', 'Huntingdon St & 17th St', 'Lehigh Av & 12th St', 'Lehigh Av & 13th St', 'Lehigh Av & 15th St', 'Lehigh Av & 16th St', 'Lehigh Av & 17th St', 'Lehigh Av & 18th St', 'Lehigh Av & 19th St', 'Lehigh Av & 20th St', 'Lehigh Av & 21st St', 'Lehigh Av & 22nd St', 'Lehigh Av & 23rd St', 'Lehigh Av & 25th St', 'Lehigh Av & 26th St', 'Lehigh Av & 27th St', 'Lehigh Av & 28th St', 'Lehigh Av & 30th St', 'Lehigh Av & 6th St', 'Lehigh Av & 8th St', 'Lehigh Av & 9th St', 'Lehigh Av & A St', 'Lehigh Av & B St', 'Lehigh Av & Broad St', 'Lehigh Av & Germantown Av - FS', 'Lehigh Av & Lawrence St', 'Poplar St & 28th St', 'Ridge Av & Jefferson St', 'Ridge Av & Master St', 'Ridge Av & Oxford St', 'York St & 21st St - MBFS', 'York St & 22nd St', 'College Av & Ridge Av', '19th St & Cecil B Moore Av', 'Diamond St & 20th St', '21st St & Dauphin St', 'Poplar St & 29th St', '29th St & Thompson St', '29th St & Master St', 'Poplar St & 30th St', '33th St & Cecil B Moore Av', '33th St & Montgomery Av', '33rd St & Berks St', '33rd St & Norris St', '33rd St & Diamond St', '33rd St & Susquehanna Av ', '33rd St & Dauphin St - FS', '33rd St & York St - FS', '33rd St & Cumberland St', '33rd St & Huntingdon St', '33rd St & Lehigh Av', 'Lehigh Av & 31st St', 'Dauphin St & 32nd St', 'Germantown Av & Huntingdon St ', '10th St & Cumberland St ', '10th St & York St ', '10th St & Dauphin St ', '10th St & Susquehanna Av ', '12th St & Susquehanna Av - FS', '12th St & Diamond St ', '12th St & Norris St ', '12th St & Berks St ', '12th St & Montgomery Av ', '12th St & Cecil B Moore Av ', '12th St & Oxford St', '12th St & Jefferson St ', '12th St & Master St ', '12th St & Thompson St ', '12th St & Poplar St ', 'Dauphin St & 31st St ', 'Dauphin St & 30th St', 'Dauphin St & 29th St', 'Dauphin St & 28th St ', 'Dauphin St & 27th St ', 'Dauphin St & 26th St ', 'Dauphin St & 25th St', 'Dauphin St & Glenwood Av', 'Dauphin St & 21st St', 'Dauphin St & 20th St', 'Dauphin St & 19th St', 'Dauphin St & 18th St ', 'Dauphin St & 17th St', 'Dauphin St & 16th St', 'Dauphin St & 15th St', 'Dauphin St & 13th St', 'Dauphin St & 12th St', 'Dauphin St & 11th St', 'Dauphin St & 10th St', 'Dauphin St & 9th St', 'Dauphin St & 8th St', 'Dauphin St & 6th St ', 'Dauphin St & 5th St ', '5th St & Cumberland St ', '6th St & Huntingdon St ', '6th St & York St ', '6th St & Dauphin St ', '6th St & Susquehanna Av ', '8th St & Norris St ', '8th St & Berks St', '8th St & Montgomery Av ', '8th St & Cecil B Moore Av ', '8th St & Oxford St ', '8th St & Jefferson St ', '8th St & Master St ', 'Thompson St & Franklin St', 'Franklin St & Girard Av ', '8th St & Poplar St ', 'Lehigh Av & 4th St', 'American St & Lehigh Av - FS', 'American St & Cumberland St ', 'American St & York St ', 'Dauphin St & Palethorp St ', 'Dauphin St & Hancock St ', 'Dauphin St & Mascher St ', 'Kensington Av & Cumberland St ', 'Susquehanna Av & Mascher St ', 'Susquehanna Av & Hancock St ', 'Susquehanna Av & 2nd St ', 'Susquehanna Av & American St ', 'Susquehanna Av & 3rd St', 'Susquehanna Av & 4th St', 'Susquehanna Av & 5th St', 'Susquehanna Av & 6th St ', 'Susquehanna Av & 9th St ', 'Susquehanna Av & 10th St ', 'Susquehanna Av & 11th St', 'Susquehanna Av & 12th St ', 'Susquehanna Av & 13th St', 'Susquehanna Av & 15th St', 'Susquehanna Av & 16th St', 'Susquehanna Av & 17th St', 'Susquehanna Av & 18th St', 'Susquehanna Av & 19th St', 'Susquehanna Av & 20th St', 'Susquehanna Av & 21st St ', 'York St & Sedgley Av', 'York St & 24th St', 'York St & 25th St', 'York St & 26th St', 'York St & 27th St - FS', 'York St & 28th St ', 'York St & 29th St ', 'York St & 30th St ', 'York St & 31st St ', 'York St & 32nd St ', '33rd St & Lehigh Av - FS', '33rd St & Huntingdon St', '33rd St & Cumberland St', '33rd St & York St', '33rd St & Dauphin St', '33rd St & Susquehanna Av', '33rd St & Diamond St', '33rd St & Norris St', '33rd St & Berks St ', '33rd St & Montgomery Av ', '33rd St & Cecil B Moore Av', '11th St & Thompson St', '11th St & Master St', '11th St & Jefferson St', '11th St & Oxford St ', '11th St & Cecil B Moore Av', '11th St & Montgomery Av', '11th St & Berks St', '11th St & Norris St', '11th St & Diamond St', '11th St & Susquehanna Av', '11th St & Dauphin St', '11th St & York St', '11th St & Cumberland St', '11th St & Huntingdon St', 'Huntingdon St & Germantown Av', 'Broad St & Lehigh Av - FS', 'Broad St & Huntingdon St', 'Broad St & Cumberland St', 'Broad St & York St - FS', 'Broad St & Dauphin St', 'Broad St & Susquehanna Av ', 'Broad St & Diamond St', 'Broad St & Norris St', 'Broad St & Berks St', 'Broad St & Montgomery Av', 'Broad St & Cecil B Moore Av ', 'Broad St & Jefferson St', 'Broad St & Poplar St', 'Broad St & Thompson St', 'Broad St & Master St', 'Broad St & Jefferson St', 'Broad St & Oxford St', 'Broad St & Cecil B Moore Av', 'Broad St & Montgomery Av - FS', 'Broad St & Polett Walk', 'Broad St & Norris St', 'Broad St & Diamond St - FS', 'Broad St & Susquehanna Av', 'Broad St & Dauphin St', 'Broad St & York St', 'Broad St & Cumberland St', 'Broad St & Huntingdon St', 'Broad St & Lehigh Av', '3rd St & Thompson St', 'Germantown Av & Master St', 'Germantown Av & Jefferson St', 'Oxford St & American St ', 'American St & Cecil B Moore Av', 'American St & Berks St', 'American St & Norris St', 'American St & Diamond St', 'American St & Susquehanna Av', 'American St & Dauphin St ', 'American St & York St ', 'American St & Cumberland St ', 'American St & Huntingdon St ', 'Lehigh Av & 2nd St', 'Lehigh Av & Mascher St', 'Ridge Av & 19th St', 'Ridge Av & Master St', 'Ridge Av & Jefferson St', 'Ridge Av & Oxford St', 'Ridge Av & 22nd St', 'Ridge Av & Cecil B Moore Av', 'Ridge Av & 24th St', 'Ridge Av & 25th St - FS', 'Ridge Av & Montgomery Av', 'Ridge Av & Sedgley Av ', 'Ridge Av & 29th St ', 'Ridge Av & 30th St ', 'Ridge Av & 31st St ', 'Ridge Av & Susquehanna Av ', 'Ridge Av & 32nd St ', 'Ridge Av & 33rd St ', 'Ridge Av & York St - FS', 'Ridge Av & Cumberland St ', 'Ridge Av & Huntingdon St ', 'American St & Huntingdon St ', 'American St & Dauphin St ', 'American St & Susquehanna Av ', 'American St & Diamond St ', 'American St & Norris St ', 'American St & Berks St ', 'American St & Cecil B Moore Av ', 'American St & Oxford Av ', 'American St & Jefferson St ', 'American St & Master St ', 'American St & Thompson St ', 'Ridge Av & Huntingdon St ', 'Ridge Av & Cumberland St ', 'Ridge Av & 32nd St ', 'Ridge Av & Susquehanna Av ', 'Ridge Av & 31st St ', 'Ridge Av & Diamond St ', 'Ridge Av & 29th St ', 'Ridge Av & Sedgley Av', 'Ridge Av & Glenwood Av ', 'Ridge Av & 27th St ', 'Ridge Av & 25th St ', 'Ridge Av & 24th St ', 'Ridge Av & Cecil B Moore Av ', 'Ridge Av & 22nd St ', 'Ridge Av & 19th St', 'Ridge Av & Poplar St ', '7th St & Poplar St - MBFS', '7th St & Thompson St ', '7th St & Master St ', '7th St & Jefferson St ', '7th St & Oxford St ', '7th St & Cecil B Moore Av - FS', '7th St & Montgomery Av ', '7th St & Berks St ', '7th St & Norris St ', '7th St & Diamond St ', '7th St & Dauphin St', '5th St & York St ', '5th St & Huntingdon St ', '5th St & Lehigh Av ', 'American St & Lehigh Av', 'Front St & Girard Av - FS', 'Front St & Girard Av ', 'Front St & Berks St', 'Kensington Av & Huntingdon St ', 'Kensington Av & Front St', 'Front St & Berks St ', 'Lehigh Av & Napa St - MBNS', '29th St & Montgomery Av', 'Lehigh Av & 29th St', 'Lehigh Av & 24th St', 'Lehigh Av & 11th St', 'Lehigh Av & 5th St', 'Lehigh Av & Front St', 'Girard Station - BSL', 'Girard Av & 2nd St', 'Girard Av & 3rd St', 'Girard Av & 4th St', 'Girard Av & 5th St', 'Girard Av & 7th St', 'Girard Av & 8th St', 'Girard Av & 11th St', 'Girard Av & 12th St', 'Girard Av & 16th St', 'Girard Av & 17th St', 'Girard Av & Ridge Av', 'Girard Av & 20th St', 'Girard Av & Corinthian Av', 'Poplar St & 25th St', 'Girard Av & 26th St ', 'Girard Av & 27th St', 'Girard Av & 28th St', 'Girard Av & 29th St', 'Girard Av & 31st St', 'Girard Av & 33rd St', 'Girard Av & 31st St', 'Girard Av & 29th St', 'Girard Av & 28th St', 'Girard Av & 27th St', 'Girard Av & 26th St', '26th St & Poplar St', 'College Av & 24th St - FS', 'Girard Av & Corinthian Av', 'Girard Av & 20th St', 'Girard Av & 19th St', 'Girard Av & Ridge Av', 'Girard Av & 17th St', 'Girard Av & 16th St', 'Girard Av & 12th St', 'Girard Av & 11th St', 'Girard Av & 8th St', 'Girard Av & 7th St', 'Susquehanna Av & 7th St', 'Dauphin St & 22nd St', 'Dauphin St & Front St', '2nd St & Girard Av ', 'Frankford Av & Jefferson St ', 'Frankford Av & Master St - FS', 'Frankford Av & Thompson St ', 'Frankford Av & Oxford St', 'Frankford Av & Berks St ', 'Frankford Av & Montgomery Av ', 'Frankford Av & Palmer St ', 'Germantown Av & Oxford St', 'Oxford St & 3rd St - FS', '27th St & Thompson St ', 'Master St & 27th St - FS', 'Master St & 28th St', 'Master St & 29th St', '29th St & Sedgley Av', '27th St & Dauphin St ', 'Susquehanna Av & 27th St ', 'Susquehanna Av & 29th St ', '29th St & Sedgley Av', 'Cecil B Moore Av & 32nd St ', 'Cecil B Moore Av & 31st St ', 'Cecil B Moore Av & Glenwood Av', 'Cecil B Moore Av & 29th St ', 'Cecil B Moore Av & 28th St ', 'Cecil B Moore Av & 27th St ', 'Cecil B Moore Av & 26th St ', 'Cecil B Moore Av & 25th St ', 'Cecil B Moore Av & 24th St ', 'Cecil B Moore Av & Ridge Av ', 'Cecil B Moore Av & 22nd St ', 'Cecil B Moore Av & 21st St ', 'Cecil B Moore Av & 19th St ', 'Cecil B Moore Av & 18th St ', 'Cecil B Moore Av & 17th St ', 'Cecil B Moore Av & 16th St ', 'Cecil B Moore Av & 15th St ', 'Cecil B Moore Av & 13th St ', 'Cecil B Moore Av & 12th St ', 'Cecil B Moore Av & 11th St ', 'Cecil B Moore Av & 10th St - FS', 'Cecil B Moore Av & 9th St ', 'Cecil B Moore Av & 8th St ', 'Berks St & 6th St ', 'Berks St & Germantown Av ', 'Berks St & 4th St ', 'Berks St & 3rd St ', 'Berks St & American St ', 'Berks St & 2nd St ', 'Berks St & Mascher St ', 'Berks St & Front St ', 'Front St & Norris St ', 'Front St & Susquehanna Av ', 'Front St & Diamond St ', 'Front St & Norris St ', 'Berks St & Mascher St ', 'Berks St & 2nd St ', 'Berks St & American St ', 'Berks St & 3rd St ', 'Berks St & 4th St ', 'Berks St & 5th St ', 'Berks St & 6th St ', '6th St & Montgomery Av ', '6th St & Cecil B Moore Av ', 'Cecil B Moore Av & 7th St ', 'Cecil B Moore Av & 8th St - FS', 'Cecil B Moore Av & 10th St ', 'Cecil B Moore Av & 11th St ', 'Cecil B Moore Av & 12th St ', 'Cecil B Moore Av & 13th St ', 'Cecil B Moore Av & 15th St ', 'Cecil B Moore Av & 16th St ', 'Cecil B Moore Av & 17th St ', 'Cecil B Moore Av & 18th St ', 'Cecil B Moore Av & 19th St ', 'Cecil B Moore Av & 21st St ', 'Cecil B Moore Av & 22nd St ', 'Cecil B Moore Av & Ridge Av ', 'Cecil B Moore Av & 24th St ', 'Cecil B Moore Av & 25th St ', 'Cecil B Moore Av & 26th St ', 'Cecil B Moore Av & 27th St ', 'Cecil B Moore Av & 28th St ', 'Cecil B Moore Av & 29th St ', 'Cecil B Moore Av & 30th St ', 'Cecil B Moore Av & 31st St ', 'Cecil B Moore Av & 32nd St ', 'Ridge Av & 27th St ', 'Ridge Av & Glenwood Av', '6th St & Cumberland St ', '8th St & Cecil B Moore Av - FS', '8th St & Thompson St ', '7th St & Poplar St - FS', 'Berks St & Germantown Av ', 'Berks St & 5th St ', 'Cecil B Moore Av & 33rd St ', 'Susquehanna Av & 8th St ', '29th St & Ridge Av', 'Susquehanna Av & 27th St', 'Susquehanna Av & 28th St', '8th St & Diamond St', '29th St & Huntingdon St', '29th St & Cumberland St', '29th St & York St', 'Girard Av & 19th St', 'Girard Av & 24th St', 'Lehigh Av & 7th St', 'Lehigh Av & American St', 'Cecil B Moore Av & 33rd St - FS', 'Susquehanna Av & 28th St', 'Berks St & Front St - FS', 'Dauphin St & American St - FS', 'Dauphin St & Ridge Av', 'Resevoir Dr & SmithDay Nursery Dr', 'Resevoir Dr & SmithDay Nursery Dr - 1', 'Ridge Av & Lehigh Av ', 'Girard Station - BSL', 'Cecil B Moore Station - BSL', 'Susquehanna Dauphin Station - BSL', 'North Philadelphia Station - BSL', 'Huntingdon Station - MFL', 'York Dauphin Station - MFL', 'Berks Station - MFL', 'Pulaski Av & Pike St', 'Hunting Park Av & Pulaski Av', 'Kensington Av & Allegheny Av', 'Erie Station - BSL', '9th St & Erie Av', 'Allegheny Station - BSL', 'Broad St & Allegheny Av', '9th St & Erie Av', '29th St & Allegheny Av', 'Hunting Park Av & Fox St - FS', 'Allegheny Av & Hunting Park Av', '30th St & Allegheny Av', '22nd St & Lehigh Av', '22nd St & Allegheny Av', 'Luzerne St & 2nd St - FS', '5th St & Wyoming Av', '6th St & Erie Av', '5th St & Erie Av', '5th St & Wyoming Av ', '27th St & Allegheny Av', 'Luzerne St & 12th St - MBFS', 'Kensington Av & Somerset St', 'Erie Av & Kensington Av - FS', 'Erie Av & Front St', 'Erie Av & 10th St', 'Erie Av & Front St', 'Rising Sun Av & Wyoming Av', 'Front St & Erie Av', 'Front St & Erie Av', 'Rising Sun Av & Wyoming Av ', 'Allegheny Av & 26th St', 'Ridge Av & Allegheny Av', 'Rising Sun Av & Courtland St ', 'Wyoming Av & 5th St', 'Wyoming Av & 5th St', 'G St & Hunting Park Av - FS', 'G St & Hunting Park Av ', 'Germantown Av & Butler St', 'Germantown Av & Rising Sun Av', 'Germantown Av & Lehigh Av', 'Germantown Av & Erie Av', 'Germantown Av & Butler St', 'Lycoming St & 10th St', 'Hunting Park Station - BSL', 'Wissahickon Av & Ruffner St', 'Erie Av & Broad St - H FS', 'Wissahickon Av & Roberts Av - MBNS', 'Wissahickon Av & Roberts Av', '17th St & Cambria St', '17th St & Cambria St - FS', '17th St & Clearfield Rd - FS', '17Th St & Clearfield St', '17th St & Erie Av ', '17th St & Erie Av', '17th St & Indiana Av', '17th St & Lehigh Av', '17th St & Ontario St ', '17th St & Sedgley Av ', '17th St & Sedgley Av - FS', '17th St & Tioga St', '17th St & Tioga St', '17th St & Venango St', '17th St & Venango St ', '17th St & Westmoreland St ', '17th St & Westmoreland St ', '20th St & Hunting Park Av ', '22nd St & Venango St', '22nd St & Westmoreland St', '22nd St & Westmoreland St', '29th St & Cambria St', '29th St & Chalmers Av', '29th St & Clearfield St', '29th St & Lehigh Av', '17th St & Allegheny Av', '22nd St & Allegheny Av', '22nd St & Cambria St', '22nd St & Cambria St', '22nd St & Clearfield Av', '22nd St & Clearfield St', '22nd St & Fox St', '22nd St & Indiana Av', '22nd St & Ontario St', '22nd St & Ontario St', '22nd St & Somerset St', '22nd St & Tioga St', '22nd St & Tioga St', '26th St & Clearfield St', 'Allegheny Av & Fox St', 'Allegheny Av & Front St', 'Allegheny Av & G St', 'Allegheny Av & Germantown Av', 'Allegheny Av & 6th St', 'Allegheny Av & 13th St', 'Allegheny Av & 15th St', 'Allegheny Av & 16th St', 'Allegheny Av & 17th St', 'Allegheny Av & 19th St', 'Allegheny Av & 20th St', 'Allegheny Av & 21st St', 'Allegheny Av & 22nd St', 'Allegheny Av & 23rd St', 'Allegheny Av & 25th St', 'Allegheny Av & 27th St', 'Allegheny Av & 28th St', '29th St & Allegheny Av - FS', 'Allegheny Av & 2nd St', 'Allegheny Av & Napa St', 'Allegheny Av & 32nd St', 'Allegheny Av & 33rd St', 'Allegheny Av & 34th St', 'Allegheny Av & 35th St', 'Allegheny Av & 7th St', 'Allegheny Av & Glenwood Av - FS', 'Allegheny Av & A St', 'Allegheny Av & B St', 'Allegheny Av & C St', 'Allegheny Av & D St', 'Allegheny Av & E St', 'Allegheny Av & F St', 'Broad St & Clearfield St - FS', 'Clearfield St & 27th St', 'Hunting Park Av & 19th St', 'Hunting Park Av & 22nd St', 'Kensington Av & Lehigh Av', 'Lehigh Av & 2nd St', 'Lehigh Av & 3rd St', 'Lehigh Av & 4th St', 'Lehigh Av & 8th St', 'Lehigh Av & Front St', 'Lehigh Av & Mascher St', 'Pulaski Av & 17th St', 'Sedgley Av & 10th St', '23rd St & Venango St Loop', '29th St & Somerset St', '29th St & Cambria St', '29th St & Clearfield St', 'Allegheny Av & 29th St', 'Allegheny Av & 28th St', 'Allegheny Av & 3rd St', 'Allegheny Av & 34th St', 'Allegheny Av & 33rd St', 'Allegheny Av & 32nd St', 'Allegheny Av & 29th St', 'Allegheny Av & 25th St', 'Allegheny Av & 24th St', 'Allegheny Av & 23rd St', 'Allegheny Av & 21st St', 'Allegheny Av & 20th St', 'Allegheny Av & 19th St', 'Allegheny Av & 17th St', 'Allegheny Av & 16th St', 'Allegheny Av & 15th St', 'Allegheny Av & 13th St', 'Allegheny Av & Germantown Av', 'Sedgley Av & 9th St - MBNS', 'Allegheny Av & Glenwood Av', 'Allegheny Av & 3rd St', 'Allegheny Av & 2nd St', 'Allegheny Av & Front St', 'Allegheny Av & A St', 'Allegheny Av & B St', 'Allegheny Av & C St', 'Allegheny Av & D St', 'Allegheny Av & E St', 'Allegheny Av & F St', 'Allegheny Av & G St', 'Hunting Park Av & Broad St', '17th St & Ontario St ', '17th St & Allegheny Av ', 'Germantown Av & Windrim Av', 'Germantown Av & Roberts Av ', 'Germantown Av & Dennie St ', 'Germantown Av & Saint Paul St ', 'Germantown Av & Juniata St ', 'Germantown Av & Staub St ', 'Germantown Av & Hunting Park Av', 'Germantown Av & Lycoming St', 'Germantown Av & Pike St ', 'Broad St & Saint Lukes St - MBFS', 'Broad St & Lycoming St', 'Broad St & Pike St', 'Broad St & Butler St', '29th St & Chalmers Av - FS', 'Clearfield St & 29th St - FS', 'Clearfield St & 30th St', 'Henry Av & Roberts Av - MBFS', 'Henry Av & Abbottsford Av ', 'Germantown Av & Venango St ', 'Germantown Av & Tioga St ', 'Germantown Av & Westmoreland St', 'Germantown Av & Allegheny Av ', 'Germantown Av & Glenwood Av ', 'Germantown Av & Indiana Av ', 'Germantown Av & Cambria St ', 'Germantown Av & Somerset St ', '9th St & Wingohocking St - FS', '9th St & Cayuga St', '9th St & Bristol St - FS', '9th St & Hunting Park Av', '9th St & Lycoming St', '9th St & Luzerne St - FS', '9th St & Pike St - FS', '9th St & Butler St', 'Rising Sun Av & 9th St', 'Rising Sun Av &  11th St', 'Rising Sun Av & Old York Rd', 'Rising Sun Av & Germantown Av - FS', '5th St & Annsbury St ', '5th St & Cayuga St ', '5th St & Bristol St ', '5th St & Hunting Park Av ', '5th St & Lycoming St ', '5th St & Luzerne St ', '5th St &  Pike St ', '6th St & Venango St', '6th St & Tioga St ', '6th St & Glenwood Av ', '6th St & Allegheny Av ', '6th St & Indiana Av ', '6th St & Cambria St ', '6th St & Lehigh Av ', '10th St & Pike St', '10th St & Butler St ', '10th St & Erie Av', 'Erie Av & 11th St', 'Erie Av & 13th St', 'Pulaski Av & 17th St ', 'Pulaski Av & 18th St', '18th St & Hunting Park Av', 'Clarissa St & Juniata St', 'Clarissa St & Bristol St', 'Wayne Av & Berkley St', 'Clarissa St & Dennie St', 'Clarissa St & Bristol St ', 'Clarissa St & Juniata St', 'Clarissa St & Hunting Park Av', '18th St & Pike St', 'Erie Av & Old York Rd', '10th St & Erie Av - FS', '10th St & Butler St', '10th St & Pike St', '10th St & Luzerne St ', 'Henry Av & Abbottsford Av ', 'Hunting Park Av & Henry Av - FS', 'Hunting Park Av & 29th St', 'Chalmers Av & Lehigh Av ', 'Lehigh Av & 31st St', 'Germantown Av & Somerset St', 'Germantown Av & Cambria St', 'Germantown Av & Indiana Av', 'Germantown Av & Glenwood Av', 'Germantown Av & Sedgley Av', 'Germantown Av & Hilton St', 'Germantown Av & Westmoreland St', 'Germantown Av & Rising Sun Av', 'Germantown Av & Tioga St', 'Germantown Av & Venango St', 'Germantown Av & Pike St', 'Germantown Av & Lycoming St', 'Germantown Av & Hunting Park Av', 'Germantown Av & Staub St', 'Germantown Av & Juniata St', 'Germantown Av & Saint Paul St', 'Germantown Av & Dennie St', 'Germantown Av & 20th St', 'Germantown Av & Windrim Av', 'Erie Av & 16th St', 'Erie Av & 15th St', 'Broad St & Venango St', 'Broad St & Tioga St', 'Broad St & Ontario St - FS', 'Broad St & Westmoreland Av - FS', 'Broad St & Indiana Av', 'Broad St & Glenwood Av ', 'Broad St & Somerset St', 'Broad St & Somerset St', 'Broad St & Glenwood Av', 'Broad St & Indiana Av', 'Broad St & Clearfield St - FS', 'Broad St & Ontario St - FS', 'Broad St & Tioga St', 'Broad St & Venango St', 'Broad St & Butler St - FS', 'Broad St & Pike St', 'Broad St & Lycoming St - FS', 'Broad St & Hunting Park Av', 'Broad St & Roosevelt Blvd', 'Wissahickon Av & Roberts Av', 'Rising Sun Av & Germantown Av', 'Rising Sun Av & Old York Rd - FS', 'Rising Sun Av & 11th St', 'Rising Sun Av & 9th St', '9th St & Butler St', '9th St & Pike St', '9th St & Luzerne St', '9th St & Lycoming St', '9th St & Hunting Park Av', '9th St & Bristol St', '9th St & Cayuga St', 'Erie Av & Elder St - FS', 'Erie Av & 11th St', 'Erie Av & Rising Sun Av ', 'Erie Av & Roberto Clemente Walk', 'Erie Av & B St - MBFS', 'Erie Av & O St ', 'Erie Av & I St ', 'Erie Av & Castor Av ', 'Castor Av & Wingohocking St ', 'M St & Cayuga St - FS', 'M St & Bristol St ', 'M St & Hunting Park Av ', 'Hunting Park Av & L St ', 'Hunting Park Av & K St ', 'Hunting Park Av & J St ', 'Hunting Park Av & I St', 'Hunting Park Av & H St', 'G St & Luzerne St ', 'G St & Erie Av ', 'Front St & Somerset St', 'Front St & Cambria St', 'Front St & Clearfield St', 'Front St & Allegheny Av', 'Front St & Westmoreland St', 'Front St & Tioga St', 'Front St & Venango St', 'Front St & Luzerne St', 'Front St & Hunting Park Av', 'Front St & Wingohocking St - MBNS', 'Wingohocking St & Front St - FS', 'Wingohocking St & Rising Sun Av', 'Rising Sun Av & Loudon St', 'Rising Sun Av & Rockland St', 'Rising Sun Av & Ruscomb St', 'Erie Av & D St ', 'B St & Erie Av - FS', 'B St & Venango St ', 'Tioga St & Ormes St', 'Tioga St & C St ', 'Tioga St & D St ', 'Tioga St & E St ', 'Tioga St & F St', 'F St & Ontario St ', 'F St & Westmoreland St ', 'F St & Allegheny Av ', 'F St & Clearfield St ', 'F St & Kensington Av ', 'Kensington Av & Venango St', 'Kensington Av & J St ', 'Kensington Av & I St ', 'G St & Westmoreland St ', 'G St & Ontario St ', 'G St & Tioga St ', 'Tioga St & F St ', 'Tioga St & E St ', 'Tioga St & D St ', 'Tioga St  & C St - FS', 'Tioga St & B St ', 'B St & Venango St', 'B St & Erie Av ', 'Erie Av & D St ', 'Erie Av & F St ', 'G St & Erie Av - FS', 'G St & Luzerne St ', 'G St & Lycoming St ', 'Hunting Park Av & H St ', 'Hunting Park Av & I St ', 'Hunting Park Av & J St ', 'Hunting Park Av & K St ', 'Hunting Park Av & L St ', 'M St & Hunting Park Av - FS', 'M St & Bristol St ', 'M St & Cayuga St ', 'Rising Sun Av & Rockland St ', 'Rising Sun Av & Loudon St ', 'Rising Sun Av & Saber St', 'Wingohocking St & Rising Sun Av - FS', 'Ridge Av & 35th St ', 'Erie Av & Castor Av ', 'Ridge Av & Scotts Ln - MBFS', 'Erie Av & M St ', 'Erie Av & L St ', 'Erie Av & K St ', 'Erie Av & I St ', 'Erie Av & Whitaker Av ', 'Wingohocking St & Front St', 'Front St & Wingohocking St - MBFS', 'Front St & Hunting Park Av ', 'Front St & Luzerne St ', 'Erie Av & 2nd St', '2nd St & Glenwood Av ', '2nd St & Tioga St ', '2nd St & Ontario St ', '2nd St & Westmoreland St ', '2nd St & Allegheny Av ', '2nd St & Clearfield St - FS', '2nd St & Indiana Av ', '2nd St & Cambria St ', '2nd St & Somerset St', '2nd St & Lehigh Av', 'Erie Av & J St ', 'Erie Av & G St ', 'Erie Av & F St - MBFS', 'Erie Av & St Chris Dr', 'Erie Av & 3rd St - FS', 'Erie Av & 5th St ', 'Erie Av & 6th St ', 'Erie Av & Rising Sun Av', 'Erie Av & 8th St ', 'Erie Av & 9th St ', 'Erie Av & Old York Rd ', 'Erie Av & 21st St ', 'Erie Av & 20th St ', 'Erie Av & 19th St ', 'Erie Av & 18th St ', 'Erie Av & 17th St ', '16th St & Erie Av - FS', '16th St & Butler St', 'Butler St & Germantown Av', 'Erie Av & 9th St ', 'Erie Av & 8th St ', 'Erie Av & 6th St ', 'Erie Av & 5th St ', 'Erie Av & 3rd St ', 'Erie Av & St Chris Dr - FS', 'Erie Av & B St ', 'Erie Av & G St ', 'Erie Av & I St - MBNS ', 'Erie Av & J St ', 'Erie Av & K St ', 'Erie Av & L St ', 'Erie Av & M St ', 'Erie Av & 15th St', 'Erie Av & 16th St', 'Erie Av & 17th St ', 'Erie Av & 18th St ', 'Erie Av & 19th St ', 'Erie Av & 20th St ', 'Erie Av & 21st St ', 'Erie Av & 22nd St', 'Hunting Park Av & Wissahickon Av', 'Hunting Park Av & Stokely St', 'Hunting Park Av & Fox St', 'Hunting Pk Av & Westmoreland St - MBFS', 'Ridge Av & Indiana Av ', 'Ridge Av & Hunting Park Av', '5th St & Somerset St ', '5th St & Cambria St ', '5th St & Indiana St ', '5th St & Clearfield St ', '5th St & Westmoreland St ', '5th St & Ontario St ', '5th St & Sedgley Av ', '5th St & Venango St ', '5th St & Butler St', '5th St & Luzerne St', '5th St & Lycoming St ', '5th St & Hunting Park Av', '5th St & Bristol St ', '5th St & Cayuga St', '5th St & Wingohocking St ', '5th St & Annsbury St ', 'Bristol St & Old York Rd', 'Old York Rd & Hunting Park Av', 'Old York Rd & Lycoming St ', 'Luzerne St & 10th St', 'Lycoming St & Old York Rd', 'Old York Rd & Hunting Park Av', 'Kensington Av & Erie Av ', 'Kensington Av & K St', 'Henry Av & Roberts Av MBNS', 'Henry Av & Roberts Av - MBNS', 'Hunting Park Av & G St - MBNS', 'Lehigh Av & B St', 'Lehigh Av & A St', 'Lehigh Av & 5th St', 'Lehigh Av & Lawrence St', 'Lehigh Av & 9th St', 'Lehigh Av & Germantown Av', 'Lehigh Av & 11th St', 'Lehigh Av & 12th St', 'Lehigh Av & 13th St', 'Lehigh Av & 15 St', 'Lehigh Av & 16th St', 'Lehigh Av & Glenwood Av - FS', 'Lehigh Av & Sedgley Av', 'Lehigh Av & 20th St - FS', 'Lehigh Av & 21st St', 'Lehigh Av & 23rd St', 'Lehigh Av & 24th St', 'Lehigh Av & 25th St', 'Lehigh Av & 26th St', 'Lehigh Av & 27th St', 'Lehigh Av & 28th St', 'Lehigh Av & 29th St', 'Lehigh Av & Chalmers Av', 'Lehigh Av & Broad St', '29th St & Allegheny Av', 'Lehigh Av & 6th St - FS', 'Lehigh Av & 22nd St', 'Allegheny Av & 5th St', 'Allegheny Av & Broad St', 'Allegheny Av & 26th St', 'Allegheny Av & 22nd St', 'Allegheny Av & Broad St', 'Allegheny Av & 5th St', 'Allegheny Av & Kensington Av', 'Allegheny & 27th St', 'Roosevelt Blvd & Broad St', 'Broad St & Allegheny Av', 'Hunting Park Av & Wissahickon Av - FS', 'Germantown Av & Broad St', 'Erie Av & Broad St', 'Erie Av & Germantown Av ', 'Ridge Av & Scotts Ln - MBNS', 'Erie Av & 10th St ', 'Windrim Av & Germantown Av', 'Wingohocking St & Uber St', 'Wingohocking St & 19th St ', 'Wingohocking St & 18th St ', 'Wingohocking St & 17th St ', 'Wingohocking St & 16th St ', 'Wingohocking St & 15th St ', 'Wyoming Av & Fairhill St', 'Wyoming Av & 3rd St ', 'Wyoming Av & 2nd St ', 'Wyoming Av & Mascher St ', 'Wyoming Av & Front St ', 'Wyoming Av & A St ', 'Wyoming Av & B St ', 'Wyoming Av & C St ', 'Wyoming Av & D St ', 'Wyoming Av & Whitaker Av', 'Wyoming Av & Weymouth St ', 'Wyoming Av & G St ', 'Wyoming Av & H St ', 'Wyoming Av & H St ', 'Wyoming Av & G St ', 'Wyoming Av & Weymouth St ', 'Wyoming Av & Whitaker Av', 'Wyoming Av & D St ', 'Wyoming Av & C St ', 'Wyoming Av & B St ', 'Wyoming Av & A St ', 'Wyoming Av & Front St ', 'Wyoming Av & Rising Sun Av ', 'Wyoming Av & 2nd St ', 'Wyoming Av & 3rd St ', '5th St & Roosevelt Blvd ', 'Allegheny Av & 35th St', 'Hunting Park Av & Westmoreland St', 'Hunting Park Av & Stokely St', 'Hunting Park Av & 24th St', 'Hunting Park Av & 20th St', 'Hunting Park Av & Germantown Av', 'Hunting Park Av & Broad St', 'Roosevelt Blvd & Mascher St', 'Roosevelt Blvd & Rising Sun - FS', 'Roosevelt Blvd & C St - FS', 'Roosevelt Blvd & Broad St - FS', 'Roosevelt Blvd & 5th St', 'Roosevelt Blvd & Broad St - FS', 'Hunting Park Av & Germantown Av', 'Hunting Park Av & Clarrisa St', '29th St & Hunting Park Av - FS', 'Allegheny Av & Ridge Av', 'Hunting Park Av & 21st St', 'Hunting Park Av & 18th St', 'Hunting Park Av & 17th St ', 'Hunting Park Av & 16th St', 'Hunting Park Av & 19th St', 'Hunting Park Av & Blaine St', 'Hunting Park Av & Blabon St', 'Hunting Park Av & Schuyler St', 'Roosevelt Blvd & Old York Rd - FS', 'Roosevelt Blvd & Old York Rd', 'Roosevelt Blvd & Wyoming Av', 'Roosevelt Blvd & 3rd St', 'Roosevelt Blvd & 2nd St - FS', 'Roosevelt Blvd & Front St', 'Roosevelt Blvd & B St', 'Roosevelt Blvd & Rorer St', 'Allegheny Av & Napa St', 'Front St & Indiana St ', 'Front St & Ontario St ', 'Front St & Hunting Park Av - MBFS', 'Kensington Av & Hunting Park Av', 'Kensington Av & Castor Av ', 'Kensington Av & M St ', 'Kensington Av & G St ', 'Kensington Av & F St ', 'Kensington Av & E St ', 'Windrim Av & Wayne Av - MBNS', 'Fox St & Hunting Park Av - MBFS', 'Roberts Av & Henry Av ', 'Abbottsford Av & Henry Av - FS', 'Abbottsford Av & Henry Av - MBFS', 'Abbottsford Av & Fox St', 'Fox St & Roberts Av - MBFS', 'Fox St & Bakers Centre - FS', 'Fox St & Roberts Av ', 'Rising Sun Av & Randolph St ', '6th St & Sedgley Av ', '6th St & Clearfield St ', '6th St & Somerset St ', '5th St & Allegheny Av ', '5th St & Rising Sun Av ', 'Erie Av & 2nd St ', 'Erie Av & F St ', 'Erie Av & D St - MBFS', 'Erie Av & Roberto Clemente Walk', 'Hunting Park Av & 15th St', 'Hunting Park Av & 17th St', 'Wayne Av & Roberts Av ', 'Henry Av & Abbottsford Av - MBFS', 'G St & Luzerne St - MBFS', 'Old York Rd & Luzerne St', 'Wayne Av & Clarissa St', 'Clarissa St & Wayne Av - MBFS', 'Clarissa St & Wayne Av - MBNS', 'Wissahickon Av & Abbottsford Av', 'Wissahickon Av & Roberts Av - MBFS', 'Wissahickon Av & Yelland St ', 'Butler St & 15th St ', 'Broad St & Rising Sun Av - FS', 'Broad St & Erie Av', 'Rising Sun Av & Westmoreland St - FS', '35th St & Allegheny Av Loop', 'Broad St & Erie Av - FS', 'Roberts Av & Green St', 'Ridge Av & Allegheny Av - FS', 'Broad St & Hunting Park Av', 'Allegheny Av & 7th St', 'Allegheny Av & 6th St', 'Allegheny Av & Mascher St', 'Allegheny Av & Mascher St', 'Lehigh Av & Gurney St', 'Lehigh Av & American St', 'Lehigh Av & 7th St', '22nd St & Venango St - FS', '22nd St & Somerset St', 'Ridge Av & Clearfield St', 'Ridge Av & Hunting Park Av - FS', 'Ridge Av & Ferry Rd - FS', 'Erie Av & D St - MBFS', 'Erie Av & G St - MBNS', 'Chalmers Av & Lehigh Av - FS', 'Wissahickon Av & Kroc Center Dr', 'Wissahickon Av & Kroc Center Dr', 'Broad St & Cayuga St - FS', 'Castor Av & Wingohocking St - FS', '2nd St & Erie Av - FS', 'Germantown Av & Erie Av', 'Allegheny Av & Ridge Av - FS', 'Lycoming St & 12th St', 'Wissahickon Av & Fernhill Walk', 'Bakers Centre & Fox St - onsite 1', 'Clarissa St & Dennie St', 'Front St & Lehigh Av - FS', 'Bakers Center & Roberts Av', 'Bakers Centre - onsite 2', 'Roberts Av & Bakers Centre', 'Allegheny Station - BSL', 'Erie Station - BSL', 'Hunting Park Station - BSL', 'Erie Torresdale Station - MFL', 'Tioga Station - MFL', 'Allegheny Station - MFL', 'Somerset Station - MFL', 'Hunting Park Av & Westmoreland St', 'Hunting Park Av & 7th St', 'Hunting Park Av & 6th St', 'Hunting Park Av & 5th St', 'Hunting Park Av & American St', 'Hunting Park Av & Front St', 'Hunting Park Av & G St - FS', 'Hunting Park Av & Whitaker Av', 'Hunting Park Av & Whitaker St', 'Hunting Park Av & Front St', 'Hunting Park Av & Bristol St', 'Hunting Park Av & American St', 'Hunting Park Av & 5th St', 'Hunting Park Av & 6th St', 'Hunting Park Av & 7th St', '9th St & Hunting Park Av - FS', '10th St & Luzern St', 'G St & Hunting Park Av - 2 MBFS', 'Hunting Park Av & Macalester St - FS', 'Hunting Park Av & Macalester St', 'Erie Av & Broad St - XH FS', '17th St & Pulaski Av']\n"
     ]
    }
   ],
   "source": [
    "targetallnorth = []\n",
    "for name in allnorth_stops.stop_name:\n",
    "    targetallnorth.append(name)\n",
    "    \n",
    "print(targetallnorth)"
   ]
  },
  {
   "cell_type": "markdown",
   "id": "3ec3d077",
   "metadata": {},
   "source": [
    "#### using the target lists"
   ]
  },
  {
   "cell_type": "code",
   "execution_count": 124,
   "id": "be26f405",
   "metadata": {},
   "outputs": [],
   "source": [
    "centraltargetlist = summertrip2021[\"Stop Seq.\"].apply(lambda sentence: any(word in sentence for word in targetcentral))\n",
    "summercentral = summertrip2021[centraltargetlist]\n",
    "print(\"central summer done\")"
   ]
  },
  {
   "cell_type": "code",
   "execution_count": 128,
   "id": "dbb6d686",
   "metadata": {},
   "outputs": [
    {
     "name": "stdout",
     "output_type": "stream",
     "text": [
      "central fall done\n"
     ]
    }
   ],
   "source": [
    "centraltargetlist = falltrip2021[\"Stop Seq.\"].apply(lambda sentence: any(word in sentence for word in targetcentral))\n",
    "fallcentral=  falltrip2021[centraltargetlist]\n",
    "print(\"central fall done\")"
   ]
  },
  {
   "cell_type": "code",
   "execution_count": 129,
   "id": "57b71eda",
   "metadata": {
    "scrolled": false
   },
   "outputs": [
    {
     "name": "stdout",
     "output_type": "stream",
     "text": [
      "allnorth summer done\n"
     ]
    }
   ],
   "source": [
    "allnorthtargetlist = summertrip2021[\"Stop Seq.\"].apply(lambda sentence: any(word in sentence for word in targetallnorth))\n",
    "summerallnorth =  summertrip2021[allnorthtargetlist]\n",
    "print(\"allnorth summer done\")"
   ]
  },
  {
   "cell_type": "code",
   "execution_count": 130,
   "id": "dead55dd",
   "metadata": {},
   "outputs": [
    {
     "name": "stdout",
     "output_type": "stream",
     "text": [
      "allnorth fall done\n"
     ]
    }
   ],
   "source": [
    "allnorthtargetlist = falltrip2021[\"Stop Seq.\"].apply(lambda sentence: any(word in sentence for word in targetallnorth))\n",
    "fallallnorth = falltrip2021[allnorthtargetlist]\n",
    "print(\"allnorth fall done\")"
   ]
  },
  {
   "cell_type": "code",
   "execution_count": 126,
   "id": "ccbc8a71",
   "metadata": {
    "scrolled": true
   },
   "outputs": [
    {
     "data": {
      "text/plain": [
       "array(['(015) - Grays Ferry Av & Carpenter St ',\n",
       "       '(016) - Grays Ferry Av & Christian St ',\n",
       "       '(017) - Grays Ferry Av & Catherine St ', ...,\n",
       "       '(047) - 13th St & Market St - MBFS',\n",
       "       '(086) - 69th St & Walnut St - FS',\n",
       "       '(088) - 69th St & Chestnut St '], dtype=object)"
      ]
     },
     "execution_count": 126,
     "metadata": {},
     "output_type": "execute_result"
    }
   ],
   "source": [
    "summercentral[\"Stop Seq.\"].unique()"
   ]
  },
  {
   "cell_type": "markdown",
   "id": "ca1e655b",
   "metadata": {},
   "source": [
    "### now merging the summer and fall"
   ]
  },
  {
   "cell_type": "code",
   "execution_count": 131,
   "id": "e25f8fa1",
   "metadata": {},
   "outputs": [
    {
     "name": "stdout",
     "output_type": "stream",
     "text": [
      "done\n"
     ]
    }
   ],
   "source": [
    "allcentral = pd.concat([summercentral, fallcentral])\n",
    "allallnorth = pd.concat([summerallnorth, fallallnorth])\n",
    "print(\"done\")"
   ]
  },
  {
   "cell_type": "code",
   "execution_count": 133,
   "id": "e13e2eaf",
   "metadata": {},
   "outputs": [
    {
     "data": {
      "text/plain": [
       "352401"
      ]
     },
     "execution_count": 133,
     "metadata": {},
     "output_type": "execute_result"
    }
   ],
   "source": [
    "len(allcentral)"
   ]
  },
  {
   "cell_type": "code",
   "execution_count": 132,
   "id": "18870b03",
   "metadata": {},
   "outputs": [
    {
     "data": {
      "text/plain": [
       "352401"
      ]
     },
     "execution_count": 132,
     "metadata": {},
     "output_type": "execute_result"
    }
   ],
   "source": [
    "summerc = len(summercentral)\n",
    "fallc = len(fallcentral)\n",
    "summerc + fallc"
   ]
  },
  {
   "cell_type": "code",
   "execution_count": 134,
   "id": "a5466441",
   "metadata": {},
   "outputs": [
    {
     "data": {
      "text/plain": [
       "571069"
      ]
     },
     "execution_count": 134,
     "metadata": {},
     "output_type": "execute_result"
    }
   ],
   "source": [
    "len(allallnorth)"
   ]
  },
  {
   "cell_type": "code",
   "execution_count": 135,
   "id": "2b24fce8",
   "metadata": {},
   "outputs": [
    {
     "data": {
      "text/plain": [
       "571069"
      ]
     },
     "execution_count": 135,
     "metadata": {},
     "output_type": "execute_result"
    }
   ],
   "source": [
    "summern = len(summerallnorth)\n",
    "falln = len(fallallnorth)\n",
    "summern + falln"
   ]
  },
  {
   "cell_type": "markdown",
   "id": "a2f9174d",
   "metadata": {},
   "source": [
    "### it worked! let's export"
   ]
  },
  {
   "cell_type": "code",
   "execution_count": 136,
   "id": "16e66dc1",
   "metadata": {},
   "outputs": [],
   "source": [
    "allcentral.to_csv('allcentral_stops.csv', index=False)\n",
    "allallnorth.to_csv('allallnorth_stops.csv', index=False)"
   ]
  },
  {
   "cell_type": "code",
   "execution_count": null,
   "id": "a262f387",
   "metadata": {},
   "outputs": [],
   "source": []
  },
  {
   "cell_type": "markdown",
   "id": "cff61712",
   "metadata": {},
   "source": [
    " # Round 2: getting rid of the weird numbers in the stop seq"
   ]
  },
  {
   "cell_type": "code",
   "execution_count": 137,
   "id": "a89c9b15",
   "metadata": {},
   "outputs": [
    {
     "name": "stdout",
     "output_type": "stream",
     "text": [
      "done\n"
     ]
    }
   ],
   "source": [
    "allcentral = allcentral.rename(columns = {'Stop Seq.': 'StopSeq'}) \n",
    "allallnorth = allallnorth.rename(columns = {'Stop Seq.': 'StopSeq'}) \n",
    "print(\"done\")"
   ]
  },
  {
   "cell_type": "code",
   "execution_count": 138,
   "id": "2aa21d0b",
   "metadata": {},
   "outputs": [],
   "source": [
    "import re\n",
    "regex = re.compile('[^a-zA-Z]')"
   ]
  },
  {
   "cell_type": "code",
   "execution_count": 139,
   "id": "d5be534e",
   "metadata": {},
   "outputs": [
    {
     "name": "stdout",
     "output_type": "stream",
     "text": [
      "done\n"
     ]
    }
   ],
   "source": [
    "stopseqC = []\n",
    "for stop in allcentral.StopSeq: \n",
    "    newstop = re.sub(\"[^a-zA-Z]+\", \"\", stop)\n",
    "    stopseqC.append(newstop)\n",
    "print(\"done\")"
   ]
  },
  {
   "cell_type": "code",
   "execution_count": 140,
   "id": "85c44e82",
   "metadata": {},
   "outputs": [
    {
     "name": "stdout",
     "output_type": "stream",
     "text": [
      "done\n"
     ]
    }
   ],
   "source": [
    "stopseqN = []\n",
    "for stop in allallnorth.StopSeq: \n",
    "    newstop = re.sub(\"[^a-zA-Z]+\", \"\", stop)\n",
    "    stopseqN.append(newstop)\n",
    "print(\"done\")"
   ]
  },
  {
   "cell_type": "code",
   "execution_count": 141,
   "id": "aae24f27",
   "metadata": {},
   "outputs": [
    {
     "name": "stdout",
     "output_type": "stream",
     "text": [
      "done\n"
     ]
    }
   ],
   "source": [
    "allcentral[\"stop_name\"] = stopseqC\n",
    "allallnorth[\"stop_name\"] = stopseqN\n",
    "print(\"done\")"
   ]
  },
  {
   "cell_type": "markdown",
   "id": "0d2a54a6",
   "metadata": {},
   "source": [
    "## this got rid of the & and the -, so it will be hard to match with the bustops table, so I will just get rid of those symbols int he bus stop table"
   ]
  },
  {
   "cell_type": "code",
   "execution_count": 142,
   "id": "75a80ea7",
   "metadata": {},
   "outputs": [],
   "source": [
    "allseptabus = pd.read_csv(r'.\\data\\septa_bus_stops_all.csv')\n"
   ]
  },
  {
   "cell_type": "code",
   "execution_count": 143,
   "id": "fb61ca26",
   "metadata": {},
   "outputs": [
    {
     "name": "stdout",
     "output_type": "stream",
     "text": [
      "done\n"
     ]
    }
   ],
   "source": [
    "stopseq3 = []\n",
    "for stop in allseptabus.stop_name: \n",
    "    newstop = re.sub(\"[^a-zA-Z]+\", \"\", stop)\n",
    "    stopseq3.append(newstop)\n",
    "print('done')\n"
   ]
  },
  {
   "cell_type": "code",
   "execution_count": 144,
   "id": "c5a46799",
   "metadata": {},
   "outputs": [],
   "source": [
    "allseptabus[\"cleanstop_name\"] = stopseq3"
   ]
  },
  {
   "cell_type": "markdown",
   "id": "db77a6d0",
   "metadata": {},
   "source": [
    "## now merging them together to get those geoms "
   ]
  },
  {
   "cell_type": "code",
   "execution_count": 162,
   "id": "1f6c2ee8",
   "metadata": {
    "scrolled": true
   },
   "outputs": [
    {
     "name": "stdout",
     "output_type": "stream",
     "text": [
      "done\n"
     ]
    }
   ],
   "source": [
    "allcentral.geom = allcentral.join( allseptabus, rsuffix= \"cleanstop_name\", lsuffix = \"stop_name\")\n",
    "allallnorth.geom = allallnorth.join( allseptabus, rsuffix= \"cleanstop_name\", lsuffix = \"stop_name\")\n",
    "print(\"done\")"
   ]
  },
  {
   "cell_type": "code",
   "execution_count": 177,
   "id": "997301af",
   "metadata": {},
   "outputs": [
    {
     "data": {
      "text/html": [
       "<div>\n",
       "<style scoped>\n",
       "    .dataframe tbody tr th:only-of-type {\n",
       "        vertical-align: middle;\n",
       "    }\n",
       "\n",
       "    .dataframe tbody tr th {\n",
       "        vertical-align: top;\n",
       "    }\n",
       "\n",
       "    .dataframe thead th {\n",
       "        text-align: right;\n",
       "    }\n",
       "</style>\n",
       "<table border=\"1\" class=\"dataframe\">\n",
       "  <thead>\n",
       "    <tr style=\"text-align: right;\">\n",
       "      <th></th>\n",
       "      <th>Unnamed: 0</th>\n",
       "      <th>Route</th>\n",
       "      <th>Direction</th>\n",
       "      <th>Pattern</th>\n",
       "      <th>Trip</th>\n",
       "      <th>Trip Code</th>\n",
       "      <th>Trip Type</th>\n",
       "      <th>Stop Code</th>\n",
       "      <th>StopSeq</th>\n",
       "      <th>Avg. Ons</th>\n",
       "      <th>...</th>\n",
       "      <th>stop_namecleanstop_name</th>\n",
       "      <th>stop_lat</th>\n",
       "      <th>stop_lon</th>\n",
       "      <th>location_type</th>\n",
       "      <th>parent_station</th>\n",
       "      <th>zone_id</th>\n",
       "      <th>wheelchair_boarding</th>\n",
       "      <th>the_geom</th>\n",
       "      <th>the_geom_2272</th>\n",
       "      <th>cleanstop_name</th>\n",
       "    </tr>\n",
       "  </thead>\n",
       "  <tbody>\n",
       "    <tr>\n",
       "      <th>0</th>\n",
       "      <td>1.0</td>\n",
       "      <td>1</td>\n",
       "      <td>Northbound</td>\n",
       "      <td>N08</td>\n",
       "      <td>[05:13] 8548782</td>\n",
       "      <td>8548782</td>\n",
       "      <td>Revenue</td>\n",
       "      <td>4st</td>\n",
       "      <td>(001) - Roosevelt Blvd &amp; Broad St - FS</td>\n",
       "      <td>9.696970</td>\n",
       "      <td>...</td>\n",
       "      <td>Roosevelt Blvd &amp; Comly Rd</td>\n",
       "      <td>40.105172</td>\n",
       "      <td>-75.001575</td>\n",
       "      <td>NaN</td>\n",
       "      <td>NaN</td>\n",
       "      <td>1.0</td>\n",
       "      <td>1.0</td>\n",
       "      <td>0101000020E6100000705F07CE19C052C03B3AAE46760D...</td>\n",
       "      <td>0101000020E0080000705F07CE19C052C03B3AAE46760D...</td>\n",
       "      <td>RooseveltBlvdComlyRd</td>\n",
       "    </tr>\n",
       "    <tr>\n",
       "      <th>0</th>\n",
       "      <td>NaN</td>\n",
       "      <td>1</td>\n",
       "      <td>Northbound</td>\n",
       "      <td>N08</td>\n",
       "      <td>[05:13] 8670224</td>\n",
       "      <td>8670224</td>\n",
       "      <td>Revenue</td>\n",
       "      <td>4st</td>\n",
       "      <td>(001) - Roosevelt Blvd &amp; Broad St - FS</td>\n",
       "      <td>9.000000</td>\n",
       "      <td>...</td>\n",
       "      <td>Roosevelt Blvd &amp; Comly Rd</td>\n",
       "      <td>40.105172</td>\n",
       "      <td>-75.001575</td>\n",
       "      <td>NaN</td>\n",
       "      <td>NaN</td>\n",
       "      <td>1.0</td>\n",
       "      <td>1.0</td>\n",
       "      <td>0101000020E6100000705F07CE19C052C03B3AAE46760D...</td>\n",
       "      <td>0101000020E0080000705F07CE19C052C03B3AAE46760D...</td>\n",
       "      <td>RooseveltBlvdComlyRd</td>\n",
       "    </tr>\n",
       "    <tr>\n",
       "      <th>1</th>\n",
       "      <td>2.0</td>\n",
       "      <td>1</td>\n",
       "      <td>Northbound</td>\n",
       "      <td>N08</td>\n",
       "      <td>[05:13] 8548782</td>\n",
       "      <td>8548782</td>\n",
       "      <td>Revenue</td>\n",
       "      <td>22406st</td>\n",
       "      <td>(002) - Roosevelt Blvd &amp; 9th St</td>\n",
       "      <td>2.303030</td>\n",
       "      <td>...</td>\n",
       "      <td>Roosevelt Blvd &amp; Solly Av - FS</td>\n",
       "      <td>40.058873</td>\n",
       "      <td>-75.045067</td>\n",
       "      <td>NaN</td>\n",
       "      <td>NaN</td>\n",
       "      <td>1.0</td>\n",
       "      <td>1.0</td>\n",
       "      <td>0101000020E61000003FC8B260E2C252C007CF84268907...</td>\n",
       "      <td>0101000020E00800003FC8B260E2C252C007CF84268907...</td>\n",
       "      <td>RooseveltBlvdSollyAvFS</td>\n",
       "    </tr>\n",
       "    <tr>\n",
       "      <th>1</th>\n",
       "      <td>NaN</td>\n",
       "      <td>1</td>\n",
       "      <td>Northbound</td>\n",
       "      <td>N08</td>\n",
       "      <td>[05:13] 8670224</td>\n",
       "      <td>8670224</td>\n",
       "      <td>Revenue</td>\n",
       "      <td>22406st</td>\n",
       "      <td>(002) - Roosevelt Blvd &amp; 9th St</td>\n",
       "      <td>2.235294</td>\n",
       "      <td>...</td>\n",
       "      <td>Roosevelt Blvd &amp; Solly Av - FS</td>\n",
       "      <td>40.058873</td>\n",
       "      <td>-75.045067</td>\n",
       "      <td>NaN</td>\n",
       "      <td>NaN</td>\n",
       "      <td>1.0</td>\n",
       "      <td>1.0</td>\n",
       "      <td>0101000020E61000003FC8B260E2C252C007CF84268907...</td>\n",
       "      <td>0101000020E00800003FC8B260E2C252C007CF84268907...</td>\n",
       "      <td>RooseveltBlvdSollyAvFS</td>\n",
       "    </tr>\n",
       "    <tr>\n",
       "      <th>2</th>\n",
       "      <td>3.0</td>\n",
       "      <td>1</td>\n",
       "      <td>Northbound</td>\n",
       "      <td>N08</td>\n",
       "      <td>[05:13] 8548782</td>\n",
       "      <td>8548782</td>\n",
       "      <td>Revenue</td>\n",
       "      <td>23308st</td>\n",
       "      <td>(003) - Roosevelt Blvd &amp; Wyoming Av</td>\n",
       "      <td>0.000000</td>\n",
       "      <td>...</td>\n",
       "      <td>Roosevelt Blvd &amp; Cottman Av</td>\n",
       "      <td>40.044862</td>\n",
       "      <td>-75.054530</td>\n",
       "      <td>NaN</td>\n",
       "      <td>NaN</td>\n",
       "      <td>1.0</td>\n",
       "      <td>1.0</td>\n",
       "      <td>0101000020E6100000A8A9656B7DC352C0A56ABB09BE05...</td>\n",
       "      <td>0101000020E0080000A8A9656B7DC352C0A56ABB09BE05...</td>\n",
       "      <td>RooseveltBlvdCottmanAv</td>\n",
       "    </tr>\n",
       "  </tbody>\n",
       "</table>\n",
       "<p>5 rows × 34 columns</p>\n",
       "</div>"
      ],
      "text/plain": [
       "   Unnamed: 0 Route   Direction Pattern             Trip  Trip Code Trip Type  \\\n",
       "0         1.0     1  Northbound     N08  [05:13] 8548782    8548782   Revenue   \n",
       "0         NaN     1  Northbound     N08  [05:13] 8670224    8670224   Revenue   \n",
       "1         2.0     1  Northbound     N08  [05:13] 8548782    8548782   Revenue   \n",
       "1         NaN     1  Northbound     N08  [05:13] 8670224    8670224   Revenue   \n",
       "2         3.0     1  Northbound     N08  [05:13] 8548782    8548782   Revenue   \n",
       "\n",
       "  Stop Code                                 StopSeq  Avg. Ons  ...  \\\n",
       "0       4st  (001) - Roosevelt Blvd & Broad St - FS  9.696970  ...   \n",
       "0       4st  (001) - Roosevelt Blvd & Broad St - FS  9.000000  ...   \n",
       "1   22406st         (002) - Roosevelt Blvd & 9th St  2.303030  ...   \n",
       "1   22406st         (002) - Roosevelt Blvd & 9th St  2.235294  ...   \n",
       "2   23308st     (003) - Roosevelt Blvd & Wyoming Av  0.000000  ...   \n",
       "\n",
       "          stop_namecleanstop_name   stop_lat   stop_lon location_type  \\\n",
       "0       Roosevelt Blvd & Comly Rd  40.105172 -75.001575           NaN   \n",
       "0       Roosevelt Blvd & Comly Rd  40.105172 -75.001575           NaN   \n",
       "1  Roosevelt Blvd & Solly Av - FS  40.058873 -75.045067           NaN   \n",
       "1  Roosevelt Blvd & Solly Av - FS  40.058873 -75.045067           NaN   \n",
       "2     Roosevelt Blvd & Cottman Av  40.044862 -75.054530           NaN   \n",
       "\n",
       "  parent_station zone_id wheelchair_boarding  \\\n",
       "0            NaN     1.0                 1.0   \n",
       "0            NaN     1.0                 1.0   \n",
       "1            NaN     1.0                 1.0   \n",
       "1            NaN     1.0                 1.0   \n",
       "2            NaN     1.0                 1.0   \n",
       "\n",
       "                                            the_geom  \\\n",
       "0  0101000020E6100000705F07CE19C052C03B3AAE46760D...   \n",
       "0  0101000020E6100000705F07CE19C052C03B3AAE46760D...   \n",
       "1  0101000020E61000003FC8B260E2C252C007CF84268907...   \n",
       "1  0101000020E61000003FC8B260E2C252C007CF84268907...   \n",
       "2  0101000020E6100000A8A9656B7DC352C0A56ABB09BE05...   \n",
       "\n",
       "                                       the_geom_2272          cleanstop_name  \n",
       "0  0101000020E0080000705F07CE19C052C03B3AAE46760D...    RooseveltBlvdComlyRd  \n",
       "0  0101000020E0080000705F07CE19C052C03B3AAE46760D...    RooseveltBlvdComlyRd  \n",
       "1  0101000020E00800003FC8B260E2C252C007CF84268907...  RooseveltBlvdSollyAvFS  \n",
       "1  0101000020E00800003FC8B260E2C252C007CF84268907...  RooseveltBlvdSollyAvFS  \n",
       "2  0101000020E0080000A8A9656B7DC352C0A56ABB09BE05...  RooseveltBlvdCottmanAv  \n",
       "\n",
       "[5 rows x 34 columns]"
      ]
     },
     "execution_count": 177,
     "metadata": {},
     "output_type": "execute_result"
    }
   ],
   "source": [
    "allallnorth.geom.head()"
   ]
  },
  {
   "cell_type": "code",
   "execution_count": 178,
   "id": "4f4d555e",
   "metadata": {
    "scrolled": true
   },
   "outputs": [],
   "source": [
    "allcentral.geom = allcentral.geom.drop(columns= ['Unnamed: 0', 'location_type', 'parent_station', 'zone_id', 'wheelchair_boarding','the_geom_2272'])\n",
    "allallnorth.geom = allallnorth.geom.drop(columns= ['Unnamed: 0','location_type', 'parent_station', 'zone_id', 'wheelchair_boarding','the_geom_2272'])"
   ]
  },
  {
   "cell_type": "code",
   "execution_count": 181,
   "id": "2b54a9e7",
   "metadata": {},
   "outputs": [
    {
     "data": {
      "text/plain": [
       "352401"
      ]
     },
     "execution_count": 181,
     "metadata": {},
     "output_type": "execute_result"
    }
   ],
   "source": [
    "len(allcentral)"
   ]
  },
  {
   "cell_type": "code",
   "execution_count": 182,
   "id": "95ac050a",
   "metadata": {},
   "outputs": [
    {
     "data": {
      "text/plain": [
       "352401"
      ]
     },
     "execution_count": 182,
     "metadata": {},
     "output_type": "execute_result"
    }
   ],
   "source": [
    "len(allcentral.geom)"
   ]
  },
  {
   "cell_type": "code",
   "execution_count": 183,
   "id": "bd242481",
   "metadata": {},
   "outputs": [],
   "source": [
    "allcentral.geom.to_csv('allcentral_stops_geom.csv', index=False)\n",
    "allallnorth.geom.to_csv('allallnorth_stops_geom.csv', index=False)"
   ]
  },
  {
   "cell_type": "markdown",
   "id": "5c5281b8",
   "metadata": {},
   "source": [
    "# everything below is not clean"
   ]
  },
  {
   "cell_type": "code",
   "execution_count": null,
   "id": "e9b55a55",
   "metadata": {},
   "outputs": [],
   "source": [
    "print(allBGE.geom.columns)"
   ]
  },
  {
   "cell_type": "code",
   "execution_count": null,
   "id": "b9186a15",
   "metadata": {},
   "outputs": [],
   "source": [
    "allBGE.geom = allBGE.geom.drop(columns= ['location_type', 'parent_station', 'zone_id', 'wheelchair_boarding', 'dist', 'stop_name_y'])"
   ]
  },
  {
   "cell_type": "code",
   "execution_count": 154,
   "id": "8263fb5e",
   "metadata": {},
   "outputs": [
    {
     "data": {
      "text/plain": [
       "4210665"
      ]
     },
     "execution_count": 154,
     "metadata": {},
     "output_type": "execute_result"
    }
   ],
   "source": [
    "len(allcentral.geom)"
   ]
  },
  {
   "cell_type": "code",
   "execution_count": 155,
   "id": "1b031084",
   "metadata": {},
   "outputs": [
    {
     "data": {
      "text/plain": [
       "352401"
      ]
     },
     "execution_count": 155,
     "metadata": {},
     "output_type": "execute_result"
    }
   ],
   "source": [
    "len(allcentral)"
   ]
  },
  {
   "cell_type": "code",
   "execution_count": null,
   "id": "1aabd89e",
   "metadata": {},
   "outputs": [],
   "source": [
    "allBGE.geom.isnull().values.any()"
   ]
  },
  {
   "cell_type": "code",
   "execution_count": null,
   "id": "7f365a7f",
   "metadata": {},
   "outputs": [],
   "source": [
    "allBGE[\"stop_name\"] = stopseq"
   ]
  },
  {
   "cell_type": "code",
   "execution_count": null,
   "id": "79bdadf9",
   "metadata": {
    "scrolled": false
   },
   "outputs": [],
   "source": [
    "allBGE.head()"
   ]
  },
  {
   "cell_type": "markdown",
   "id": "ec931ad5",
   "metadata": {},
   "source": [
    "# This is just extra stuff that helped me figure stuff out"
   ]
  },
  {
   "cell_type": "code",
   "execution_count": null,
   "id": "32f34511",
   "metadata": {},
   "outputs": [],
   "source": [
    " Erie = trip2021[\"Stop Seq.\"].str.contains(\"Erie\", case=True)"
   ]
  },
  {
   "cell_type": "code",
   "execution_count": null,
   "id": "03cec8b6",
   "metadata": {},
   "outputs": [],
   "source": [
    "German = trip2021[\"Stop Seq.\"].str.contains(\"German\", case=True)"
   ]
  },
  {
   "cell_type": "code",
   "execution_count": null,
   "id": "6ed9d955",
   "metadata": {},
   "outputs": [],
   "source": [
    "GermanErie= trip2021[\"Stop Seq.\"].str.contains(\"German|Erie\", case=True)"
   ]
  },
  {
   "cell_type": "code",
   "execution_count": null,
   "id": "49b3f7c2",
   "metadata": {},
   "outputs": [],
   "source": [
    "GE = ['Germantown', 'Erie']"
   ]
  },
  {
   "cell_type": "code",
   "execution_count": null,
   "id": "e93217d3",
   "metadata": {},
   "outputs": [],
   "source": [
    "GElist = trip2021[\"Stop Seq.\"].apply(lambda sentence: all(word in sentence for word in GE))"
   ]
  },
  {
   "cell_type": "code",
   "execution_count": null,
   "id": "48219934",
   "metadata": {},
   "outputs": [],
   "source": [
    "XHErie = ['XH', 'Erie']"
   ]
  },
  {
   "cell_type": "code",
   "execution_count": null,
   "id": "6b3e5eea",
   "metadata": {},
   "outputs": [],
   "source": [
    "XHErielist = trip2021[\"Stop Seq.\"].apply(lambda sentence: all(word in sentence for word in XHErie))"
   ]
  }
 ],
 "metadata": {
  "kernelspec": {
   "display_name": "Python 3 (ipykernel)",
   "language": "python",
   "name": "python3"
  },
  "language_info": {
   "codemirror_mode": {
    "name": "ipython",
    "version": 3
   },
   "file_extension": ".py",
   "mimetype": "text/x-python",
   "name": "python",
   "nbconvert_exporter": "python",
   "pygments_lexer": "ipython3",
   "version": "3.8.12"
  }
 },
 "nbformat": 4,
 "nbformat_minor": 5
}
