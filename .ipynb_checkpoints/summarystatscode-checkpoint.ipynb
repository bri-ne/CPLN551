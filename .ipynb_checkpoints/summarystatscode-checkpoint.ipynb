{
 "cells": [
  {
   "cell_type": "code",
   "execution_count": 2,
   "id": "75e2fcac",
   "metadata": {},
   "outputs": [],
   "source": [
    "import pandas as pd\n",
    "import geopandas as gpd"
   ]
  },
  {
   "cell_type": "code",
   "execution_count": 4,
   "id": "ee9995b9",
   "metadata": {},
   "outputs": [
    {
     "name": "stderr",
     "output_type": "stream",
     "text": [
      "C:\\Users\\brine\\miniconda3\\envs\\musa-550-fall-2021\\lib\\site-packages\\IPython\\core\\interactiveshell.py:3441: DtypeWarning: Columns (0,23,26,27) have mixed types.Specify dtype option on import or set low_memory=False.\n",
      "  exec(code_obj, self.user_global_ns, self.user_ns)\n"
     ]
    }
   ],
   "source": [
    "BGE = pd.read_csv(r'.\\data\\allBGE_geom.csv')\n",
    "allnorth = pd.read_csv(r'.\\do_not_push\\allallnorth_stops_geom.csv')\n",
    "center = pd.read_csv(r'.\\do_not_push\\allcentral_stops_geom.csv')"
   ]
  },
  {
   "cell_type": "code",
   "execution_count": 6,
   "id": "b25ddd31",
   "metadata": {},
   "outputs": [
    {
     "data": {
      "text/plain": [
       "4238"
      ]
     },
     "execution_count": 6,
     "metadata": {},
     "output_type": "execute_result"
    }
   ],
   "source": [
    "len(BGE)"
   ]
  },
  {
   "cell_type": "code",
   "execution_count": 7,
   "id": "317aa78d",
   "metadata": {},
   "outputs": [
    {
     "data": {
      "text/plain": [
       "571069"
      ]
     },
     "execution_count": 7,
     "metadata": {},
     "output_type": "execute_result"
    }
   ],
   "source": [
    "len(allnorth)"
   ]
  },
  {
   "cell_type": "code",
   "execution_count": 8,
   "id": "a873c300",
   "metadata": {},
   "outputs": [
    {
     "data": {
      "text/plain": [
       "352401"
      ]
     },
     "execution_count": 8,
     "metadata": {},
     "output_type": "execute_result"
    }
   ],
   "source": [
    "len(center)"
   ]
  },
  {
   "cell_type": "markdown",
   "id": "00e67375",
   "metadata": {},
   "source": [
    "# Finding Some Stats \n",
    "#### BGE compared to center city, three north divisions, and city-wide"
   ]
  },
  {
   "cell_type": "code",
   "execution_count": 46,
   "id": "f92e8fde",
   "metadata": {},
   "outputs": [],
   "source": [
    "## ONS \n",
    "centralTotalAvgOns = center[\"Avg. Ons\"].sum()\n",
    "allnorthTotalAvgOns = allnorth[\"Avg. Ons\"].sum()\n",
    "bgeTotalAvgOns = BGE[\"Avg. Ons\"].sum()\n",
    "centralAvgAvgOns = center[\"Avg. Ons\"].mean()\n",
    "allnorthAvgAvgOns = allnorth[\"Avg. Ons\"].mean()\n",
    "bgeAvgAvgOns = BGE[\"Avg. Ons\"].mean()\n",
    "\n",
    "centralAvgOns = center[\"Avg. Ons\"]\n",
    "allnorthAvgOns = allnorth[\"Avg. Ons\"]\n",
    "BGEAvgOns = BGE[\"Avg. Ons\"]\n",
    "\n",
    "centralMaxAvgOns = centralAvgOns.max()\n",
    "allnorthMaxAvgOns = allnorthAvgOns.max()\n",
    "BGEMaxAvgOns = BGEAvgOns.max()\n",
    "\n",
    "centralMinAvgOns = centralAvgOns.min()\n",
    "allnorthMinAvgOns = allnorthAvgOns.min()\n",
    "BGEMinAvgOns = BGEAvgOns.min()"
   ]
  },
  {
   "cell_type": "code",
   "execution_count": 47,
   "id": "2cd8121b",
   "metadata": {},
   "outputs": [],
   "source": [
    "## OFFS\n",
    "centralTotalAvgoffs = center[\"Avg. Offs\"].sum()\n",
    "allnorthTotalAvgOffs = allnorth[\"Avg. Offs\"].sum()\n",
    "bgeTotalAvgOffs = BGE[\"Avg. Offs\"].sum()\n",
    "centralAvgAvgoffs = center[\"Avg. Offs\"].mean()\n",
    "allnorthAvgAvgOffs = allnorth[\"Avg. Offs\"].mean()\n",
    "bgeAvgAvgOffs = BGE[\"Avg. Offs\"].mean()\n",
    "\n",
    "centralAvgOffs = center[\"Avg. Offs\"]\n",
    "allnorthAvgOffs = allnorth[\"Avg. Offs\"]\n",
    "BGEAvgOffs = BGE[\"Avg. Offs\"]\n",
    "\n",
    "centralMaxAvgOffs = centralAvgOffs.max()\n",
    "allnorthMaxAvgOffs = allnorthAvgOffs.max()\n",
    "BGEMaxAvgOffs = BGEAvgOffs.max()\n",
    "\n",
    "centralMinAvgOffs = centralAvgOffs.min()\n",
    "allnorthMinAvgOffs = allnorthAvgOffs.min()\n",
    "BGEMinAvgOffs = BGEAvgOffs.min()"
   ]
  },
  {
   "cell_type": "code",
   "execution_count": 59,
   "id": "72ae08d5",
   "metadata": {},
   "outputs": [],
   "source": [
    "## COUNTS \n",
    "centralcount = center[\"cleanstop_name\"].drop_duplicates().count()\n",
    "allnorthcount = allnorth[\"cleanstop_name\"].drop_duplicates().count()\n",
    "BGEcount = BGE[\"cleanstop_name\"].drop_duplicates().count()\n",
    "\n",
    "centralTripcount = center[\"Trip Code\"].drop_duplicates().count()\n",
    "allnorthTripcount = allnorth[\"Trip Code\"].drop_duplicates().count()\n",
    "BGETripcount = BGE[\"Trip Code\"].drop_duplicates().count()"
   ]
  },
  {
   "cell_type": "code",
   "execution_count": 20,
   "id": "651f5fd8",
   "metadata": {},
   "outputs": [],
   "source": []
  },
  {
   "cell_type": "code",
   "execution_count": 61,
   "id": "6ac08082",
   "metadata": {},
   "outputs": [
    {
     "data": {
      "text/plain": [
       "18606"
      ]
     },
     "execution_count": 61,
     "metadata": {},
     "output_type": "execute_result"
    }
   ],
   "source": [
    "allnorthTripcount"
   ]
  },
  {
   "cell_type": "code",
   "execution_count": 54,
   "id": "2b7727f4",
   "metadata": {},
   "outputs": [
    {
     "name": "stderr",
     "output_type": "stream",
     "text": [
      "C:\\Users\\brine\\miniconda3\\envs\\musa-550-fall-2021\\lib\\site-packages\\IPython\\core\\interactiveshell.py:3441: DtypeWarning: Columns (1) have mixed types.Specify dtype option on import or set low_memory=False.\n",
      "  exec(code_obj, self.user_global_ns, self.user_ns)\n"
     ]
    }
   ],
   "source": [
    "summer = pd.read_csv(r'.\\do_not_push\\All_Routes_Trip_Summary_Summer2021.csv')\n",
    "fall = pd.read_csv(r'.\\do_not_push\\City_Trip_Summary_Fall2021.csv')"
   ]
  },
  {
   "cell_type": "code",
   "execution_count": 55,
   "id": "874910de",
   "metadata": {},
   "outputs": [],
   "source": [
    "allstops = pd.concat([summer,fall])"
   ]
  },
  {
   "cell_type": "code",
   "execution_count": 64,
   "id": "44a39900",
   "metadata": {},
   "outputs": [
    {
     "name": "stdout",
     "output_type": "stream",
     "text": [
      "done\n"
     ]
    }
   ],
   "source": [
    "allstops = allstops.rename(columns = {'Stop Seq.': 'StopSeq'}) \n",
    "print(\"done\")"
   ]
  },
  {
   "cell_type": "code",
   "execution_count": 65,
   "id": "dc1c6688",
   "metadata": {},
   "outputs": [],
   "source": [
    "import re\n",
    "regex = re.compile('[^a-zA-Z]')"
   ]
  },
  {
   "cell_type": "code",
   "execution_count": 66,
   "id": "c59d8b1b",
   "metadata": {},
   "outputs": [
    {
     "name": "stdout",
     "output_type": "stream",
     "text": [
      "done\n"
     ]
    }
   ],
   "source": [
    "stopseq = []\n",
    "for stop in allstops.StopSeq: \n",
    "    newstop = re.sub(\"[^a-zA-Z]+\", \"\", stop)\n",
    "    stopseq.append(newstop)\n",
    "print(\"done\")"
   ]
  },
  {
   "cell_type": "code",
   "execution_count": 67,
   "id": "6ad56192",
   "metadata": {},
   "outputs": [
    {
     "name": "stdout",
     "output_type": "stream",
     "text": [
      "done\n"
     ]
    }
   ],
   "source": [
    "allstops[\"stop_name\"] = stopseq\n",
    "print(\"done\")"
   ]
  },
  {
   "cell_type": "code",
   "execution_count": 79,
   "id": "5430199e",
   "metadata": {},
   "outputs": [],
   "source": [
    "## ONS\n",
    "ALLTotalAvgOns = allstops[\"Avg. Ons\"].sum()\n",
    "ALLAvgAvgOns = allstops[\"Avg. Ons\"].mean()\n",
    "\n",
    "ALLAvgOns = allstops[\"Avg. Ons\"]\n",
    "\n",
    "ALLMaxAvgOns = ALLAvgOns.max()\n",
    "ALLMinAvgOns = ALLAvgOns.min()\n",
    "\n",
    "## OFFS\n",
    "ALLTotalAvgOffs = allstops[\"Avg. Offs\"].sum()\n",
    "ALLAvgAvgOffs = allstops[\"Avg. Offs\"].mean()\n",
    "\n",
    "ALLAvgOffs = allstops[\"Avg. Offs\"]\n",
    "\n",
    "\n",
    "ALLMaxAvgOffs = ALLAvgOffs.max()\n",
    "ALLMinAvgOffs = ALLAvgOffs.min()\n",
    "\n",
    "## COUNTS\n",
    "ALLcount = allstops[\"stop_name\"].drop_duplicates().count()\n",
    "ALLTripcount = allstops[\"Trip Code\"].drop_duplicates().count()"
   ]
  },
  {
   "cell_type": "code",
   "execution_count": 80,
   "id": "124a4c9d",
   "metadata": {},
   "outputs": [
    {
     "data": {
      "text/html": [
       "<div>\n",
       "<style scoped>\n",
       "    .dataframe tbody tr th:only-of-type {\n",
       "        vertical-align: middle;\n",
       "    }\n",
       "\n",
       "    .dataframe tbody tr th {\n",
       "        vertical-align: top;\n",
       "    }\n",
       "\n",
       "    .dataframe thead th {\n",
       "        text-align: right;\n",
       "    }\n",
       "</style>\n",
       "<table border=\"1\" class=\"dataframe\">\n",
       "  <thead>\n",
       "    <tr style=\"text-align: right;\">\n",
       "      <th></th>\n",
       "      <th>Area</th>\n",
       "      <th>Number of Unique Stops Included</th>\n",
       "      <th>Trip Count</th>\n",
       "      <th>Total Avg Ons</th>\n",
       "      <th>Total Avg Offs</th>\n",
       "      <th>Mean Avg Ons</th>\n",
       "      <th>Mean Avg Offs</th>\n",
       "      <th>Max Avg Ons</th>\n",
       "      <th>Max Avg Offs</th>\n",
       "    </tr>\n",
       "  </thead>\n",
       "  <tbody>\n",
       "    <tr>\n",
       "      <th>0</th>\n",
       "      <td>BGE</td>\n",
       "      <td>10</td>\n",
       "      <td>3378</td>\n",
       "      <td>7180.861149</td>\n",
       "      <td>8073.052679</td>\n",
       "      <td>1.694399</td>\n",
       "      <td>1.904920</td>\n",
       "      <td>26.0</td>\n",
       "      <td>45.0</td>\n",
       "    </tr>\n",
       "    <tr>\n",
       "      <th>1</th>\n",
       "      <td>central</td>\n",
       "      <td>4349</td>\n",
       "      <td>18054</td>\n",
       "      <td>131225.681104</td>\n",
       "      <td>128479.027937</td>\n",
       "      <td>0.372376</td>\n",
       "      <td>0.364582</td>\n",
       "      <td>36.0</td>\n",
       "      <td>39.5</td>\n",
       "    </tr>\n",
       "    <tr>\n",
       "      <th>2</th>\n",
       "      <td>allnorth</td>\n",
       "      <td>3626</td>\n",
       "      <td>18606</td>\n",
       "      <td>190971.999801</td>\n",
       "      <td>193388.060779</td>\n",
       "      <td>0.334411</td>\n",
       "      <td>0.338642</td>\n",
       "      <td>50.0</td>\n",
       "      <td>51.0</td>\n",
       "    </tr>\n",
       "    <tr>\n",
       "      <th>3</th>\n",
       "      <td>city wide</td>\n",
       "      <td>8616</td>\n",
       "      <td>40264</td>\n",
       "      <td>814638.701512</td>\n",
       "      <td>816831.925985</td>\n",
       "      <td>0.293624</td>\n",
       "      <td>0.294415</td>\n",
       "      <td>60.0</td>\n",
       "      <td>51.0</td>\n",
       "    </tr>\n",
       "  </tbody>\n",
       "</table>\n",
       "</div>"
      ],
      "text/plain": [
       "        Area  Number of Unique Stops Included  Trip Count  Total Avg Ons  \\\n",
       "0        BGE                               10        3378    7180.861149   \n",
       "1    central                             4349       18054  131225.681104   \n",
       "2   allnorth                             3626       18606  190971.999801   \n",
       "3  city wide                             8616       40264  814638.701512   \n",
       "\n",
       "   Total Avg Offs  Mean Avg Ons  Mean Avg Offs  Max Avg Ons  Max Avg Offs  \n",
       "0     8073.052679      1.694399       1.904920         26.0          45.0  \n",
       "1   128479.027937      0.372376       0.364582         36.0          39.5  \n",
       "2   193388.060779      0.334411       0.338642         50.0          51.0  \n",
       "3   816831.925985      0.293624       0.294415         60.0          51.0  "
      ]
     },
     "execution_count": 80,
     "metadata": {},
     "output_type": "execute_result"
    }
   ],
   "source": [
    "# initialize list of lists\n",
    "data = [['BGE', \n",
    "         BGEcount, \n",
    "         BGETripcount,\n",
    "         bgeTotalAvgOns, \n",
    "         bgeTotalAvgOffs, \n",
    "         bgeAvgAvgOns, \n",
    "         bgeAvgAvgOffs, \n",
    "         BGEMaxAvgOns, \n",
    "         BGEMaxAvgOffs],\n",
    "        ['central', \n",
    "         centralcount, \n",
    "         centralTripcount,\n",
    "         centralTotalAvgOns, \n",
    "         centralTotalAvgoffs, \n",
    "         centralAvgAvgOns, \n",
    "         centralAvgAvgoffs, \n",
    "         centralMaxAvgOns, \n",
    "         centralMaxAvgOffs], \n",
    "        ['allnorth', \n",
    "         allnorthcount, \n",
    "         allnorthTripcount,\n",
    "         allnorthTotalAvgOns, \n",
    "         allnorthTotalAvgOffs, \n",
    "         allnorthAvgAvgOns, \n",
    "         allnorthAvgAvgOffs, \n",
    "         allnorthMaxAvgOns, \n",
    "         allnorthMaxAvgOffs],\n",
    "       ['city wide', \n",
    "         ALLcount, \n",
    "         ALLTripcount,\n",
    "         ALLTotalAvgOns, \n",
    "         ALLTotalAvgOffs, \n",
    "         ALLAvgAvgOns, \n",
    "         ALLAvgAvgOffs, \n",
    "         ALLMaxAvgOns, \n",
    "         ALLMaxAvgOffs]]\n",
    "  \n",
    "\n",
    "    \n",
    "    \n",
    "# Create the pandas DataFrame\n",
    "summary = pd.DataFrame(data, columns = ['Area', \n",
    "                                        'Number of Unique Stops Included', \n",
    "                                        'Trip Count',\n",
    "                                        'Total Avg Ons', \n",
    "                                        'Total Avg Offs', \n",
    "                                        'Mean Avg Ons', \n",
    "                                        'Mean Avg Offs',\n",
    "                                        'Max Avg Ons',\n",
    "                                        'Max Avg Offs'])\n",
    "  \n",
    "# print dataframe.\n",
    "summary"
   ]
  },
  {
   "cell_type": "code",
   "execution_count": 81,
   "id": "228c63e2",
   "metadata": {},
   "outputs": [],
   "source": [
    "summary.to_csv(\"summary.csv\", index=False)"
   ]
  },
  {
   "cell_type": "markdown",
   "id": "898b8a79",
   "metadata": {},
   "source": [
    "# Now looking at differences among stops in BGE"
   ]
  },
  {
   "cell_type": "code",
   "execution_count": 82,
   "id": "09ea08b9",
   "metadata": {},
   "outputs": [
    {
     "data": {
      "text/html": [
       "<div>\n",
       "<style scoped>\n",
       "    .dataframe tbody tr th:only-of-type {\n",
       "        vertical-align: middle;\n",
       "    }\n",
       "\n",
       "    .dataframe tbody tr th {\n",
       "        vertical-align: top;\n",
       "    }\n",
       "\n",
       "    .dataframe thead th {\n",
       "        text-align: right;\n",
       "    }\n",
       "</style>\n",
       "<table border=\"1\" class=\"dataframe\">\n",
       "  <thead>\n",
       "    <tr style=\"text-align: right;\">\n",
       "      <th></th>\n",
       "      <th>Route</th>\n",
       "      <th>Direction</th>\n",
       "      <th>Pattern</th>\n",
       "      <th>Trip</th>\n",
       "      <th>Trip Code</th>\n",
       "      <th>Trip Type</th>\n",
       "      <th>Stop Code</th>\n",
       "      <th>StopSeq</th>\n",
       "      <th>Avg. Ons</th>\n",
       "      <th>Avg. Offs</th>\n",
       "      <th>...</th>\n",
       "      <th>Sch. Run Time</th>\n",
       "      <th>Act. Run Time</th>\n",
       "      <th>Run Dev</th>\n",
       "      <th>stop_namestop_name</th>\n",
       "      <th>stop_id</th>\n",
       "      <th>stop_namecleanstop_name</th>\n",
       "      <th>stop_lat</th>\n",
       "      <th>stop_lon</th>\n",
       "      <th>category</th>\n",
       "      <th>cleanstop_name</th>\n",
       "    </tr>\n",
       "  </thead>\n",
       "  <tbody>\n",
       "    <tr>\n",
       "      <th>0</th>\n",
       "      <td>16</td>\n",
       "      <td>Southbound</td>\n",
       "      <td>S1</td>\n",
       "      <td>[04:41] 8550076</td>\n",
       "      <td>8550076</td>\n",
       "      <td>Revenue</td>\n",
       "      <td>29964st</td>\n",
       "      <td>(043) - Broad St &amp; Erie Av</td>\n",
       "      <td>0.727273</td>\n",
       "      <td>1.272727</td>\n",
       "      <td>...</td>\n",
       "      <td>00:03:29</td>\n",
       "      <td>00:00:48</td>\n",
       "      <td>-00:00:41</td>\n",
       "      <td>BroadStErieAv</td>\n",
       "      <td>31613.0</td>\n",
       "      <td>Germantown Av &amp; Erie Av</td>\n",
       "      <td>40.009403</td>\n",
       "      <td>-75.150954</td>\n",
       "      <td>intersection</td>\n",
       "      <td>GermantownAvErieAv</td>\n",
       "    </tr>\n",
       "    <tr>\n",
       "      <th>1</th>\n",
       "      <td>16</td>\n",
       "      <td>Southbound</td>\n",
       "      <td>S1</td>\n",
       "      <td>[04:41] 8671329</td>\n",
       "      <td>8671329</td>\n",
       "      <td>Revenue</td>\n",
       "      <td>29964st</td>\n",
       "      <td>(043) - Broad St &amp; Erie Av</td>\n",
       "      <td>0.750000</td>\n",
       "      <td>1.000000</td>\n",
       "      <td>...</td>\n",
       "      <td>00:00:38</td>\n",
       "      <td>00:00:25</td>\n",
       "      <td>-00:00:13</td>\n",
       "      <td>BroadStErieAv</td>\n",
       "      <td>31613.0</td>\n",
       "      <td>Germantown Av &amp; Erie Av</td>\n",
       "      <td>40.009403</td>\n",
       "      <td>-75.150954</td>\n",
       "      <td>intersection</td>\n",
       "      <td>GermantownAvErieAv</td>\n",
       "    </tr>\n",
       "    <tr>\n",
       "      <th>2</th>\n",
       "      <td>16</td>\n",
       "      <td>Southbound</td>\n",
       "      <td>S1</td>\n",
       "      <td>[05:06] 8550077</td>\n",
       "      <td>8550077</td>\n",
       "      <td>Revenue</td>\n",
       "      <td>29964st</td>\n",
       "      <td>(043) - Broad St &amp; Erie Av</td>\n",
       "      <td>0.500000</td>\n",
       "      <td>1.100000</td>\n",
       "      <td>...</td>\n",
       "      <td>00:00:38</td>\n",
       "      <td>00:00:33</td>\n",
       "      <td>-00:00:05</td>\n",
       "      <td>BroadStErieAv</td>\n",
       "      <td>21261.0</td>\n",
       "      <td>Erie Av &amp; Germantown Av</td>\n",
       "      <td>40.009233</td>\n",
       "      <td>-75.150671</td>\n",
       "      <td>intersection</td>\n",
       "      <td>ErieAvGermantownAv</td>\n",
       "    </tr>\n",
       "    <tr>\n",
       "      <th>3</th>\n",
       "      <td>16</td>\n",
       "      <td>Southbound</td>\n",
       "      <td>S1</td>\n",
       "      <td>[05:06] 8671330</td>\n",
       "      <td>8671330</td>\n",
       "      <td>Revenue</td>\n",
       "      <td>29964st</td>\n",
       "      <td>(043) - Broad St &amp; Erie Av</td>\n",
       "      <td>0.200000</td>\n",
       "      <td>1.400000</td>\n",
       "      <td>...</td>\n",
       "      <td>00:00:38</td>\n",
       "      <td>00:00:25</td>\n",
       "      <td>-00:00:13</td>\n",
       "      <td>BroadStErieAv</td>\n",
       "      <td>21261.0</td>\n",
       "      <td>Erie Av &amp; Germantown Av</td>\n",
       "      <td>40.009233</td>\n",
       "      <td>-75.150671</td>\n",
       "      <td>intersection</td>\n",
       "      <td>ErieAvGermantownAv</td>\n",
       "    </tr>\n",
       "    <tr>\n",
       "      <th>4</th>\n",
       "      <td>16</td>\n",
       "      <td>Southbound</td>\n",
       "      <td>S1</td>\n",
       "      <td>[05:25] 8550080</td>\n",
       "      <td>8550080</td>\n",
       "      <td>Revenue</td>\n",
       "      <td>29964st</td>\n",
       "      <td>(043) - Broad St &amp; Erie Av</td>\n",
       "      <td>0.600000</td>\n",
       "      <td>1.400000</td>\n",
       "      <td>...</td>\n",
       "      <td>00:00:38</td>\n",
       "      <td>00:00:37</td>\n",
       "      <td>-00:00:01</td>\n",
       "      <td>BroadStErieAv</td>\n",
       "      <td>30285.0</td>\n",
       "      <td>Broad St &amp; Erie Av - FS</td>\n",
       "      <td>40.009395</td>\n",
       "      <td>-75.151107</td>\n",
       "      <td>intersection</td>\n",
       "      <td>BroadStErieAvFS</td>\n",
       "    </tr>\n",
       "  </tbody>\n",
       "</table>\n",
       "<p>5 rows × 27 columns</p>\n",
       "</div>"
      ],
      "text/plain": [
       "  Route   Direction Pattern             Trip  Trip Code Trip Type Stop Code  \\\n",
       "0    16  Southbound      S1  [04:41] 8550076    8550076   Revenue   29964st   \n",
       "1    16  Southbound      S1  [04:41] 8671329    8671329   Revenue   29964st   \n",
       "2    16  Southbound      S1  [05:06] 8550077    8550077   Revenue   29964st   \n",
       "3    16  Southbound      S1  [05:06] 8671330    8671330   Revenue   29964st   \n",
       "4    16  Southbound      S1  [05:25] 8550080    8550080   Revenue   29964st   \n",
       "\n",
       "                      StopSeq  Avg. Ons  Avg. Offs  ...  Sch. Run Time  \\\n",
       "0  (043) - Broad St & Erie Av  0.727273   1.272727  ...       00:03:29   \n",
       "1  (043) - Broad St & Erie Av  0.750000   1.000000  ...       00:00:38   \n",
       "2  (043) - Broad St & Erie Av  0.500000   1.100000  ...       00:00:38   \n",
       "3  (043) - Broad St & Erie Av  0.200000   1.400000  ...       00:00:38   \n",
       "4  (043) - Broad St & Erie Av  0.600000   1.400000  ...       00:00:38   \n",
       "\n",
       "  Act. Run Time    Run Dev stop_namestop_name  stop_id  \\\n",
       "0      00:00:48  -00:00:41      BroadStErieAv  31613.0   \n",
       "1      00:00:25  -00:00:13      BroadStErieAv  31613.0   \n",
       "2      00:00:33  -00:00:05      BroadStErieAv  21261.0   \n",
       "3      00:00:25  -00:00:13      BroadStErieAv  21261.0   \n",
       "4      00:00:37  -00:00:01      BroadStErieAv  30285.0   \n",
       "\n",
       "    stop_namecleanstop_name   stop_lat   stop_lon      category  \\\n",
       "0   Germantown Av & Erie Av  40.009403 -75.150954  intersection   \n",
       "1   Germantown Av & Erie Av  40.009403 -75.150954  intersection   \n",
       "2  Erie Av & Germantown Av   40.009233 -75.150671  intersection   \n",
       "3  Erie Av & Germantown Av   40.009233 -75.150671  intersection   \n",
       "4   Broad St & Erie Av - FS  40.009395 -75.151107  intersection   \n",
       "\n",
       "       cleanstop_name  \n",
       "0  GermantownAvErieAv  \n",
       "1  GermantownAvErieAv  \n",
       "2  ErieAvGermantownAv  \n",
       "3  ErieAvGermantownAv  \n",
       "4     BroadStErieAvFS  \n",
       "\n",
       "[5 rows x 27 columns]"
      ]
     },
     "execution_count": 82,
     "metadata": {},
     "output_type": "execute_result"
    }
   ],
   "source": [
    "BGE.head()"
   ]
  },
  {
   "cell_type": "code",
   "execution_count": 93,
   "id": "703ea5da",
   "metadata": {},
   "outputs": [],
   "source": [
    "BGEstopAvgAvg = BGE.groupby(by = \"cleanstop_name\", as_index=False).mean()\n",
    "BGEstopAvgAvg = BGEstopAvgAvg[[\"cleanstop_name\", \"Avg. Ons\", \"Avg. Offs\", \"stop_lat\", \"stop_lon\"]]\n",
    "BGEstopAvgAvg = BGEstopAvgAvg.rename(columns = {\"Avg. Ons\":\"Overall Mean Avg. Ons\", \"Avg. Offs\":\"Overall Mean Avg. Offs\"})"
   ]
  },
  {
   "cell_type": "code",
   "execution_count": 94,
   "id": "6996a7ab",
   "metadata": {},
   "outputs": [
    {
     "data": {
      "text/html": [
       "<div>\n",
       "<style scoped>\n",
       "    .dataframe tbody tr th:only-of-type {\n",
       "        vertical-align: middle;\n",
       "    }\n",
       "\n",
       "    .dataframe tbody tr th {\n",
       "        vertical-align: top;\n",
       "    }\n",
       "\n",
       "    .dataframe thead th {\n",
       "        text-align: right;\n",
       "    }\n",
       "</style>\n",
       "<table border=\"1\" class=\"dataframe\">\n",
       "  <thead>\n",
       "    <tr style=\"text-align: right;\">\n",
       "      <th></th>\n",
       "      <th>cleanstop_name</th>\n",
       "      <th>Overall Mean Avg. Ons</th>\n",
       "      <th>Overall Mean Avg. Offs</th>\n",
       "      <th>stop_lat</th>\n",
       "      <th>stop_lon</th>\n",
       "    </tr>\n",
       "  </thead>\n",
       "  <tbody>\n",
       "    <tr>\n",
       "      <th>0</th>\n",
       "      <td>BroadStErieAv</td>\n",
       "      <td>1.434641</td>\n",
       "      <td>1.264706</td>\n",
       "      <td>40.009368</td>\n",
       "      <td>-75.151261</td>\n",
       "    </tr>\n",
       "    <tr>\n",
       "      <th>1</th>\n",
       "      <td>BroadStErieAvFS</td>\n",
       "      <td>0.300000</td>\n",
       "      <td>0.866667</td>\n",
       "      <td>40.009395</td>\n",
       "      <td>-75.151107</td>\n",
       "    </tr>\n",
       "    <tr>\n",
       "      <th>2</th>\n",
       "      <td>ErieAvBroadSt</td>\n",
       "      <td>2.180556</td>\n",
       "      <td>1.027778</td>\n",
       "      <td>40.009208</td>\n",
       "      <td>-75.151439</td>\n",
       "    </tr>\n",
       "    <tr>\n",
       "      <th>3</th>\n",
       "      <td>ErieAvBroadStHFS</td>\n",
       "      <td>1.991071</td>\n",
       "      <td>1.035714</td>\n",
       "      <td>40.009406</td>\n",
       "      <td>-75.152053</td>\n",
       "    </tr>\n",
       "    <tr>\n",
       "      <th>4</th>\n",
       "      <td>ErieAvBroadStXHFS</td>\n",
       "      <td>2.023077</td>\n",
       "      <td>1.146154</td>\n",
       "      <td>40.009360</td>\n",
       "      <td>-75.151722</td>\n",
       "    </tr>\n",
       "  </tbody>\n",
       "</table>\n",
       "</div>"
      ],
      "text/plain": [
       "      cleanstop_name  Overall Mean Avg. Ons  Overall Mean Avg. Offs  \\\n",
       "0      BroadStErieAv               1.434641                1.264706   \n",
       "1    BroadStErieAvFS               0.300000                0.866667   \n",
       "2      ErieAvBroadSt               2.180556                1.027778   \n",
       "3   ErieAvBroadStHFS               1.991071                1.035714   \n",
       "4  ErieAvBroadStXHFS               2.023077                1.146154   \n",
       "\n",
       "    stop_lat   stop_lon  \n",
       "0  40.009368 -75.151261  \n",
       "1  40.009395 -75.151107  \n",
       "2  40.009208 -75.151439  \n",
       "3  40.009406 -75.152053  \n",
       "4  40.009360 -75.151722  "
      ]
     },
     "execution_count": 94,
     "metadata": {},
     "output_type": "execute_result"
    }
   ],
   "source": [
    "BGEstopAvgAvg.head()"
   ]
  },
  {
   "cell_type": "code",
   "execution_count": 95,
   "id": "5ee3f469",
   "metadata": {},
   "outputs": [],
   "source": [
    "BGEstopcountAvg =  BGE.groupby(by = \"cleanstop_name\", as_index=False).sum()\n",
    "BGEstopcountAvg = BGEstopcountAvg[[\"cleanstop_name\", \"Avg. Ons\", \"Avg. Offs\",]]\n",
    "BGEstopcountAvg = BGEstopcountAvg.rename(columns = {\"Avg. Ons\":\"Total Avg. Ons\", \"Avg. Offs\":\"Total Avg. Offs\"})"
   ]
  },
  {
   "cell_type": "code",
   "execution_count": 96,
   "id": "5d1b464b",
   "metadata": {},
   "outputs": [],
   "source": [
    "BGEstopStats  = BGEstopcountAvg.merge(BGEstopAvgAvg, on=\"cleanstop_name\", how=\"inner\")"
   ]
  },
  {
   "cell_type": "code",
   "execution_count": 98,
   "id": "7aa4626d",
   "metadata": {
    "scrolled": false
   },
   "outputs": [
    {
     "data": {
      "text/html": [
       "<div>\n",
       "<style scoped>\n",
       "    .dataframe tbody tr th:only-of-type {\n",
       "        vertical-align: middle;\n",
       "    }\n",
       "\n",
       "    .dataframe tbody tr th {\n",
       "        vertical-align: top;\n",
       "    }\n",
       "\n",
       "    .dataframe thead th {\n",
       "        text-align: right;\n",
       "    }\n",
       "</style>\n",
       "<table border=\"1\" class=\"dataframe\">\n",
       "  <thead>\n",
       "    <tr style=\"text-align: right;\">\n",
       "      <th></th>\n",
       "      <th>cleanstop_name</th>\n",
       "      <th>Total Avg. Ons</th>\n",
       "      <th>Total Avg. Offs</th>\n",
       "      <th>Overall Mean Avg. Ons</th>\n",
       "      <th>Overall Mean Avg. Offs</th>\n",
       "      <th>stop_lat</th>\n",
       "      <th>stop_lon</th>\n",
       "    </tr>\n",
       "  </thead>\n",
       "  <tbody>\n",
       "    <tr>\n",
       "      <th>0</th>\n",
       "      <td>BroadStErieAv</td>\n",
       "      <td>2.869281</td>\n",
       "      <td>2.529412</td>\n",
       "      <td>1.434641</td>\n",
       "      <td>1.264706</td>\n",
       "      <td>40.009368</td>\n",
       "      <td>-75.151261</td>\n",
       "    </tr>\n",
       "    <tr>\n",
       "      <th>1</th>\n",
       "      <td>BroadStErieAvFS</td>\n",
       "      <td>0.600000</td>\n",
       "      <td>1.733333</td>\n",
       "      <td>0.300000</td>\n",
       "      <td>0.866667</td>\n",
       "      <td>40.009395</td>\n",
       "      <td>-75.151107</td>\n",
       "    </tr>\n",
       "    <tr>\n",
       "      <th>2</th>\n",
       "      <td>ErieAvBroadSt</td>\n",
       "      <td>4.361111</td>\n",
       "      <td>2.055556</td>\n",
       "      <td>2.180556</td>\n",
       "      <td>1.027778</td>\n",
       "      <td>40.009208</td>\n",
       "      <td>-75.151439</td>\n",
       "    </tr>\n",
       "    <tr>\n",
       "      <th>3</th>\n",
       "      <td>ErieAvBroadStHFS</td>\n",
       "      <td>3.982143</td>\n",
       "      <td>2.071429</td>\n",
       "      <td>1.991071</td>\n",
       "      <td>1.035714</td>\n",
       "      <td>40.009406</td>\n",
       "      <td>-75.152053</td>\n",
       "    </tr>\n",
       "    <tr>\n",
       "      <th>4</th>\n",
       "      <td>ErieAvBroadStXHFS</td>\n",
       "      <td>4.046154</td>\n",
       "      <td>2.292308</td>\n",
       "      <td>2.023077</td>\n",
       "      <td>1.146154</td>\n",
       "      <td>40.009360</td>\n",
       "      <td>-75.151722</td>\n",
       "    </tr>\n",
       "    <tr>\n",
       "      <th>5</th>\n",
       "      <td>ErieAvElderStFS</td>\n",
       "      <td>6.880952</td>\n",
       "      <td>4.000000</td>\n",
       "      <td>3.440476</td>\n",
       "      <td>2.000000</td>\n",
       "      <td>40.009053</td>\n",
       "      <td>-75.149844</td>\n",
       "    </tr>\n",
       "    <tr>\n",
       "      <th>6</th>\n",
       "      <td>ErieAvGermantownAv</td>\n",
       "      <td>0.700000</td>\n",
       "      <td>2.500000</td>\n",
       "      <td>0.350000</td>\n",
       "      <td>1.250000</td>\n",
       "      <td>40.009233</td>\n",
       "      <td>-75.150671</td>\n",
       "    </tr>\n",
       "    <tr>\n",
       "      <th>7</th>\n",
       "      <td>ErieStationBSL</td>\n",
       "      <td>1.859244</td>\n",
       "      <td>4.960084</td>\n",
       "      <td>0.464811</td>\n",
       "      <td>1.240021</td>\n",
       "      <td>40.009234</td>\n",
       "      <td>-75.151203</td>\n",
       "    </tr>\n",
       "    <tr>\n",
       "      <th>8</th>\n",
       "      <td>GermantownAvBroadSt</td>\n",
       "      <td>3.057692</td>\n",
       "      <td>2.903846</td>\n",
       "      <td>1.528846</td>\n",
       "      <td>1.451923</td>\n",
       "      <td>40.010136</td>\n",
       "      <td>-75.151187</td>\n",
       "    </tr>\n",
       "    <tr>\n",
       "      <th>9</th>\n",
       "      <td>GermantownAvErieAv</td>\n",
       "      <td>2.057105</td>\n",
       "      <td>3.995416</td>\n",
       "      <td>0.514276</td>\n",
       "      <td>0.998854</td>\n",
       "      <td>40.009211</td>\n",
       "      <td>-75.150807</td>\n",
       "    </tr>\n",
       "  </tbody>\n",
       "</table>\n",
       "</div>"
      ],
      "text/plain": [
       "        cleanstop_name  Total Avg. Ons  Total Avg. Offs  \\\n",
       "0        BroadStErieAv        2.869281         2.529412   \n",
       "1      BroadStErieAvFS        0.600000         1.733333   \n",
       "2        ErieAvBroadSt        4.361111         2.055556   \n",
       "3     ErieAvBroadStHFS        3.982143         2.071429   \n",
       "4    ErieAvBroadStXHFS        4.046154         2.292308   \n",
       "5      ErieAvElderStFS        6.880952         4.000000   \n",
       "6   ErieAvGermantownAv        0.700000         2.500000   \n",
       "7       ErieStationBSL        1.859244         4.960084   \n",
       "8  GermantownAvBroadSt        3.057692         2.903846   \n",
       "9   GermantownAvErieAv        2.057105         3.995416   \n",
       "\n",
       "   Overall Mean Avg. Ons  Overall Mean Avg. Offs   stop_lat   stop_lon  \n",
       "0               1.434641                1.264706  40.009368 -75.151261  \n",
       "1               0.300000                0.866667  40.009395 -75.151107  \n",
       "2               2.180556                1.027778  40.009208 -75.151439  \n",
       "3               1.991071                1.035714  40.009406 -75.152053  \n",
       "4               2.023077                1.146154  40.009360 -75.151722  \n",
       "5               3.440476                2.000000  40.009053 -75.149844  \n",
       "6               0.350000                1.250000  40.009233 -75.150671  \n",
       "7               0.464811                1.240021  40.009234 -75.151203  \n",
       "8               1.528846                1.451923  40.010136 -75.151187  \n",
       "9               0.514276                0.998854  40.009211 -75.150807  "
      ]
     },
     "execution_count": 98,
     "metadata": {},
     "output_type": "execute_result"
    }
   ],
   "source": [
    "BGEstopStats"
   ]
  },
  {
   "cell_type": "markdown",
   "id": "a6c210ae",
   "metadata": {},
   "source": [
    "#### export "
   ]
  },
  {
   "cell_type": "code",
   "execution_count": 138,
   "id": "552d6fab",
   "metadata": {},
   "outputs": [],
   "source": [
    "BGEstopStats.to_csv(\"BGEStopStats.csv\", index=False)"
   ]
  },
  {
   "cell_type": "markdown",
   "id": "e0a354a0",
   "metadata": {},
   "source": [
    "# Now looking at differences among stops in NORTH"
   ]
  },
  {
   "cell_type": "code",
   "execution_count": 113,
   "id": "532c7ea3",
   "metadata": {},
   "outputs": [],
   "source": [
    "NOstopAvgAvg = allnorth.groupby(by = \"cleanstop_name\", as_index=False).mean()\n",
    "NOstopAvgAvg = NOstopAvgAvg[[\"cleanstop_name\", \"Avg. Ons\", \"Avg. Offs\", \"stop_lat\", \"stop_lon\"]]\n",
    "NOstopAvgAvg = NOstopAvgAvg.rename(columns = {\"Avg. Ons\":\"Overall Mean Avg. Ons\", \"Avg. Offs\":\"Overall Mean Avg. Offs\"})"
   ]
  },
  {
   "cell_type": "code",
   "execution_count": 114,
   "id": "cfa1842f",
   "metadata": {},
   "outputs": [],
   "source": [
    "NOstopcountAvg =  allnorth.groupby(by = \"cleanstop_name\", as_index=False).sum()\n",
    "NOstopcountAvg = NOstopcountAvg[[\"cleanstop_name\", \"Avg. Ons\", \"Avg. Offs\",]]\n",
    "NOstopcountAvg = NOstopcountAvg.rename(columns = {\"Avg. Ons\":\"Total Avg. Ons\", \"Avg. Offs\":\"Total Avg. Offs\"})"
   ]
  },
  {
   "cell_type": "code",
   "execution_count": 115,
   "id": "f8c64188",
   "metadata": {},
   "outputs": [],
   "source": [
    "NOstopStats  = NOstopcountAvg.merge(NOstopAvgAvg, on=\"cleanstop_name\", how=\"inner\")"
   ]
  },
  {
   "cell_type": "code",
   "execution_count": 116,
   "id": "380dda38",
   "metadata": {
    "scrolled": true
   },
   "outputs": [
    {
     "data": {
      "text/html": [
       "<div>\n",
       "<style scoped>\n",
       "    .dataframe tbody tr th:only-of-type {\n",
       "        vertical-align: middle;\n",
       "    }\n",
       "\n",
       "    .dataframe tbody tr th {\n",
       "        vertical-align: top;\n",
       "    }\n",
       "\n",
       "    .dataframe thead th {\n",
       "        text-align: right;\n",
       "    }\n",
       "</style>\n",
       "<table border=\"1\" class=\"dataframe\">\n",
       "  <thead>\n",
       "    <tr style=\"text-align: right;\">\n",
       "      <th></th>\n",
       "      <th>cleanstop_name</th>\n",
       "      <th>Total Avg. Ons</th>\n",
       "      <th>Total Avg. Offs</th>\n",
       "      <th>Overall Mean Avg. Ons</th>\n",
       "      <th>Overall Mean Avg. Offs</th>\n",
       "      <th>stop_lat</th>\n",
       "      <th>stop_lon</th>\n",
       "    </tr>\n",
       "  </thead>\n",
       "  <tbody>\n",
       "    <tr>\n",
       "      <th>0</th>\n",
       "      <td>AbbottDrOpp</td>\n",
       "      <td>0.500000</td>\n",
       "      <td>0.357143</td>\n",
       "      <td>0.500000</td>\n",
       "      <td>0.357143</td>\n",
       "      <td>39.960287</td>\n",
       "      <td>-75.335847</td>\n",
       "    </tr>\n",
       "    <tr>\n",
       "      <th>1</th>\n",
       "      <td>AbbottDrSussexBlvd</td>\n",
       "      <td>2.833333</td>\n",
       "      <td>0.285714</td>\n",
       "      <td>1.416667</td>\n",
       "      <td>0.142857</td>\n",
       "      <td>39.959103</td>\n",
       "      <td>-75.340501</td>\n",
       "    </tr>\n",
       "    <tr>\n",
       "      <th>2</th>\n",
       "      <td>AcademyRdGrantAvFS</td>\n",
       "      <td>1.925000</td>\n",
       "      <td>0.000000</td>\n",
       "      <td>0.962500</td>\n",
       "      <td>0.000000</td>\n",
       "      <td>40.069027</td>\n",
       "      <td>-75.007883</td>\n",
       "    </tr>\n",
       "    <tr>\n",
       "      <th>3</th>\n",
       "      <td>AcademyRdOutlookAv</td>\n",
       "      <td>0.235294</td>\n",
       "      <td>0.235294</td>\n",
       "      <td>0.235294</td>\n",
       "      <td>0.235294</td>\n",
       "      <td>40.059875</td>\n",
       "      <td>-75.009403</td>\n",
       "    </tr>\n",
       "    <tr>\n",
       "      <th>4</th>\n",
       "      <td>AdamsRdAdamsCr</td>\n",
       "      <td>0.666667</td>\n",
       "      <td>0.333333</td>\n",
       "      <td>0.666667</td>\n",
       "      <td>0.333333</td>\n",
       "      <td>40.108736</td>\n",
       "      <td>-74.923006</td>\n",
       "    </tr>\n",
       "  </tbody>\n",
       "</table>\n",
       "</div>"
      ],
      "text/plain": [
       "       cleanstop_name  Total Avg. Ons  Total Avg. Offs  Overall Mean Avg. Ons  \\\n",
       "0         AbbottDrOpp        0.500000         0.357143               0.500000   \n",
       "1  AbbottDrSussexBlvd        2.833333         0.285714               1.416667   \n",
       "2  AcademyRdGrantAvFS        1.925000         0.000000               0.962500   \n",
       "3  AcademyRdOutlookAv        0.235294         0.235294               0.235294   \n",
       "4      AdamsRdAdamsCr        0.666667         0.333333               0.666667   \n",
       "\n",
       "   Overall Mean Avg. Offs   stop_lat   stop_lon  \n",
       "0                0.357143  39.960287 -75.335847  \n",
       "1                0.142857  39.959103 -75.340501  \n",
       "2                0.000000  40.069027 -75.007883  \n",
       "3                0.235294  40.059875 -75.009403  \n",
       "4                0.333333  40.108736 -74.923006  "
      ]
     },
     "execution_count": 116,
     "metadata": {},
     "output_type": "execute_result"
    }
   ],
   "source": [
    "NOstopStats.head() "
   ]
  },
  {
   "cell_type": "markdown",
   "id": "37bbcea0",
   "metadata": {},
   "source": [
    "#### export "
   ]
  },
  {
   "cell_type": "code",
   "execution_count": 136,
   "id": "c850d232",
   "metadata": {},
   "outputs": [],
   "source": [
    "NOstopStats.to_csv(\"NorthStopStats.csv\", index=False)"
   ]
  },
  {
   "cell_type": "markdown",
   "id": "366435d7",
   "metadata": {},
   "source": [
    "# Now looking at differences among stops in CENTER"
   ]
  },
  {
   "cell_type": "code",
   "execution_count": 109,
   "id": "c9e4dc46",
   "metadata": {},
   "outputs": [],
   "source": [
    "CNstopAvgAvg = center.groupby(by = \"cleanstop_name\", as_index=False).mean()\n",
    "CNstopAvgAvg = CNstopAvgAvg[[\"cleanstop_name\", \"Avg. Ons\", \"Avg. Offs\", \"stop_lat\", \"stop_lon\"]]\n",
    "CNstopAvgAvg = CNstopAvgAvg.rename(columns = {\"Avg. Ons\":\"Overall Mean Avg. Ons\", \"Avg. Offs\":\"Overall Mean Avg. Offs\"})"
   ]
  },
  {
   "cell_type": "code",
   "execution_count": 110,
   "id": "4b173bf0",
   "metadata": {},
   "outputs": [],
   "source": [
    "CNstopcountAvg =  center.groupby(by = \"cleanstop_name\", as_index=False).sum()\n",
    "CNstopcountAvg = CNstopcountAvg[[\"cleanstop_name\", \"Avg. Ons\", \"Avg. Offs\",]]\n",
    "CNstopcountAvg = CNstopcountAvg.rename(columns = {\"Avg. Ons\":\"Total Avg. Ons\", \"Avg. Offs\":\"Total Avg. Offs\"})"
   ]
  },
  {
   "cell_type": "code",
   "execution_count": 111,
   "id": "dea357c0",
   "metadata": {},
   "outputs": [],
   "source": [
    "CNstopStats  = CNstopcountAvg.merge(CNstopAvgAvg, on=\"cleanstop_name\", how=\"inner\")"
   ]
  },
  {
   "cell_type": "code",
   "execution_count": 112,
   "id": "d4a9ccac",
   "metadata": {
    "scrolled": true
   },
   "outputs": [
    {
     "data": {
      "text/html": [
       "<div>\n",
       "<style scoped>\n",
       "    .dataframe tbody tr th:only-of-type {\n",
       "        vertical-align: middle;\n",
       "    }\n",
       "\n",
       "    .dataframe tbody tr th {\n",
       "        vertical-align: top;\n",
       "    }\n",
       "\n",
       "    .dataframe thead th {\n",
       "        text-align: right;\n",
       "    }\n",
       "</style>\n",
       "<table border=\"1\" class=\"dataframe\">\n",
       "  <thead>\n",
       "    <tr style=\"text-align: right;\">\n",
       "      <th></th>\n",
       "      <th>cleanstop_name</th>\n",
       "      <th>Total Avg. Ons</th>\n",
       "      <th>Total Avg. Offs</th>\n",
       "      <th>Overall Mean Avg. Ons</th>\n",
       "      <th>Overall Mean Avg. Offs</th>\n",
       "      <th>stop_lat</th>\n",
       "      <th>stop_lon</th>\n",
       "    </tr>\n",
       "  </thead>\n",
       "  <tbody>\n",
       "    <tr>\n",
       "      <th>0</th>\n",
       "      <td>AbbottDrOpp</td>\n",
       "      <td>0.0</td>\n",
       "      <td>0.333333</td>\n",
       "      <td>0.0</td>\n",
       "      <td>0.333333</td>\n",
       "      <td>39.960287</td>\n",
       "      <td>-75.335847</td>\n",
       "    </tr>\n",
       "    <tr>\n",
       "      <th>1</th>\n",
       "      <td>AbbottsfordAvFoxSt</td>\n",
       "      <td>0.1</td>\n",
       "      <td>0.100000</td>\n",
       "      <td>0.1</td>\n",
       "      <td>0.100000</td>\n",
       "      <td>40.014236</td>\n",
       "      <td>-75.178178</td>\n",
       "    </tr>\n",
       "    <tr>\n",
       "      <th>2</th>\n",
       "      <td>AbbottsfordAvHenryAvFS</td>\n",
       "      <td>1.0</td>\n",
       "      <td>0.272727</td>\n",
       "      <td>1.0</td>\n",
       "      <td>0.272727</td>\n",
       "      <td>40.011655</td>\n",
       "      <td>-75.181910</td>\n",
       "    </tr>\n",
       "    <tr>\n",
       "      <th>3</th>\n",
       "      <td>AbbottsfordAvHenryAvMBFS</td>\n",
       "      <td>0.3</td>\n",
       "      <td>0.000000</td>\n",
       "      <td>0.3</td>\n",
       "      <td>0.000000</td>\n",
       "      <td>40.012865</td>\n",
       "      <td>-75.180145</td>\n",
       "    </tr>\n",
       "    <tr>\n",
       "      <th>4</th>\n",
       "      <td>AcademyRdAmityRd</td>\n",
       "      <td>0.0</td>\n",
       "      <td>0.300000</td>\n",
       "      <td>0.0</td>\n",
       "      <td>0.150000</td>\n",
       "      <td>40.083301</td>\n",
       "      <td>-74.991656</td>\n",
       "    </tr>\n",
       "  </tbody>\n",
       "</table>\n",
       "</div>"
      ],
      "text/plain": [
       "             cleanstop_name  Total Avg. Ons  Total Avg. Offs  \\\n",
       "0               AbbottDrOpp             0.0         0.333333   \n",
       "1        AbbottsfordAvFoxSt             0.1         0.100000   \n",
       "2    AbbottsfordAvHenryAvFS             1.0         0.272727   \n",
       "3  AbbottsfordAvHenryAvMBFS             0.3         0.000000   \n",
       "4          AcademyRdAmityRd             0.0         0.300000   \n",
       "\n",
       "   Overall Mean Avg. Ons  Overall Mean Avg. Offs   stop_lat   stop_lon  \n",
       "0                    0.0                0.333333  39.960287 -75.335847  \n",
       "1                    0.1                0.100000  40.014236 -75.178178  \n",
       "2                    1.0                0.272727  40.011655 -75.181910  \n",
       "3                    0.3                0.000000  40.012865 -75.180145  \n",
       "4                    0.0                0.150000  40.083301 -74.991656  "
      ]
     },
     "execution_count": 112,
     "metadata": {},
     "output_type": "execute_result"
    }
   ],
   "source": [
    "CNstopStats.head() "
   ]
  },
  {
   "cell_type": "markdown",
   "id": "a37ba276",
   "metadata": {},
   "source": [
    "#### export "
   ]
  },
  {
   "cell_type": "code",
   "execution_count": 137,
   "id": "449f3ace",
   "metadata": {},
   "outputs": [],
   "source": [
    "CNstopStats.to_csv(\"CenterStopStats.csv\", index=False)"
   ]
  },
  {
   "cell_type": "markdown",
   "id": "0ad4f727",
   "metadata": {},
   "source": [
    "# Now looking at differences among stops CITYWIDE"
   ]
  },
  {
   "cell_type": "markdown",
   "id": "e223755c",
   "metadata": {},
   "source": [
    "#### first getting lat and long"
   ]
  },
  {
   "cell_type": "code",
   "execution_count": 119,
   "id": "20867b5d",
   "metadata": {},
   "outputs": [],
   "source": [
    "allseptabus = pd.read_csv(r'.\\data\\septa_bus_stops_all.csv')\n"
   ]
  },
  {
   "cell_type": "code",
   "execution_count": 120,
   "id": "db46f1ac",
   "metadata": {},
   "outputs": [
    {
     "name": "stdout",
     "output_type": "stream",
     "text": [
      "done\n"
     ]
    }
   ],
   "source": [
    "stopseq3 = []\n",
    "for stop in allseptabus.stop_name: \n",
    "    newstop = re.sub(\"[^a-zA-Z]+\", \"\", stop)\n",
    "    stopseq3.append(newstop)\n",
    "print('done')\n"
   ]
  },
  {
   "cell_type": "code",
   "execution_count": 121,
   "id": "1f2fc47e",
   "metadata": {},
   "outputs": [],
   "source": [
    "allseptabus[\"cleanstop_name\"] = stopseq3"
   ]
  },
  {
   "cell_type": "code",
   "execution_count": 123,
   "id": "a45bc714",
   "metadata": {},
   "outputs": [
    {
     "name": "stdout",
     "output_type": "stream",
     "text": [
      "done\n"
     ]
    }
   ],
   "source": [
    "allstopsgeom = allstops.join( allseptabus, rsuffix= \"cleanstop_name\", lsuffix = \"stop_name\")\n",
    "print(\"done\")"
   ]
  },
  {
   "cell_type": "code",
   "execution_count": 127,
   "id": "df5a0e39",
   "metadata": {
    "scrolled": true
   },
   "outputs": [
    {
     "data": {
      "text/html": [
       "<div>\n",
       "<style scoped>\n",
       "    .dataframe tbody tr th:only-of-type {\n",
       "        vertical-align: middle;\n",
       "    }\n",
       "\n",
       "    .dataframe tbody tr th {\n",
       "        vertical-align: top;\n",
       "    }\n",
       "\n",
       "    .dataframe thead th {\n",
       "        text-align: right;\n",
       "    }\n",
       "</style>\n",
       "<table border=\"1\" class=\"dataframe\">\n",
       "  <thead>\n",
       "    <tr style=\"text-align: right;\">\n",
       "      <th></th>\n",
       "      <th>Unnamed: 0</th>\n",
       "      <th>Route</th>\n",
       "      <th>Direction</th>\n",
       "      <th>Pattern</th>\n",
       "      <th>Trip</th>\n",
       "      <th>Trip Code</th>\n",
       "      <th>Trip Type</th>\n",
       "      <th>Stop Code</th>\n",
       "      <th>StopSeq</th>\n",
       "      <th>Avg. Ons</th>\n",
       "      <th>...</th>\n",
       "      <th>stop_namecleanstop_name</th>\n",
       "      <th>stop_lat</th>\n",
       "      <th>stop_lon</th>\n",
       "      <th>location_type</th>\n",
       "      <th>parent_station</th>\n",
       "      <th>zone_id</th>\n",
       "      <th>wheelchair_boarding</th>\n",
       "      <th>the_geom</th>\n",
       "      <th>the_geom_2272</th>\n",
       "      <th>cleanstop_name</th>\n",
       "    </tr>\n",
       "  </thead>\n",
       "  <tbody>\n",
       "    <tr>\n",
       "      <th>0</th>\n",
       "      <td>1.0</td>\n",
       "      <td>1</td>\n",
       "      <td>Northbound</td>\n",
       "      <td>N08</td>\n",
       "      <td>[05:13] 8548782</td>\n",
       "      <td>8548782</td>\n",
       "      <td>Revenue</td>\n",
       "      <td>4st</td>\n",
       "      <td>(001) - Roosevelt Blvd &amp; Broad St - FS</td>\n",
       "      <td>9.696970</td>\n",
       "      <td>...</td>\n",
       "      <td>Roosevelt Blvd &amp; Comly Rd</td>\n",
       "      <td>40.105172</td>\n",
       "      <td>-75.001575</td>\n",
       "      <td>NaN</td>\n",
       "      <td>NaN</td>\n",
       "      <td>1.0</td>\n",
       "      <td>1.0</td>\n",
       "      <td>0101000020E6100000705F07CE19C052C03B3AAE46760D...</td>\n",
       "      <td>0101000020E0080000705F07CE19C052C03B3AAE46760D...</td>\n",
       "      <td>RooseveltBlvdComlyRd</td>\n",
       "    </tr>\n",
       "    <tr>\n",
       "      <th>0</th>\n",
       "      <td>NaN</td>\n",
       "      <td>1</td>\n",
       "      <td>Northbound</td>\n",
       "      <td>N08</td>\n",
       "      <td>[05:13] 8670224</td>\n",
       "      <td>8670224</td>\n",
       "      <td>Revenue</td>\n",
       "      <td>4st</td>\n",
       "      <td>(001) - Roosevelt Blvd &amp; Broad St - FS</td>\n",
       "      <td>9.000000</td>\n",
       "      <td>...</td>\n",
       "      <td>Roosevelt Blvd &amp; Comly Rd</td>\n",
       "      <td>40.105172</td>\n",
       "      <td>-75.001575</td>\n",
       "      <td>NaN</td>\n",
       "      <td>NaN</td>\n",
       "      <td>1.0</td>\n",
       "      <td>1.0</td>\n",
       "      <td>0101000020E6100000705F07CE19C052C03B3AAE46760D...</td>\n",
       "      <td>0101000020E0080000705F07CE19C052C03B3AAE46760D...</td>\n",
       "      <td>RooseveltBlvdComlyRd</td>\n",
       "    </tr>\n",
       "    <tr>\n",
       "      <th>1</th>\n",
       "      <td>2.0</td>\n",
       "      <td>1</td>\n",
       "      <td>Northbound</td>\n",
       "      <td>N08</td>\n",
       "      <td>[05:13] 8548782</td>\n",
       "      <td>8548782</td>\n",
       "      <td>Revenue</td>\n",
       "      <td>22406st</td>\n",
       "      <td>(002) - Roosevelt Blvd &amp; 9th St</td>\n",
       "      <td>2.303030</td>\n",
       "      <td>...</td>\n",
       "      <td>Roosevelt Blvd &amp; Solly Av - FS</td>\n",
       "      <td>40.058873</td>\n",
       "      <td>-75.045067</td>\n",
       "      <td>NaN</td>\n",
       "      <td>NaN</td>\n",
       "      <td>1.0</td>\n",
       "      <td>1.0</td>\n",
       "      <td>0101000020E61000003FC8B260E2C252C007CF84268907...</td>\n",
       "      <td>0101000020E00800003FC8B260E2C252C007CF84268907...</td>\n",
       "      <td>RooseveltBlvdSollyAvFS</td>\n",
       "    </tr>\n",
       "    <tr>\n",
       "      <th>1</th>\n",
       "      <td>NaN</td>\n",
       "      <td>1</td>\n",
       "      <td>Northbound</td>\n",
       "      <td>N08</td>\n",
       "      <td>[05:13] 8670224</td>\n",
       "      <td>8670224</td>\n",
       "      <td>Revenue</td>\n",
       "      <td>22406st</td>\n",
       "      <td>(002) - Roosevelt Blvd &amp; 9th St</td>\n",
       "      <td>2.235294</td>\n",
       "      <td>...</td>\n",
       "      <td>Roosevelt Blvd &amp; Solly Av - FS</td>\n",
       "      <td>40.058873</td>\n",
       "      <td>-75.045067</td>\n",
       "      <td>NaN</td>\n",
       "      <td>NaN</td>\n",
       "      <td>1.0</td>\n",
       "      <td>1.0</td>\n",
       "      <td>0101000020E61000003FC8B260E2C252C007CF84268907...</td>\n",
       "      <td>0101000020E00800003FC8B260E2C252C007CF84268907...</td>\n",
       "      <td>RooseveltBlvdSollyAvFS</td>\n",
       "    </tr>\n",
       "    <tr>\n",
       "      <th>2</th>\n",
       "      <td>3.0</td>\n",
       "      <td>1</td>\n",
       "      <td>Northbound</td>\n",
       "      <td>N08</td>\n",
       "      <td>[05:13] 8548782</td>\n",
       "      <td>8548782</td>\n",
       "      <td>Revenue</td>\n",
       "      <td>23308st</td>\n",
       "      <td>(003) - Roosevelt Blvd &amp; Wyoming Av</td>\n",
       "      <td>0.000000</td>\n",
       "      <td>...</td>\n",
       "      <td>Roosevelt Blvd &amp; Cottman Av</td>\n",
       "      <td>40.044862</td>\n",
       "      <td>-75.054530</td>\n",
       "      <td>NaN</td>\n",
       "      <td>NaN</td>\n",
       "      <td>1.0</td>\n",
       "      <td>1.0</td>\n",
       "      <td>0101000020E6100000A8A9656B7DC352C0A56ABB09BE05...</td>\n",
       "      <td>0101000020E0080000A8A9656B7DC352C0A56ABB09BE05...</td>\n",
       "      <td>RooseveltBlvdCottmanAv</td>\n",
       "    </tr>\n",
       "  </tbody>\n",
       "</table>\n",
       "<p>5 rows × 34 columns</p>\n",
       "</div>"
      ],
      "text/plain": [
       "   Unnamed: 0 Route   Direction Pattern             Trip  Trip Code Trip Type  \\\n",
       "0         1.0     1  Northbound     N08  [05:13] 8548782    8548782   Revenue   \n",
       "0         NaN     1  Northbound     N08  [05:13] 8670224    8670224   Revenue   \n",
       "1         2.0     1  Northbound     N08  [05:13] 8548782    8548782   Revenue   \n",
       "1         NaN     1  Northbound     N08  [05:13] 8670224    8670224   Revenue   \n",
       "2         3.0     1  Northbound     N08  [05:13] 8548782    8548782   Revenue   \n",
       "\n",
       "  Stop Code                                 StopSeq  Avg. Ons  ...  \\\n",
       "0       4st  (001) - Roosevelt Blvd & Broad St - FS  9.696970  ...   \n",
       "0       4st  (001) - Roosevelt Blvd & Broad St - FS  9.000000  ...   \n",
       "1   22406st         (002) - Roosevelt Blvd & 9th St  2.303030  ...   \n",
       "1   22406st         (002) - Roosevelt Blvd & 9th St  2.235294  ...   \n",
       "2   23308st     (003) - Roosevelt Blvd & Wyoming Av  0.000000  ...   \n",
       "\n",
       "          stop_namecleanstop_name   stop_lat   stop_lon location_type  \\\n",
       "0       Roosevelt Blvd & Comly Rd  40.105172 -75.001575           NaN   \n",
       "0       Roosevelt Blvd & Comly Rd  40.105172 -75.001575           NaN   \n",
       "1  Roosevelt Blvd & Solly Av - FS  40.058873 -75.045067           NaN   \n",
       "1  Roosevelt Blvd & Solly Av - FS  40.058873 -75.045067           NaN   \n",
       "2     Roosevelt Blvd & Cottman Av  40.044862 -75.054530           NaN   \n",
       "\n",
       "  parent_station zone_id wheelchair_boarding  \\\n",
       "0            NaN     1.0                 1.0   \n",
       "0            NaN     1.0                 1.0   \n",
       "1            NaN     1.0                 1.0   \n",
       "1            NaN     1.0                 1.0   \n",
       "2            NaN     1.0                 1.0   \n",
       "\n",
       "                                            the_geom  \\\n",
       "0  0101000020E6100000705F07CE19C052C03B3AAE46760D...   \n",
       "0  0101000020E6100000705F07CE19C052C03B3AAE46760D...   \n",
       "1  0101000020E61000003FC8B260E2C252C007CF84268907...   \n",
       "1  0101000020E61000003FC8B260E2C252C007CF84268907...   \n",
       "2  0101000020E6100000A8A9656B7DC352C0A56ABB09BE05...   \n",
       "\n",
       "                                       the_geom_2272          cleanstop_name  \n",
       "0  0101000020E0080000705F07CE19C052C03B3AAE46760D...    RooseveltBlvdComlyRd  \n",
       "0  0101000020E0080000705F07CE19C052C03B3AAE46760D...    RooseveltBlvdComlyRd  \n",
       "1  0101000020E00800003FC8B260E2C252C007CF84268907...  RooseveltBlvdSollyAvFS  \n",
       "1  0101000020E00800003FC8B260E2C252C007CF84268907...  RooseveltBlvdSollyAvFS  \n",
       "2  0101000020E0080000A8A9656B7DC352C0A56ABB09BE05...  RooseveltBlvdCottmanAv  \n",
       "\n",
       "[5 rows x 34 columns]"
      ]
     },
     "execution_count": 127,
     "metadata": {},
     "output_type": "execute_result"
    }
   ],
   "source": [
    "allstopsgeom.head()"
   ]
  },
  {
   "cell_type": "markdown",
   "id": "1e994f14",
   "metadata": {},
   "source": [
    "### quick export all stop geom\n"
   ]
  },
  {
   "cell_type": "code",
   "execution_count": 134,
   "id": "3f8f95da",
   "metadata": {},
   "outputs": [],
   "source": [
    "allstopsgeom.to_csv(\"allstops_geom.csv\", index=False)"
   ]
  },
  {
   "cell_type": "code",
   "execution_count": 129,
   "id": "1dad7042",
   "metadata": {},
   "outputs": [],
   "source": [
    "CitystopAvgAvg = allstopsgeom.groupby(by = \"stop_namecleanstop_name\", as_index=False).mean()\n",
    "CitystopAvgAvg = CitystopAvgAvg[[\"stop_namecleanstop_name\", \"Avg. Ons\", \"Avg. Offs\", \"stop_lat\", \"stop_lon\"]]\n",
    "CitystopAvgAvg = CitystopAvgAvg.rename(columns = {\"Avg. Ons\":\"Overall Mean Avg. Ons\", \"Avg. Offs\":\"Overall Mean Avg. Offs\"})"
   ]
  },
  {
   "cell_type": "code",
   "execution_count": 130,
   "id": "07ec95c9",
   "metadata": {},
   "outputs": [],
   "source": [
    "CitystopcountAvg =  allstopsgeom.groupby(by = \"stop_namecleanstop_name\", as_index=False).sum()\n",
    "CitystopcountAvg = CitystopcountAvg[[\"stop_namecleanstop_name\", \"Avg. Ons\", \"Avg. Offs\",]]\n",
    "CitystopcountAvg = CitystopcountAvg.rename(columns = {\"Avg. Ons\":\"Total Avg. Ons\", \"Avg. Offs\":\"Total Avg. Offs\"})"
   ]
  },
  {
   "cell_type": "code",
   "execution_count": 131,
   "id": "eb6220db",
   "metadata": {},
   "outputs": [],
   "source": [
    "CitystopStats  = CitystopcountAvg.merge(CitystopAvgAvg, on=\"stop_namecleanstop_name\", how=\"inner\")"
   ]
  },
  {
   "cell_type": "code",
   "execution_count": 132,
   "id": "d841aa88",
   "metadata": {
    "scrolled": false
   },
   "outputs": [
    {
     "data": {
      "text/html": [
       "<div>\n",
       "<style scoped>\n",
       "    .dataframe tbody tr th:only-of-type {\n",
       "        vertical-align: middle;\n",
       "    }\n",
       "\n",
       "    .dataframe tbody tr th {\n",
       "        vertical-align: top;\n",
       "    }\n",
       "\n",
       "    .dataframe thead th {\n",
       "        text-align: right;\n",
       "    }\n",
       "</style>\n",
       "<table border=\"1\" class=\"dataframe\">\n",
       "  <thead>\n",
       "    <tr style=\"text-align: right;\">\n",
       "      <th></th>\n",
       "      <th>stop_namecleanstop_name</th>\n",
       "      <th>Total Avg. Ons</th>\n",
       "      <th>Total Avg. Offs</th>\n",
       "      <th>Overall Mean Avg. Ons</th>\n",
       "      <th>Overall Mean Avg. Offs</th>\n",
       "      <th>stop_lat</th>\n",
       "      <th>stop_lon</th>\n",
       "    </tr>\n",
       "  </thead>\n",
       "  <tbody>\n",
       "    <tr>\n",
       "      <th>0</th>\n",
       "      <td>10 Campus Blvd - FS</td>\n",
       "      <td>0.111111</td>\n",
       "      <td>0.000000</td>\n",
       "      <td>0.055556</td>\n",
       "      <td>0.000000</td>\n",
       "      <td>39.976832</td>\n",
       "      <td>-75.416319</td>\n",
       "    </tr>\n",
       "    <tr>\n",
       "      <th>1</th>\n",
       "      <td>1000 Tinicum Island Rd</td>\n",
       "      <td>0.181818</td>\n",
       "      <td>1.113636</td>\n",
       "      <td>0.090909</td>\n",
       "      <td>0.556818</td>\n",
       "      <td>39.870136</td>\n",
       "      <td>-75.270830</td>\n",
       "    </tr>\n",
       "    <tr>\n",
       "      <th>2</th>\n",
       "      <td>1000 Tinicum Island Rd - MBNS</td>\n",
       "      <td>0.294118</td>\n",
       "      <td>0.000000</td>\n",
       "      <td>0.147059</td>\n",
       "      <td>0.000000</td>\n",
       "      <td>39.871082</td>\n",
       "      <td>-75.271347</td>\n",
       "    </tr>\n",
       "    <tr>\n",
       "      <th>3</th>\n",
       "      <td>10th &amp; Main St</td>\n",
       "      <td>0.333333</td>\n",
       "      <td>0.100000</td>\n",
       "      <td>0.166667</td>\n",
       "      <td>0.050000</td>\n",
       "      <td>40.193253</td>\n",
       "      <td>-75.529552</td>\n",
       "    </tr>\n",
       "    <tr>\n",
       "      <th>4</th>\n",
       "      <td>10th Av &amp; Church St</td>\n",
       "      <td>0.400000</td>\n",
       "      <td>2.066667</td>\n",
       "      <td>0.200000</td>\n",
       "      <td>1.033333</td>\n",
       "      <td>40.194020</td>\n",
       "      <td>-75.530418</td>\n",
       "    </tr>\n",
       "  </tbody>\n",
       "</table>\n",
       "</div>"
      ],
      "text/plain": [
       "         stop_namecleanstop_name  Total Avg. Ons  Total Avg. Offs  \\\n",
       "0            10 Campus Blvd - FS        0.111111         0.000000   \n",
       "1         1000 Tinicum Island Rd        0.181818         1.113636   \n",
       "2  1000 Tinicum Island Rd - MBNS        0.294118         0.000000   \n",
       "3                 10th & Main St        0.333333         0.100000   \n",
       "4            10th Av & Church St        0.400000         2.066667   \n",
       "\n",
       "   Overall Mean Avg. Ons  Overall Mean Avg. Offs   stop_lat   stop_lon  \n",
       "0               0.055556                0.000000  39.976832 -75.416319  \n",
       "1               0.090909                0.556818  39.870136 -75.270830  \n",
       "2               0.147059                0.000000  39.871082 -75.271347  \n",
       "3               0.166667                0.050000  40.193253 -75.529552  \n",
       "4               0.200000                1.033333  40.194020 -75.530418  "
      ]
     },
     "execution_count": 132,
     "metadata": {},
     "output_type": "execute_result"
    }
   ],
   "source": [
    "CitystopStats.head() "
   ]
  },
  {
   "cell_type": "markdown",
   "id": "396ab088",
   "metadata": {},
   "source": [
    "#### export "
   ]
  },
  {
   "cell_type": "code",
   "execution_count": 135,
   "id": "7c796f6e",
   "metadata": {},
   "outputs": [],
   "source": [
    "CitystopStats.to_csv(\"AllStopStats.csv\", index=False)"
   ]
  }
 ],
 "metadata": {
  "kernelspec": {
   "display_name": "Python 3 (ipykernel)",
   "language": "python",
   "name": "python3"
  },
  "language_info": {
   "codemirror_mode": {
    "name": "ipython",
    "version": 3
   },
   "file_extension": ".py",
   "mimetype": "text/x-python",
   "name": "python",
   "nbconvert_exporter": "python",
   "pygments_lexer": "ipython3",
   "version": "3.8.12"
  }
 },
 "nbformat": 4,
 "nbformat_minor": 5
}
